{
 "cells": [
  {
   "cell_type": "markdown",
   "metadata": {},
   "source": [
    "# Hybrid GPU-QPU Optimization"
   ]
  },
  {
   "cell_type": "markdown",
   "metadata": {},
   "source": [
    "As *PyTorch* natively supports *GPU-accelerated classical processing*, and *Forest* provides quantum hardware access in the form of QPUs, with very little modification, we can run the PyTorch example from last tutorial as a hybrid *GPU-QPU* optimization:"
   ]
  },
  {
   "cell_type": "code",
   "execution_count": null,
   "metadata": {
    "scrolled": true
   },
   "outputs": [],
   "source": [
    "import pennylane as qml\n",
    "import torch\n",
    "from torch.autograd import Variable\n",
    "\n",
    "qpu = qml.device('forest.qpu', device='Aspen-4-2Q-A')\n",
    "\n",
    "@qml.qnode(dev, interface='torch')\n",
    "def circuit(phi, theta):\n",
    "    qml.RX(theta, wires=0)\n",
    "    qml.RZ(phi, wires=0)\n",
    "    return qml.expval.PauliZ(0)\n",
    "\n",
    "def cost(phi, theta, step):\n",
    "    target = -(-1)**(step // 100)\n",
    "    return torch.abs(circuit(phi, theta) - target)**2\n",
    "\n",
    "phi = Variable(torch.tensor(1., device='cuda'), requires_grad=True)\n",
    "theta = Variable(torch.tensor(0.05, device='cuda'), requires_grad=True)\n",
    "opt = torch.optim.Adam([phi, theta], lr = 0.1)\n",
    "\n",
    "for i in range(400):\n",
    "    opt.zero_grad()\n",
    "    loss = cost(phi, theta, i)\n",
    "    loss.backward()\n",
    "    opt.step()"
   ]
  },
  {
   "cell_type": "markdown",
   "metadata": {},
   "source": [
    "<div class=\"admonition note\">\n",
    "\n",
    "<div class=\"admonition-title\">Note</div>\n",
    "\n",
    "Access to the hardware *Rigetti* provides needs to be purchased!\n",
    "\n",
    "</div>\n",
    "\n",
    "</div>"
   ]
  },
  {
   "cell_type": "markdown",
   "metadata": {},
   "source": [
    "When using a classical interface that supports GPUs, the QNode will automatically copy any tensor arguments to the CPU before applying them on the specified quantum device. Once done, it will return a tensor containing the QNode result, and automatically copy it back to the GPU for any further classical processing."
   ]
  }
 ],
 "metadata": {
  "kernelspec": {
   "display_name": "Python 3",
   "language": "python",
   "name": "python3"
  },
  "language_info": {
   "codemirror_mode": {
    "name": "ipython",
    "version": 3
   },
   "file_extension": ".py",
   "mimetype": "text/x-python",
   "name": "python",
   "nbconvert_exporter": "python",
   "pygments_lexer": "ipython3",
   "version": "3.7.3"
  }
 },
 "nbformat": 4,
 "nbformat_minor": 2
}
