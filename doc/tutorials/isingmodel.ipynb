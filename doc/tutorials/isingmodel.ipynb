{
 "cells": [
  {
   "cell_type": "markdown",
   "metadata": {},
   "source": [
    "# Qubit Optimization for 3-qubit Ising model "
   ]
  },
  {
   "cell_type": "markdown",
   "metadata": {},
   "source": [
    "We will be comparing PennyLane *gradient descent optimizer* with that of `Tensorflow` and `Pytorch` optimizer for this quantum system. For details on these interfaces, see [pennylane interfaces](https://pennylane.readthedocs.io/en/latest/code/interfaces.html).\n",
    "\n",
    "Ising model is an example of a system whose optimization landscape is non-convex and hence using gradient descent is not the best solution since the optimization can get stuck in local minimas. Quantum annealing (for example on D-wave system) can be used instead. \n",
    "\n",
    "The energy for this system is given by:\n",
    "$$ H=-\\sum_{<i,j>} J_{ij} \\sigma_i \\sigma_{j}$$\n",
    "\n",
    "where each spin can be in +1 or -1 state and $J_{ij}$ are nearest neighbour coupling strengths.\n",
    "\n",
    "For simplicity, we will assume that spin 1 is always in up state (+1 eigenstate of Pauli-Z operator)"
   ]
  },
  {
   "cell_type": "markdown",
   "metadata": {},
   "source": [
    "> <font color=brown>**NOTE:** To follow along with this tutorial on your own computer, you will require the the following dependencies:\n",
    "    \n",
    "> - [PyTorch](https://pytorch.org/get-started/locally/) in order to access the PyTorch QNode interface. Follow the link for instructions on the best way to install PyTorch for your system.\n",
    "\n",
    "> - [TensorFlow](https://www.tensorflow.org/) in order to access the TensorFlow QNode interface. Follow the link for instructions on the best way to install Tensorflow for your system. \n",
    "</font>"
   ]
  },
  {
   "cell_type": "markdown",
   "metadata": {},
   "source": [
    "## PennyLane Optimizer"
   ]
  },
  {
   "cell_type": "code",
   "execution_count": 1,
   "metadata": {},
   "outputs": [],
   "source": [
    "# import PennyLane library\n",
    "import pennylane as qml\n",
    "from pennylane import numpy as np"
   ]
  },
  {
   "cell_type": "code",
   "execution_count": 2,
   "metadata": {},
   "outputs": [],
   "source": [
    "# create our three devices. \n",
    "dev1 = qml.device('default.qubit', wires=3)\n",
    "dev2 = qml.device('default.qubit', wires=3)\n",
    "dev3 = qml.device('default.qubit', wires=3)"
   ]
  },
  {
   "cell_type": "code",
   "execution_count": 3,
   "metadata": {},
   "outputs": [],
   "source": [
    "# We can use the GENERAL PennyLane Rot(phi,theta,omega,wires) operation\n",
    "@qml.qnode(dev1)\n",
    "def circuit1(p1, p2):\n",
    "    qml.Rot(p1[0],p1[1],p1[2], wires =1)\n",
    "    qml.Rot(p2[0],p2[1],p2[2], wires =2)\n",
    "    return qml.expval.PauliZ(0), qml.expval.PauliZ(1), qml.expval.PauliZ(2) "
   ]
  },
  {
   "cell_type": "markdown",
   "metadata": {},
   "source": [
    "Our cost function is the energy of the spin configuration which we will optimize using gradient descent.\n",
    "\n",
    "Let the coupling matrix be J = [1,-1]"
   ]
  },
  {
   "cell_type": "code",
   "execution_count": 4,
   "metadata": {},
   "outputs": [],
   "source": [
    "def cost1(var):\n",
    "    spins = circuit1(var[0],var[1])\n",
    "    energy = -(1*spins[0]*spins[1]) - (-1*spins[1]*spins[2])\n",
    "    return energy"
   ]
  },
  {
   "cell_type": "markdown",
   "metadata": {},
   "source": [
    "Lets test these functions for [1,-1,-1] spin configuration. \n",
    "\n",
    "Total energy for this Ising model should be\n",
    "\n",
    "$H = -1(J1.s1.s2 + J2.s2.s3) = -1 (1*1*-1 + -1*-1*-1) = 2 $\n"
   ]
  },
  {
   "cell_type": "code",
   "execution_count": 5,
   "metadata": {},
   "outputs": [
    {
     "name": "stdout",
     "output_type": "stream",
     "text": [
      "2.0\n"
     ]
    }
   ],
   "source": [
    "# You can easily guess the angles if you look at the Rot(phi,theta,omega)\n",
    "t1 = np.array([0, np.pi, 0])    #spin 2 in -1 state\n",
    "t2 = np.array([0,np.pi ,0])     #spin 3 in -1 state\n",
    "print(cost1([t1,t2]))"
   ]
  },
  {
   "cell_type": "markdown",
   "metadata": {},
   "source": [
    "Now we optimize using PennyLane NumPy gradient descent optimizer\n"
   ]
  },
  {
   "cell_type": "code",
   "execution_count": 6,
   "metadata": {},
   "outputs": [
    {
     "name": "stdout",
     "output_type": "stream",
     "text": [
      "-0.818302157836952\n"
     ]
    }
   ],
   "source": [
    "# initialize the parameters to some random values\n",
    "pl1 = np.pi*(np.random.ranf(3))\n",
    "pl2 = np.pi*(np.random.ranf(3))\n",
    "var_init = np.array([pl1,pl2])\n",
    "cost_init = cost1(var_init)\n",
    "print(cost_init)"
   ]
  },
  {
   "cell_type": "markdown",
   "metadata": {},
   "source": [
    "The minimun energy should be -2 for [1,1,-1] spin configuration which corresponds to the angles of [0,0,0] and [0,pi,0] for the spin 2 and spin 3 respectively. "
   ]
  },
  {
   "cell_type": "code",
   "execution_count": 7,
   "metadata": {},
   "outputs": [
    {
     "name": "stdout",
     "output_type": "stream",
     "text": [
      "Energy after step     5: -1.9713433 | Angles: [[2.11397782e-01 2.61730009e-03 1.90231741e+00]\n",
      " [1.83438711e+00 2.90164357e+00 3.13683905e+00]]\n",
      "Energy after step    10: -1.9998224 | Angles: [[2.11397782e-01 9.14342134e-07 1.90231741e+00]\n",
      " [1.83438711e+00 3.12274773e+00 3.13683905e+00]]\n",
      "Energy after step    15: -1.9999989 | Angles: [[2.11397782e-01 2.92751109e-10 1.90231741e+00]\n",
      " [1.83438711e+00 3.14012718e+00 3.13683905e+00]]\n",
      "Energy after step    20: -2.0000000 | Angles: [[2.11397782e-01 9.37242757e-14 1.90231741e+00]\n",
      " [1.83438711e+00 3.14147870e+00 3.13683905e+00]]\n",
      "Energy after step    25: -2.0000000 | Angles: [[ 2.11397782e-01 -7.51740210e-19  1.90231741e+00]\n",
      " [ 1.83438711e+00  3.14158379e+00  3.13683905e+00]]\n",
      "Energy after step    30: -2.0000000 | Angles: [[ 2.11397782e-01 -7.51740210e-19  1.90231741e+00]\n",
      " [ 1.83438711e+00  3.14159196e+00  3.13683905e+00]]\n",
      "Energy after step    35: -2.0000000 | Angles: [[ 2.11397782e-01 -7.51740210e-19  1.90231741e+00]\n",
      " [ 1.83438711e+00  3.14159260e+00  3.13683905e+00]]\n",
      "Energy after step    40: -2.0000000 | Angles: [[ 2.11397782e-01 -7.51740210e-19  1.90231741e+00]\n",
      " [ 1.83438711e+00  3.14159265e+00  3.13683905e+00]]\n",
      "Energy after step    45: -2.0000000 | Angles: [[ 2.11397782e-01 -7.51740210e-19  1.90231741e+00]\n",
      " [ 1.83438711e+00  3.14159265e+00  3.13683905e+00]]\n",
      "Energy after step    50: -2.0000000 | Angles: [[ 2.11397782e-01 -7.51740210e-19  1.90231741e+00]\n",
      " [ 1.83438711e+00  3.14159265e+00  3.13683905e+00]]\n",
      "Energy after step    55: -2.0000000 | Angles: [[ 2.11397782e-01 -7.51740210e-19  1.90231741e+00]\n",
      " [ 1.83438711e+00  3.14159265e+00  3.13683905e+00]]\n",
      "Energy after step    60: -2.0000000 | Angles: [[ 2.11397782e-01 -7.51740210e-19  1.90231741e+00]\n",
      " [ 1.83438711e+00  3.14159265e+00  3.13683905e+00]]\n",
      "Energy after step    65: -2.0000000 | Angles: [[ 2.11397782e-01 -7.51740210e-19  1.90231741e+00]\n",
      " [ 1.83438711e+00  3.14159265e+00  3.13683905e+00]]\n",
      "Energy after step    70: -2.0000000 | Angles: [[ 2.11397782e-01 -7.51740210e-19  1.90231741e+00]\n",
      " [ 1.83438711e+00  3.14159265e+00  3.13683905e+00]]\n",
      "Energy after step    75: -2.0000000 | Angles: [[ 2.11397782e-01 -7.51740210e-19  1.90231741e+00]\n",
      " [ 1.83438711e+00  3.14159265e+00  3.13683905e+00]]\n",
      "Energy after step    80: -2.0000000 | Angles: [[ 2.11397782e-01 -7.51740210e-19  1.90231741e+00]\n",
      " [ 1.83438711e+00  3.14159265e+00  3.13683905e+00]]\n",
      "Energy after step    85: -2.0000000 | Angles: [[ 2.11397782e-01 -7.51740210e-19  1.90231741e+00]\n",
      " [ 1.83438711e+00  3.14159265e+00  3.13683905e+00]]\n",
      "Energy after step    90: -2.0000000 | Angles: [[ 2.11397782e-01 -7.51740210e-19  1.90231741e+00]\n",
      " [ 1.83438711e+00  3.14159265e+00  3.13683905e+00]]\n",
      "Energy after step    95: -2.0000000 | Angles: [[ 2.11397782e-01 -7.51740210e-19  1.90231741e+00]\n",
      " [ 1.83438711e+00  3.14159265e+00  3.13683905e+00]]\n",
      "Energy after step   100: -2.0000000 | Angles: [[ 2.11397782e-01 -7.51740210e-19  1.90231741e+00]\n",
      " [ 1.83438711e+00  3.14159265e+00  3.13683905e+00]]\n"
     ]
    }
   ],
   "source": [
    "gd = qml.GradientDescentOptimizer(0.4)\n",
    "\n",
    "var = var_init\n",
    "var_gd = [var]\n",
    "cost_gd = [cost_init]\n",
    "\n",
    "for it in range(100):\n",
    "    var = gd.step(cost1, var)\n",
    "    if (it + 1) % 5 == 0:\n",
    "        var_gd.append(var)\n",
    "        cost_gd.append (cost1(var))\n",
    "        print('Energy after step {:5d}: {: .7f} | Angles: {}'.format(it + 1, cost1(var), var))"
   ]
  },
  {
   "cell_type": "markdown",
   "metadata": {},
   "source": [
    "## Tenserflow Optimizer"
   ]
  },
  {
   "cell_type": "code",
   "execution_count": 8,
   "metadata": {},
   "outputs": [
    {
     "name": "stdout",
     "output_type": "stream",
     "text": [
      "True\n"
     ]
    }
   ],
   "source": [
    "# activate and check if the eager tenserflow execution is working\n",
    "import tensorflow as tf\n",
    "import tensorflow.contrib.eager as tfe\n",
    "tf.enable_eager_execution()\n",
    "print(tf.executing_eagerly())"
   ]
  },
  {
   "cell_type": "code",
   "execution_count": 9,
   "metadata": {},
   "outputs": [],
   "source": [
    "# the interface is given as an arguemnt when constructing the QNode\n",
    "@qml.qnode(dev2, interface='tfe')\n",
    "def circuit2(p1, p2):\n",
    "        qml.Rot(p1[0],p1[1],p1[2], wires =1)\n",
    "        qml.Rot(p2[0],p2[1],p2[2], wires =2)\n",
    "        return qml.expval.PauliZ(0), qml.expval.PauliZ(1), qml.expval.PauliZ(2)"
   ]
  },
  {
   "cell_type": "code",
   "execution_count": 10,
   "metadata": {},
   "outputs": [],
   "source": [
    "def cost2(var):\n",
    "    spins = circuit2(var[0],var[1])\n",
    "    energy = -(1*spins[0]*spins[1]) - (-1*spins[1]*spins[2])\n",
    "    return energy"
   ]
  },
  {
   "cell_type": "code",
   "execution_count": 11,
   "metadata": {},
   "outputs": [
    {
     "name": "stderr",
     "output_type": "stream",
     "text": [
      "WARNING:tensorflow:From /home/aroosa/anaconda3/lib/python3.7/site-packages/tensorflow/python/ops/resource_variable_ops.py:642: colocate_with (from tensorflow.python.framework.ops) is deprecated and will be removed in a future version.\n",
      "Instructions for updating:\n",
      "Colocations handled automatically by placer.\n"
     ]
    },
    {
     "name": "stdout",
     "output_type": "stream",
     "text": [
      "tf.Tensor(2.0, shape=(), dtype=float64)\n"
     ]
    }
   ],
   "source": [
    "# lets test the functions again for our known spin configuration [1,-1,-1]\n",
    "t1 = tfe.Variable([0, np.pi, 0], dtype=tf.float64)\n",
    "t2 = tfe.Variable([0, np.pi, 0], dtype=tf.float64)\n",
    "print(cost2([t1,t2]))"
   ]
  },
  {
   "cell_type": "code",
   "execution_count": 12,
   "metadata": {},
   "outputs": [
    {
     "name": "stdout",
     "output_type": "stream",
     "text": [
      "tf.Tensor(0.9345447201991628, shape=(), dtype=float64)\n"
     ]
    }
   ],
   "source": [
    "#initialize the parameters to some random values\n",
    "tf1 = tfe.Variable(tf.random_uniform([3],0,np.pi, dtype = tf.float64))\n",
    "tf2 = tfe.Variable(tf.random_uniform([3],0,np.pi, dtype = tf.float64))\n",
    "var_init = [tf1,tf2]\n",
    "cost_init = cost2(var_init)\n",
    "print(cost_init)"
   ]
  },
  {
   "cell_type": "code",
   "execution_count": 13,
   "metadata": {},
   "outputs": [
    {
     "name": "stdout",
     "output_type": "stream",
     "text": [
      "Energy after step     5:  0.3586118 | Angles: [array([2.84415863, 1.94387809, 2.54041458]), array([2.90647332, 1.55467679, 2.32674317])]\n",
      "Energy after step    10: -0.0699088 | Angles: [array([2.84415863, 1.49217174, 2.54041458]), array([2.90647332, 1.46063785, 2.32674317])]\n",
      "Energy after step    15: -0.5053414 | Angles: [array([2.84415863, 1.04968241, 2.54041458]), array([2.90647332, 1.58585145, 2.32674317])]\n",
      "Energy after step    20: -1.0740985 | Angles: [array([2.84415863, 0.62320589, 2.54041458]), array([2.90647332, 1.89944316, 2.32674317])]\n",
      "Energy after step    25: -1.5862403 | Angles: [array([2.84415863, 0.29189344, 2.54041458]), array([2.90647332, 2.2867015 , 2.32674317])]\n",
      "Energy after step    30: -1.8483960 | Angles: [array([2.84415863, 0.11247044, 2.54041458]), array([2.90647332, 2.60635745, 2.32674317])]\n",
      "Energy after step    35: -1.9469712 | Angles: [array([2.84415863, 0.0392157 , 2.54041458]), array([2.90647332, 2.81916584, 2.32674317])]\n",
      "Energy after step    40: -1.9815122 | Angles: [array([2.84415863, 0.01314066, 2.54041458]), array([2.90647332, 2.94990075, 2.32674317])]\n",
      "Energy after step    45: -1.9935516 | Angles: [array([2.84415863, 0.00434   , 2.54041458]), array([2.90647332, 3.0281334 , 2.32674317])]\n",
      "Energy after step    50: -1.9977509 | Angles: [array([2.84415863e+00, 1.42605914e-03, 2.54041458e+00]), array([2.90647332, 3.07454115, 2.32674317])]\n",
      "Energy after step    55: -1.9992156 | Angles: [array([2.84415863e+00, 4.67741410e-04, 2.54041458e+00]), array([2.90647332, 3.1019881 , 2.32674317])]\n",
      "Energy after step    60: -1.9997265 | Angles: [array([2.84415863e+00, 1.53321019e-04, 2.54041458e+00]), array([2.90647332, 3.11820423, 2.32674317])]\n",
      "Energy after step    65: -1.9999046 | Angles: [array([2.84415863e+00, 5.02461190e-05, 2.54041458e+00]), array([2.90647332, 3.12778154, 2.32674317])]\n",
      "Energy after step    70: -1.9999667 | Angles: [array([2.84415863e+00, 1.64653208e-05, 2.54041458e+00]), array([2.90647332, 3.13343723, 2.32674317])]\n",
      "Energy after step    75: -1.9999884 | Angles: [array([2.84415863e+00, 5.39543312e-06, 2.54041458e+00]), array([2.90647332, 3.13677694, 2.32674317])]\n",
      "Energy after step    80: -1.9999960 | Angles: [array([2.84415863e+00, 1.76798428e-06, 2.54041458e+00]), array([2.90647332, 3.13874902, 2.32674317])]\n",
      "Energy after step    85: -1.9999986 | Angles: [array([2.84415863e+00, 5.79334081e-07, 2.54041458e+00]), array([2.90647332, 3.13991351, 2.32674317])]\n",
      "Energy after step    90: -1.9999995 | Angles: [array([2.84415863e+00, 1.89836303e-07, 2.54041458e+00]), array([2.90647332, 3.14060114, 2.32674317])]\n",
      "Energy after step    95: -1.9999998 | Angles: [array([2.84415863e+00, 6.22055716e-08, 2.54041458e+00]), array([2.90647332, 3.14100717, 2.32674317])]\n",
      "Energy after step   100: -1.9999999 | Angles: [array([2.84415863e+00, 2.03835228e-08, 2.54041458e+00]), array([2.90647332, 3.14124693, 2.32674317])]\n"
     ]
    }
   ],
   "source": [
    "#optimize using tensorflow optimizer\n",
    "opt = tf.train.GradientDescentOptimizer(learning_rate=0.1)\n",
    "\n",
    "var = var_init\n",
    "var_tf = [var]\n",
    "cost_tf = [cost_init]\n",
    "\n",
    "for i in range(100):\n",
    "    with tf.GradientTape() as tape:\n",
    "        loss = cost2([tf1,tf2])\n",
    "        grads = tape.gradient(loss, [tf1, tf2])\n",
    "\n",
    "    opt.apply_gradients(zip(grads, [tf1, tf2]), global_step=tf.train.get_or_create_global_step())\n",
    "    if (i + 1) % 5 == 0:\n",
    "            var_tf.append([tf1,tf2])\n",
    "            cost_tf.append (cost2([tf1,tf2]))\n",
    "            print('Energy after step {:5d}: {: .7f} | Angles: {}'.format(i+1,cost2([tf1,tf2]), [tf1.numpy(),tf2.numpy()]))"
   ]
  },
  {
   "cell_type": "markdown",
   "metadata": {},
   "source": [
    "## PyTorch Optimizer"
   ]
  },
  {
   "cell_type": "code",
   "execution_count": 14,
   "metadata": {},
   "outputs": [],
   "source": [
    "import torch\n",
    "from torch.autograd import Variable"
   ]
  },
  {
   "cell_type": "code",
   "execution_count": 15,
   "metadata": {},
   "outputs": [],
   "source": [
    "# the interface is given as an arguemnt when constructing the QNode\n",
    "@qml.qnode(dev3, interface='torch')\n",
    "def circuit3(p1, p2):\n",
    "    qml.Rot(p1[0],p1[1],p1[2], wires =1)\n",
    "    qml.Rot(p2[0],p2[1],p2[2], wires =2)\n",
    "    return qml.expval.PauliZ(0), qml.expval.PauliZ(1), qml.expval.PauliZ(2) "
   ]
  },
  {
   "cell_type": "code",
   "execution_count": 16,
   "metadata": {},
   "outputs": [],
   "source": [
    "def cost3(var1,var2):\n",
    "    spins = circuit3(var1,var2)\n",
    "    energy = -(1*spins[0]*spins[1]) - (-1*spins[1]*spins[2])\n",
    "    return energy"
   ]
  },
  {
   "cell_type": "code",
   "execution_count": 17,
   "metadata": {},
   "outputs": [
    {
     "name": "stdout",
     "output_type": "stream",
     "text": [
      "tensor(2.0000, dtype=torch.float64)\n"
     ]
    }
   ],
   "source": [
    "#lets test the functions again for our known spin configuration [1,-1,-1]\n",
    "t1=torch.tensor([0, np.pi, 0])\n",
    "t2=torch.tensor([0,np.pi ,0])\n",
    "print(cost3(t1,t2))"
   ]
  },
  {
   "cell_type": "code",
   "execution_count": 18,
   "metadata": {},
   "outputs": [
    {
     "name": "stdout",
     "output_type": "stream",
     "text": [
      "tensor(-1.2960, dtype=torch.float64, grad_fn=<SubBackward0>)\n"
     ]
    }
   ],
   "source": [
    "pt1 = Variable((np.pi*torch.rand(3,dtype=torch.float64)), requires_grad=True)\n",
    "pt2 = Variable((np.pi*torch.rand(3,dtype=torch.float64)), requires_grad=True)\n",
    "var_init = [pt1,pt2]\n",
    "cost_init = cost3(pt1,pt2)\n",
    "print(cost_init)"
   ]
  },
  {
   "cell_type": "code",
   "execution_count": 19,
   "metadata": {},
   "outputs": [
    {
     "name": "stdout",
     "output_type": "stream",
     "text": [
      "Energy after step     5: -1.7547951 | Angles: [array([ 2.33328647, -0.11022775,  0.33939164]), array([1.29015008, 2.44262964, 0.35468735])]\n",
      "Energy after step    10: -1.9683916 | Angles: [array([ 2.33328647, -0.06696248,  0.33939164]), array([1.29015008, 2.90787876, 0.35468735])]\n",
      "Energy after step    15: -1.9852637 | Angles: [array([2.33328647, 0.08629981, 0.33939164]), array([1.29015008, 3.26266667, 0.35468735])]\n",
      "Energy after step    20: -1.9606606 | Angles: [array([2.33328647, 0.01613939, 0.33939164]), array([1.29015008, 3.42209677, 0.35468735])]\n",
      "Energy after step    25: -1.9658844 | Angles: [array([ 2.33328647, -0.05584007,  0.33939164]), array([1.29015008, 3.39142729, 0.35468735])]\n",
      "Energy after step    30: -1.9933538 | Angles: [array([2.33328648, 0.00721122, 0.33939164]), array([1.29015008, 3.25649816, 0.35468735])]\n",
      "Energy after step    35: -1.9987513 | Angles: [array([2.33328648, 0.03053292, 0.33939164]), array([1.29015008, 3.11642467, 0.35468735])]\n",
      "Energy after step    40: -1.9947594 | Angles: [array([ 2.33328648, -0.01827762,  0.33939164]), array([1.29015008, 3.04248299, 0.35468735])]\n",
      "Energy after step    45: -1.9958189 | Angles: [array([ 2.33328648, -0.00859861,  0.33939163]), array([1.29015008, 3.05092714, 0.35468735])]\n",
      "Energy after step    50: -1.9991799 | Angles: [array([2.33328648, 0.01596311, 0.33939164]), array([1.29015008, 3.10796365, 0.35468735])]\n",
      "Energy after step    55: -1.9997364 | Angles: [array([ 2.33328648, -0.00556735,  0.33939164]), array([1.29015008, 3.16316399, 0.35468735])]\n",
      "Energy after step    60: -1.9990901 | Angles: [array([ 2.33328647, -0.00533622,  0.33939164]), array([1.29015008, 3.1835817 , 0.35468735])]\n",
      "Energy after step    65: -1.9995719 | Angles: [array([2.33328647, 0.00748703, 0.33939164]), array([1.29015008, 3.16887073, 0.35468735])]\n",
      "Energy after step    70: -1.9999897 | Angles: [array([ 2.33328647, -0.0032077 ,  0.33939164]), array([1.29015008, 3.14158318, 0.35468736])]\n",
      "Energy after step    75: -1.9998597 | Angles: [array([ 2.33328647e+00, -1.49475573e-03,  3.39391635e-01]), array([1.29015008, 3.12497696, 0.35468736])]\n",
      "Energy after step    80: -1.9998797 | Angles: [array([2.33328647, 0.00328244, 0.33939163]), array([1.29015008, 3.12679367, 0.35468736])]\n",
      "Energy after step    85: -1.9999905 | Angles: [array([ 2.33328647, -0.00237846,  0.33939164]), array([1.29015008, 3.1388164 , 0.35468736])]\n",
      "Energy after step    90: -1.9999779 | Angles: [array([2.33328647e+00, 5.46206272e-04, 3.39391636e-01]), array([1.29015008, 3.14820196, 0.35468736])]\n",
      "Energy after step    95: -1.9999739 | Angles: [array([2.33328648e+00, 7.93984189e-04, 3.39391637e-01]), array([1.29015008, 3.14872661, 0.35468736])]\n",
      "Energy after step   100: -1.9999970 | Angles: [array([ 2.33328648e+00, -1.19251708e-03,  3.39391639e-01]), array([1.29015008, 3.14334499, 0.35468736])]\n"
     ]
    }
   ],
   "source": [
    "#optimizing using PyTorch optimizer \n",
    "opt = torch.optim.Adam(var_init, lr = 0.1)\n",
    "\n",
    "def closure():\n",
    "    opt.zero_grad()\n",
    "    loss = cost3(pt1, pt2)\n",
    "    loss.backward()\n",
    "    return loss\n",
    "\n",
    "var_pt = [var_init]\n",
    "cost_pt = [cost_init]\n",
    "\n",
    "for j in range(100):\n",
    "    opt.step(closure)\n",
    "    if (j + 1) % 5 == 0:\n",
    "        pt1, pt2 = opt.param_groups[0]['params']\n",
    "        costn = cost3(pt1, pt2)\n",
    "        var_pt.append([pt1,pt2])\n",
    "        cost_pt.append(costn)\n",
    "        print('Energy after step {:5d}: {: .7f} | Angles: {}'.format(j+1,costn, [pt1.detach().numpy(), pt2.detach().numpy()]))"
   ]
  },
  {
   "cell_type": "code",
   "execution_count": 20,
   "metadata": {},
   "outputs": [],
   "source": [
    "import matplotlib.pyplot as plt\n",
    "%matplotlib inline"
   ]
  },
  {
   "cell_type": "code",
   "execution_count": 21,
   "metadata": {},
   "outputs": [],
   "source": [
    "x = [0]\n",
    "for k in range(100):\n",
    "    if (k + 1) % 5 == 0:\n",
    "        x.append(k)"
   ]
  },
  {
   "cell_type": "code",
   "execution_count": 22,
   "metadata": {},
   "outputs": [
    {
     "data": {
      "image/png": "[encoded data removed]",
      "text/plain": [
       "<Figure size 432x288 with 1 Axes>"
      ]
     },
     "metadata": {
      "needs_background": "light"
     },
     "output_type": "display_data"
    }
   ],
   "source": [
    "plt.plot(x,cost_gd,label='Pennylane')\n",
    "plt.plot(x,cost_tf,label='Tensorflow')\n",
    "plt.plot(x,cost_pt,label='PyTorch')\n",
    "plt.xlabel(\"steps\")\n",
    "plt.ylabel(\"Cost\")\n",
    "plt.legend()\n",
    "plt.show()"
   ]
  },
  {
   "cell_type": "markdown",
   "metadata": {},
   "source": [
    "In some runs, you will see the optimization getting stuck in a local minima of energy (usually zero energy). Do not forget to restart the kernel before rerunning the file! "
   ]
  }
 ],
 "metadata": {
  "kernelspec": {
   "display_name": "Python 3",
   "language": "python",
   "name": "python3"
  },
  "language_info": {
   "codemirror_mode": {
    "name": "ipython",
    "version": 3
   },
   "file_extension": ".py",
   "mimetype": "text/x-python",
   "name": "python",
   "nbconvert_exporter": "python",
   "pygments_lexer": "ipython3",
   "version": "3.7.3"
  }
 },
 "nbformat": 4,
 "nbformat_minor": 2
}
