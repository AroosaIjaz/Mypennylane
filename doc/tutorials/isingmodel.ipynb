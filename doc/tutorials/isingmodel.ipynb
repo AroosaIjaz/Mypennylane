{
 "cells": [
  {
   "cell_type": "markdown",
   "metadata": {},
   "source": [
    "# Qubit Optimization for 3-qubit Ising model "
   ]
  },
  {
   "cell_type": "markdown",
   "metadata": {},
   "source": [
    "We will be comparing PennyLane-wrapped NumPy *gradient descent optimizer* with that of *TensorFlow* and *PyTorch* for one and the same quantum system. For details on these interfaces, see [pennylane interfaces](https://pennylane.readthedocs.io/en/latest/code/interfaces.html).\n",
    "\n",
    "Ising model is an example of a system whose optimization landscape is non-convex and hence using gradient descent is not the best solution since the optimization can get stuck in local minimas. Quantum annealing (for example on D-wave system) can be used instead. \n",
    "\n",
    "The energy for this system is given by:\n",
    "$$ H=-\\sum_{<i,j>} J_{ij} \\sigma_i \\sigma_{j}$$\n",
    "\n",
    "where each spin can be in +1 or -1 state and $J_{ij}$ are nearest neighbour coupling strengths.\n",
    "\n",
    "For simplicity, we will assume that spin 1 is always in up state (+1 eigenstate of Pauli-Z operator)"
   ]
  },
  {
   "cell_type": "markdown",
   "metadata": {},
   "source": [
    "> <font color=brown>**NOTE:** To follow along with this tutorial on your own computer, you will require the following dependencies:</font>\n",
    "    \n",
    "> - [PyTorch](https://pytorch.org/get-started/locally/) in order to access the PyTorch QNode interface. Follow the link for instructions on the best way to install PyTorch for your system.\n",
    "\n",
    "> - [TensorFlow](https://www.tensorflow.org/) in order to access the TensorFlow QNode interface. Follow the link for instructions on the best way to install Tensorflow for your system. \n"
   ]
  },
  {
   "cell_type": "markdown",
   "metadata": {},
   "source": [
    "## PennyLane Optimizer"
   ]
  },
  {
   "cell_type": "code",
   "execution_count": 1,
   "metadata": {},
   "outputs": [],
   "source": [
    "# import PennyLane library\n",
    "import pennylane as qml\n",
    "from pennylane import numpy as np"
   ]
  },
  {
   "cell_type": "code",
   "execution_count": 2,
   "metadata": {},
   "outputs": [],
   "source": [
    "# create our three devices. \n",
    "dev1 = qml.device('default.qubit', wires=3)\n",
    "dev2 = qml.device('default.qubit', wires=3)\n",
    "dev3 = qml.device('default.qubit', wires=3)"
   ]
  },
  {
   "cell_type": "code",
   "execution_count": 3,
   "metadata": {},
   "outputs": [],
   "source": [
    "# We can use the GENERAL PennyLane Rot(phi,theta,omega,wires) operation\n",
    "@qml.qnode(dev1)\n",
    "def circuit1(p1, p2):\n",
    "    qml.Rot(p1[0], p1[1], p1[2], wires =1)\n",
    "    qml.Rot(p2[0], p2[1], p2[2], wires =2)\n",
    "    return qml.expval.PauliZ(0), qml.expval.PauliZ(1), qml.expval.PauliZ(2) "
   ]
  },
  {
   "cell_type": "markdown",
   "metadata": {},
   "source": [
    "Our cost function is the energy of the spin configuration which we will optimize using gradient descent.\n",
    "\n",
    "Let the coupling matrix be J = [1,-1]"
   ]
  },
  {
   "cell_type": "code",
   "execution_count": 4,
   "metadata": {},
   "outputs": [],
   "source": [
    "def cost1(var):\n",
    "    spins = circuit1(var[0], var[1])\n",
    "    energy = -(1*spins[0]*spins[1]) - (-1*spins[1]*spins[2])\n",
    "    return energy"
   ]
  },
  {
   "cell_type": "markdown",
   "metadata": {},
   "source": [
    "Lets test these functions for the [1,-1,-1] spin configuration. \n",
    "\n",
    "The total energy for this Ising model should be\n",
    "\n",
    "$H = -1(J_1 \\times s_1 \\times s_2 + J_2 \\times s_2 \\times s_3) = -1 (1\\times1\\times-1 + -1\\times-1\\times-1) = 2 $\n"
   ]
  },
  {
   "cell_type": "code",
   "execution_count": 5,
   "metadata": {},
   "outputs": [
    {
     "name": "stdout",
     "output_type": "stream",
     "text": [
      "2.0\n"
     ]
    }
   ],
   "source": [
    "# You can easily guess the angles if you look at the Rot(phi,theta,omega)\n",
    "t1 = np.array([0, np.pi, 0])    #spin 2 in -1 state\n",
    "t2 = np.array([0, np.pi, 0])    #spin 3 in -1 state\n",
    "print(cost1([t1, t2]))"
   ]
  },
  {
   "cell_type": "markdown",
   "metadata": {},
   "source": [
    "Now we optimize using the PennyLane NumPy gradient descent optimizer\n"
   ]
  },
  {
   "cell_type": "code",
   "execution_count": 7,
   "metadata": {},
   "outputs": [
    {
     "name": "stdout",
     "output_type": "stream",
     "text": [
      "0.002172558286270143\n"
     ]
    }
   ],
   "source": [
    "# initialize the parameters to some random values\n",
    "pl1 = np.pi*(np.random.ranf(3))\n",
    "pl2 = np.pi*(np.random.ranf(3))\n",
    "var_init = np.array([pl1, pl2])\n",
    "cost_init = cost1(var_init)\n",
    "print(cost_init)"
   ]
  },
  {
   "cell_type": "markdown",
   "metadata": {},
   "source": [
    "The minimun energy should be -2 for [1,1,-1] spin configuration, which corresponds to the angles of [0,0,0] and [0,pi,0] for the spin 2 and spin 3 respectively. "
   ]
  },
  {
   "cell_type": "code",
   "execution_count": 8,
   "metadata": {},
   "outputs": [
    {
     "name": "stdout",
     "output_type": "stream",
     "text": [
      "Energy after step     5: -0.0755957 | Angles: [[0.0237345  1.24598699 2.87502876]\n",
      " [2.69573943 0.70267197 3.11095815]] \n",
      "\n",
      "Energy after step    10: -0.8220873 | Angles: [[0.0237345  0.56459218 2.87502876]\n",
      " [2.69573943 1.54389983 3.11095815]] \n",
      "\n",
      "Energy after step    15: -1.9746499 | Angles: [[0.0237345  0.00378133 2.87502876]\n",
      " [2.69573943 2.91601013 3.11095815]] \n",
      "\n",
      "Energy after step    20: -1.9998434 | Angles: [[2.37345044e-02 1.30782122e-06 2.87502876e+00]\n",
      " [2.69573943e+00 3.12389646e+00 3.11095815e+00]] \n",
      "\n",
      "Energy after step    25: -1.9999991 | Angles: [[2.37345044e-02 4.18706394e-10 2.87502876e+00]\n",
      " [2.69573943e+00 3.14021652e+00 3.11095815e+00]] \n",
      "\n",
      "Energy after step    30: -2.0000000 | Angles: [[2.37345044e-02 1.34249617e-13 2.87502876e+00]\n",
      " [2.69573943e+00 3.14148565e+00 3.11095815e+00]] \n",
      "\n",
      "Energy after step    35: -2.0000000 | Angles: [[2.37345044e-02 9.85937415e-17 2.87502876e+00]\n",
      " [2.69573943e+00 3.14158433e+00 3.11095815e+00]] \n",
      "\n",
      "Energy after step    40: -2.0000000 | Angles: [[2.37345044e-02 9.85937415e-17 2.87502876e+00]\n",
      " [2.69573943e+00 3.14159201e+00 3.11095815e+00]] \n",
      "\n",
      "Energy after step    45: -2.0000000 | Angles: [[2.37345044e-02 9.85937415e-17 2.87502876e+00]\n",
      " [2.69573943e+00 3.14159260e+00 3.11095815e+00]] \n",
      "\n",
      "Energy after step    50: -2.0000000 | Angles: [[2.37345044e-02 9.85937415e-17 2.87502876e+00]\n",
      " [2.69573943e+00 3.14159265e+00 3.11095815e+00]] \n",
      "\n",
      "Energy after step    55: -2.0000000 | Angles: [[2.37345044e-02 9.85937415e-17 2.87502876e+00]\n",
      " [2.69573943e+00 3.14159265e+00 3.11095815e+00]] \n",
      "\n",
      "Energy after step    60: -2.0000000 | Angles: [[2.37345044e-02 9.85937415e-17 2.87502876e+00]\n",
      " [2.69573943e+00 3.14159265e+00 3.11095815e+00]] \n",
      "\n",
      "Energy after step    65: -2.0000000 | Angles: [[2.37345044e-02 9.85937415e-17 2.87502876e+00]\n",
      " [2.69573943e+00 3.14159265e+00 3.11095815e+00]] \n",
      "\n",
      "Energy after step    70: -2.0000000 | Angles: [[2.37345044e-02 9.85937415e-17 2.87502876e+00]\n",
      " [2.69573943e+00 3.14159265e+00 3.11095815e+00]] \n",
      "\n",
      "Energy after step    75: -2.0000000 | Angles: [[2.37345044e-02 9.85937415e-17 2.87502876e+00]\n",
      " [2.69573943e+00 3.14159265e+00 3.11095815e+00]] \n",
      "\n",
      "Energy after step    80: -2.0000000 | Angles: [[2.37345044e-02 9.85937415e-17 2.87502876e+00]\n",
      " [2.69573943e+00 3.14159265e+00 3.11095815e+00]] \n",
      "\n",
      "Energy after step    85: -2.0000000 | Angles: [[2.37345044e-02 9.85937415e-17 2.87502876e+00]\n",
      " [2.69573943e+00 3.14159265e+00 3.11095815e+00]] \n",
      "\n",
      "Energy after step    90: -2.0000000 | Angles: [[2.37345044e-02 9.85937415e-17 2.87502876e+00]\n",
      " [2.69573943e+00 3.14159265e+00 3.11095815e+00]] \n",
      "\n",
      "Energy after step    95: -2.0000000 | Angles: [[2.37345044e-02 9.85937415e-17 2.87502876e+00]\n",
      " [2.69573943e+00 3.14159265e+00 3.11095815e+00]] \n",
      "\n",
      "Energy after step   100: -2.0000000 | Angles: [[2.37345044e-02 9.85937415e-17 2.87502876e+00]\n",
      " [2.69573943e+00 3.14159265e+00 3.11095815e+00]] \n",
      "\n"
     ]
    }
   ],
   "source": [
    "gd = qml.GradientDescentOptimizer(0.4)\n",
    "\n",
    "var = var_init\n",
    "var_gd = [var]\n",
    "cost_gd = [cost_init]\n",
    "\n",
    "for it in range(100):\n",
    "    var = gd.step(cost1, var)\n",
    "    if (it+1) % 5 == 0:\n",
    "        var_gd.append(var)\n",
    "        cost_gd.append (cost1(var))\n",
    "        print('Energy after step {:5d}: {: .7f} | Angles: {}'.format(it + 1, cost1(var), var),\"\\n\")"
   ]
  },
  {
   "cell_type": "markdown",
   "metadata": {},
   "source": [
    "## Tenserflow Optimizer"
   ]
  },
  {
   "cell_type": "code",
   "execution_count": 9,
   "metadata": {},
   "outputs": [
    {
     "name": "stdout",
     "output_type": "stream",
     "text": [
      "True\n"
     ]
    }
   ],
   "source": [
    "# activate TensorFlow and its eager mode\n",
    "import tensorflow as tf\n",
    "import tensorflow.contrib.eager as tfe\n",
    "# to supress TensorFlow warnings from getting printed\n",
    "tf.logging.set_verbosity(tf.logging.ERROR) \n",
    "# check if the eager tenserflow execution is working\n",
    "tf.enable_eager_execution()\n",
    "print(tf.executing_eagerly())"
   ]
  },
  {
   "cell_type": "code",
   "execution_count": 10,
   "metadata": {},
   "outputs": [],
   "source": [
    "# the interface is given as an arguemnt when constructing the QNode\n",
    "@qml.qnode(dev2, interface='tfe')\n",
    "def circuit2(p1, p2):\n",
    "        qml.Rot(p1[0], p1[1], p1[2], wires =1)\n",
    "        qml.Rot(p2[0], p2[1], p2[2], wires =2)\n",
    "        return qml.expval.PauliZ(0), qml.expval.PauliZ(1), qml.expval.PauliZ(2)"
   ]
  },
  {
   "cell_type": "code",
   "execution_count": 11,
   "metadata": {},
   "outputs": [],
   "source": [
    "def cost2(var):\n",
    "    spins = circuit2(var[0], var[1])\n",
    "    energy = -(1*spins[0]*spins[1]) - (-1*spins[1]*spins[2])\n",
    "    return energy"
   ]
  },
  {
   "cell_type": "code",
   "execution_count": 12,
   "metadata": {},
   "outputs": [
    {
     "name": "stdout",
     "output_type": "stream",
     "text": [
      "tf.Tensor(2.0, shape=(), dtype=float64)\n"
     ]
    }
   ],
   "source": [
    "# let's test the functions again for our known spin configuration [1,-1,-1]\n",
    "t1 = tfe.Variable([0, np.pi, 0], dtype = tf.float64)\n",
    "t2 = tfe.Variable([0, np.pi, 0], dtype = tf.float64)\n",
    "print(cost2([t1,t2]))"
   ]
  },
  {
   "cell_type": "code",
   "execution_count": 16,
   "metadata": {},
   "outputs": [
    {
     "name": "stdout",
     "output_type": "stream",
     "text": [
      "tf.Tensor(0.03400207083342157, shape=(), dtype=float64)\n"
     ]
    }
   ],
   "source": [
    "# initialize the parameters to some random values\n",
    "tf1 = tfe.Variable(tf.random_uniform([3], 0, np.pi, dtype = tf.float64))\n",
    "tf2 = tfe.Variable(tf.random_uniform([3], 0, np.pi, dtype = tf.float64))\n",
    "var_init = [tf1, tf2]\n",
    "cost_init = cost2(var_init)\n",
    "print(cost_init)"
   ]
  },
  {
   "cell_type": "code",
   "execution_count": 17,
   "metadata": {},
   "outputs": [
    {
     "name": "stdout",
     "output_type": "stream",
     "text": [
      "Energy after step     5: -0.0541588 | Angles: [array([0.37079426, 1.44271247, 2.82900002]), array([2.83971081, 0.95696559, 0.83155095])] \n",
      "\n",
      "Energy after step    10: -0.1690996 | Angles: [array([0.37079426, 1.22469592, 2.82900002]), array([2.83971081, 1.04543866, 0.83155095])] \n",
      "\n",
      "Energy after step    15: -0.3784354 | Angles: [array([0.37079426, 0.97365833, 2.82900002]), array([2.83971081, 1.23771089, 0.83155095])] \n",
      "\n",
      "Energy after step    20: -0.7657228 | Angles: [array([0.37079426, 0.67935139, 2.82900002]), array([2.83971081, 1.55504004, 0.83155095])] \n",
      "\n",
      "Energy after step    25: -1.2887150 | Angles: [array([0.37079426, 0.38199763, 2.82900002]), array([2.83971081, 1.97014515, 0.83155095])] \n",
      "\n",
      "Energy after step    30: -1.6931088 | Angles: [array([0.37079426, 0.1683254 , 2.82900002]), array([2.83971081, 2.37083222, 0.83155095])] \n",
      "\n",
      "Energy after step    35: -1.8857891 | Angles: [array([0.37079426, 0.06266963, 2.82900002]), array([2.83971081, 2.66704253, 0.83155095])] \n",
      "\n",
      "Energy after step    40: -1.9593718 | Angles: [array([0.37079426, 0.02155132, 2.82900002]), array([2.83971081, 2.85718101, 0.83155095])] \n",
      "\n",
      "Energy after step    45: -1.9857328 | Angles: [array([0.37079426, 0.00718538, 2.82900002]), array([2.83971081, 2.97277461, 0.83155095])] \n",
      "\n",
      "Energy after step    50: -1.9950119 | Angles: [array([3.70794255e-01, 2.36892383e-03, 2.82900002e+00]), array([2.83971081, 3.04172603, 0.83155095])] \n",
      "\n",
      "Energy after step    55: -1.9982589 | Angles: [array([3.70794255e-01, 7.77909262e-04, 2.82900002e+00]), array([2.83971081, 3.08258502, 0.83155095])] \n",
      "\n",
      "Energy after step    60: -1.9993927 | Angles: [array([3.70794255e-01, 2.55095525e-04, 2.82900002e+00]), array([2.83971081, 3.10674153, 0.83155095])] \n",
      "\n",
      "Energy after step    65: -1.9997882 | Angles: [array([3.70794255e-01, 8.36114549e-05, 2.82900002e+00]), array([2.83971081, 3.12101183, 0.83155095])] \n",
      "\n",
      "Energy after step    70: -1.9999262 | Angles: [array([3.70794255e-01, 2.74002875e-05, 2.82900002e+00]), array([2.83971081, 3.12943955, 0.83155095])] \n",
      "\n",
      "Energy after step    75: -1.9999743 | Angles: [array([3.70794255e-01, 8.97881015e-06, 2.82900002e+00]), array([2.83971081, 3.1344163 , 0.83155095])] \n",
      "\n",
      "Energy after step    80: -1.9999910 | Angles: [array([3.70794255e-01, 2.94220892e-06, 2.82900002e+00]), array([2.83971081, 3.13735508, 0.83155095])] \n",
      "\n",
      "Energy after step    85: -1.9999969 | Angles: [array([3.70794255e-01, 9.64106710e-07, 2.82900002e+00]), array([2.83971081, 3.1390904 , 0.83155095])] \n",
      "\n",
      "Energy after step    90: -1.9999989 | Angles: [array([3.70794255e-01, 3.15918905e-07, 2.82900002e+00]), array([2.83971081, 3.1401151 , 0.83155095])] \n",
      "\n",
      "Energy after step    95: -1.9999996 | Angles: [array([3.70794255e-01, 1.03520353e-07, 2.82900002e+00]), array([2.83971081, 3.14072017, 0.83155095])] \n",
      "\n",
      "Energy after step   100: -1.9999999 | Angles: [array([3.70794255e-01, 3.39215543e-08, 2.82900002e+00]), array([2.83971081, 3.14107746, 0.83155095])] \n",
      "\n"
     ]
    }
   ],
   "source": [
    "# optimize using tensorflow optimizer\n",
    "opt = tf.train.GradientDescentOptimizer(learning_rate=0.1)\n",
    "\n",
    "var = var_init\n",
    "var_tf = [var]\n",
    "cost_tf = [cost_init]\n",
    "\n",
    "for i in range(100):\n",
    "    with tf.GradientTape() as tape:\n",
    "        loss = cost2([tf1, tf2])\n",
    "        grads = tape.gradient(loss, [tf1, tf2])\n",
    "\n",
    "    opt.apply_gradients(zip(grads, [tf1, tf2]), global_step=tf.train.get_or_create_global_step())\n",
    "    if (i + 1) % 5 == 0:\n",
    "            var_tf.append([tf1,tf2])\n",
    "            cost_tf.append (cost2([tf1,tf2]))\n",
    "            print('Energy after step {:5d}: {: .7f} | Angles: {}'.format(i+1,cost2([tf1,tf2]), [tf1.numpy(),tf2.numpy()]),\"\\n\")"
   ]
  },
  {
   "cell_type": "markdown",
   "metadata": {},
   "source": [
    "## PyTorch Optimizer"
   ]
  },
  {
   "cell_type": "code",
   "execution_count": 18,
   "metadata": {},
   "outputs": [],
   "source": [
    "import torch\n",
    "from torch.autograd import Variable"
   ]
  },
  {
   "cell_type": "code",
   "execution_count": 19,
   "metadata": {},
   "outputs": [],
   "source": [
    "# the interface is given as an arguemnt when constructing the QNode\n",
    "@qml.qnode(dev3, interface='torch')\n",
    "def circuit3(p1, p2):\n",
    "    qml.Rot(p1[0], p1[1], p1[2], wires =1)\n",
    "    qml.Rot(p2[0], p2[1], p2[2], wires =2)\n",
    "    return qml.expval.PauliZ(0), qml.expval.PauliZ(1), qml.expval.PauliZ(2) "
   ]
  },
  {
   "cell_type": "code",
   "execution_count": 20,
   "metadata": {},
   "outputs": [],
   "source": [
    "def cost3(var1, var2):\n",
    "    spins = circuit3(var1, var2)\n",
    "    energy = -(1*spins[0]*spins[1]) - (-1*spins[1]*spins[2])\n",
    "    return energy"
   ]
  },
  {
   "cell_type": "code",
   "execution_count": 21,
   "metadata": {},
   "outputs": [
    {
     "name": "stdout",
     "output_type": "stream",
     "text": [
      "tensor(2.0000, dtype=torch.float64)\n"
     ]
    }
   ],
   "source": [
    "# let's test the functions again for our known spin configuration [1,-1,-1]\n",
    "t1=torch.tensor([0, np.pi, 0])\n",
    "t2=torch.tensor([0, np.pi ,0])\n",
    "print(cost3(t1, t2))"
   ]
  },
  {
   "cell_type": "code",
   "execution_count": 31,
   "metadata": {},
   "outputs": [
    {
     "name": "stdout",
     "output_type": "stream",
     "text": [
      "tensor(0.0257, dtype=torch.float64, grad_fn=<SubBackward0>)\n"
     ]
    }
   ],
   "source": [
    "pt1 = Variable((np.pi*torch.rand(3, dtype = torch.float64)), requires_grad = True)\n",
    "pt2 = Variable((np.pi*torch.rand(3, dtype = torch.float64)), requires_grad = True)\n",
    "var_init = [pt1, pt2]\n",
    "cost_init = cost3(pt1, pt2)\n",
    "print(cost_init)"
   ]
  },
  {
   "cell_type": "code",
   "execution_count": 32,
   "metadata": {},
   "outputs": [
    {
     "name": "stdout",
     "output_type": "stream",
     "text": [
      "Energy after step     5: -0.2388403 | Angles: [array([2.43977009, 1.12881382, 0.52679594]), array([1.94815449, 1.11340111, 1.93922613])] \n",
      "\n",
      "Energy after step    10: -0.8175243 | Angles: [array([2.43977009, 0.61999048, 0.52679594]), array([1.94815449, 1.57526912, 1.93922613])] \n",
      "\n",
      "Energy after step    15: -1.4890582 | Angles: [array([2.43977009, 0.11263163, 0.52679594]), array([1.94815449, 2.0927255 , 1.93922613])] \n",
      "\n",
      "Energy after step    20: -1.8157600 | Angles: [array([ 2.43977009, -0.24350071,  0.52679594]), array([1.94815449, 2.62793539, 1.93922613])] \n",
      "\n",
      "Energy after step    25: -1.9426479 | Angles: [array([ 2.43977009, -0.23833077,  0.52679594]), array([1.94815449, 3.10053639, 1.93922613])] \n",
      "\n",
      "Energy after step    30: -1.9641229 | Angles: [array([ 2.43977009, -0.02873415,  0.52679594]), array([1.94815449, 3.407197  , 1.93922613])] \n",
      "\n",
      "Energy after step    35: -1.9226274 | Angles: [array([2.43977009, 0.12585403, 0.52679594]), array([1.94815449, 3.49570397, 1.93922613])] \n",
      "\n",
      "Energy after step    40: -1.9524510 | Angles: [array([2.43977009, 0.10513788, 0.52679593]), array([1.94815449, 3.41338207, 1.93922613])] \n",
      "\n",
      "Energy after step    45: -1.9936284 | Angles: [array([ 2.43977009, -0.00771172,  0.52679593]), array([1.94815449, 3.2540114 , 1.93922613])] \n",
      "\n",
      "Energy after step    50: -1.9946911 | Angles: [array([ 2.43977009, -0.06889907,  0.52679593]), array([1.94815449, 3.10797578, 1.93922613])] \n",
      "\n",
      "Energy after step    55: -1.9929632 | Angles: [array([ 2.43977009, -0.0337886 ,  0.52679593]), array([1.94815449, 3.0329239 , 1.93922613])] \n",
      "\n",
      "Energy after step    60: -1.9939732 | Angles: [array([2.43977009, 0.0243728 , 0.52679593]), array([1.94815449, 3.03729136, 1.93922613])] \n",
      "\n",
      "Energy after step    65: -1.9976416 | Angles: [array([2.43977009, 0.03223001, 0.52679593]), array([1.94815449, 3.09019863, 1.93922613])] \n",
      "\n",
      "Energy after step    70: -1.9999778 | Angles: [array([ 2.43977009e+00, -5.95831348e-04,  5.26795935e-01]), array([1.94815449, 3.14820052, 1.93922613])] \n",
      "\n",
      "Energy after step    75: -1.9988671 | Angles: [array([ 2.4397701 , -0.01974234,  0.52679594]), array([1.94815449, 3.18015018, 1.93922613])] \n",
      "\n",
      "Energy after step    80: -1.9992539 | Angles: [array([ 2.4397701 , -0.00685679,  0.52679594]), array([1.94815449, 3.17898619, 1.93922613])] \n",
      "\n",
      "Energy after step    85: -1.9997776 | Angles: [array([2.4397701 , 0.00963519, 0.52679594]), array([1.94815449, 3.15768768, 1.93922613])] \n",
      "\n",
      "Energy after step    90: -1.9999336 | Angles: [array([2.4397701 , 0.00698536, 0.52679594]), array([1.94815449, 3.13565261, 1.93922613])] \n",
      "\n",
      "Energy after step    95: -1.9998592 | Angles: [array([ 2.4397701 , -0.00394822,  0.52679594]), array([1.94815449, 3.12576952, 1.93922613])] \n",
      "\n",
      "Energy after step   100: -1.9998976 | Angles: [array([ 2.4397701 , -0.0051127 ,  0.52679594]), array([1.94815449, 3.12924561, 1.93922613])] \n",
      "\n"
     ]
    }
   ],
   "source": [
    "# optimizing using PyTorch optimizer \n",
    "opt = torch.optim.Adam(var_init, lr = 0.1)\n",
    "\n",
    "# define a function to perform one step of the optimization: see explaination below\n",
    "def closure():\n",
    "    opt.zero_grad()\n",
    "    loss = cost3(pt1, pt2)\n",
    "    loss.backward()\n",
    "    return loss\n",
    "\n",
    "var_pt = [var_init]\n",
    "cost_pt = [cost_init]\n",
    "\n",
    "for j in range(100):\n",
    "    opt.step(closure)\n",
    "    if (j + 1) % 5 == 0:\n",
    "        pt1, pt2 = opt.param_groups[0]['params']\n",
    "        costn = cost3(pt1, pt2)\n",
    "        var_pt.append([pt1, pt2])\n",
    "        cost_pt.append(costn)\n",
    "        print('Energy after step {:5d}: {: .7f} | Angles: {}'.format(j+1,costn, [pt1.detach().numpy(), pt2.detach().numpy()]),\"\\n\")"
   ]
  },
  {
   "cell_type": "markdown",
   "metadata": {},
   "source": [
    "When using the *PyTorch* optimizer, keep in mind that:\n",
    "\n",
    "1. `loss.backward( )` computes the gradient of the cost function with respect to all parameters (whcih have `requires_grad=True`). \n",
    "\n",
    "2. `opt.step( )` performs the parameter update based on this *current* gradient and the learning rate. \n",
    "\n",
    "3. `opt.zer_grad( )` sets all the gradients back to zero. It’s important to call this before `loss.backward( )` to avoid the accumulation of  gradients from multiple passes.\n",
    "\n",
    "Hence, its standard practice to define the `closure( )` function that clears up the old gradient, evaluates the new gradient and passes it onto the optimizer in each step. "
   ]
  },
  {
   "cell_type": "code",
   "execution_count": 33,
   "metadata": {},
   "outputs": [],
   "source": [
    "import matplotlib.pyplot as plt\n",
    "%matplotlib inline"
   ]
  },
  {
   "cell_type": "code",
   "execution_count": 34,
   "metadata": {},
   "outputs": [],
   "source": [
    "x = [0]\n",
    "for k in range(100):\n",
    "    if (k + 1) % 5 == 0:\n",
    "        x.append(k)"
   ]
  },
  {
   "cell_type": "code",
   "execution_count": 35,
   "metadata": {},
   "outputs": [
    {
     "data": {
      "image/png": "[encoded data removed]",
      "text/plain": [
       "<Figure size 432x288 with 1 Axes>"
      ]
     },
     "metadata": {
      "needs_background": "light"
     },
     "output_type": "display_data"
    }
   ],
   "source": [
    "plt.plot(x,cost_gd, label = 'Pennylane')\n",
    "plt.plot(x,cost_tf, label = 'Tensorflow')\n",
    "plt.plot(x,cost_pt, label = 'PyTorch')\n",
    "plt.xlabel(\"steps\")\n",
    "plt.ylabel(\"Cost\")\n",
    "plt.legend()\n",
    "plt.show()"
   ]
  },
  {
   "cell_type": "markdown",
   "metadata": {},
   "source": [
    "In some runs, you will see the optimization getting stuck in a local minima of energy (usually zero energy). Do not forget to restart the kernel before rerunning the file! "
   ]
  }
 ],
 "metadata": {
  "kernelspec": {
   "display_name": "Python 3",
   "language": "python",
   "name": "python3"
  },
  "language_info": {
   "codemirror_mode": {
    "name": "ipython",
    "version": 3
   },
   "file_extension": ".py",
   "mimetype": "text/x-python",
   "name": "python",
   "nbconvert_exporter": "python",
   "pygments_lexer": "ipython3",
   "version": "3.7.3"
  }
 },
 "nbformat": 4,
 "nbformat_minor": 2
}
