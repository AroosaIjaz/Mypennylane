{
 "cells": [
  {
   "cell_type": "code",
   "execution_count": 8,
   "metadata": {},
   "outputs": [],
   "source": [
    "import pennylane as qml\n",
    "from pennylane import numpy as np"
   ]
  },
  {
   "cell_type": "markdown",
   "metadata": {},
   "source": [
    "Lets use `QubitStateVector` function to make the state $|\\psi\\rangle = \\frac{1}{\\sqrt{2}}(|00\\rangle-i|11\\rangle)$"
   ]
  },
  {
   "cell_type": "code",
   "execution_count": 9,
   "metadata": {},
   "outputs": [],
   "source": [
    "dev2 = qml.device('default.qubit', wires=2)\n",
    "\n",
    "@qml.qnode(dev2)\n",
    "def make_State2(s=None):\n",
    "    qml.QubitStateVector(s, wires=[0,1])\n",
    "    return qml.expval.PauliZ(0),qml.expval.PauliZ(1)"
   ]
  },
  {
   "cell_type": "code",
   "execution_count": 10,
   "metadata": {},
   "outputs": [
    {
     "name": "stdout",
     "output_type": "stream",
     "text": [
      "[1.41421356+0.j         0.        +0.j         0.        +0.j\n",
      " 0.        -1.41421356j]\n"
     ]
    },
    {
     "data": {
      "text/plain": [
       "array([2., 2.])"
      ]
     },
     "execution_count": 10,
     "metadata": {},
     "output_type": "execute_result"
    }
   ],
   "source": [
    "state = np.array([1+0.j, 0.j, 0.j, 0-1.j])*np.sqrt(2)\n",
    "print(state)\n",
    "#print(state.shape)\n",
    "make_State2(s=state)"
   ]
  },
  {
   "cell_type": "code",
   "execution_count": 11,
   "metadata": {},
   "outputs": [
    {
     "data": {
      "text/plain": [
       "array([1.41421356, 0.        , 0.        , 0.        ])"
      ]
     },
     "execution_count": 11,
     "metadata": {},
     "output_type": "execute_result"
    }
   ],
   "source": [
    "dev2._state"
   ]
  },
  {
   "cell_type": "markdown",
   "metadata": {},
   "source": [
    "Q: Is the `dev2._state` function only shpwing the real part of the wavefunction. \n",
    "\n",
    "\n",
    "Q. The expectation values are not correct. The normalization factor of the input state is throwing it off. "
   ]
  },
  {
   "cell_type": "code",
   "execution_count": null,
   "metadata": {},
   "outputs": [],
   "source": []
  }
 ],
 "metadata": {
  "kernelspec": {
   "display_name": "Python 3",
   "language": "python",
   "name": "python3"
  },
  "language_info": {
   "codemirror_mode": {
    "name": "ipython",
    "version": 3
   },
   "file_extension": ".py",
   "mimetype": "text/x-python",
   "name": "python",
   "nbconvert_exporter": "python",
   "pygments_lexer": "ipython3",
   "version": "3.7.3"
  }
 },
 "nbformat": 4,
 "nbformat_minor": 2
}
