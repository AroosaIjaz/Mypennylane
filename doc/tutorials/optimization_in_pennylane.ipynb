{
 "cells": [
  {
   "cell_type": "markdown",
   "metadata": {},
   "source": [
    "# Optimization in PennyLane"
   ]
  },
  {
   "cell_type": "markdown",
   "metadata": {},
   "source": [
    "Now that we are familiar with the different operations that are available and how quantum gradients are calculated in PennyLane, we can carry out cost/objective optimization. "
   ]
  },
  {
   "cell_type": "markdown",
   "metadata": {},
   "source": [
    "The gradient descent algorithm has two steps:\n",
    "\n",
    "1. Compute the gradient of cost function: $\\nabla_\\alpha C$ \n",
    "2. Update the parameters $\\alpha$ in proportion to this gradient: \n",
    "$$\\alpha \\mapsto \\alpha - \\eta \\nabla_\\alpha C$$\n",
    "\n",
    "The scaling factor $\\eta$ is known as the *learning rate*."
   ]
  },
  {
   "cell_type": "markdown",
   "metadata": {},
   "source": [
    "> This procedure is carried out automatically by the PennyLane [GradientDescentOptimizer](https://pennylane.readthedocs.io/en/latest/code/optimize.html#pennylane.optimize.GradientDescentOptimizer) object. This function needs to be called with one argument: the `stepsize` for the gradient descent algorithm."
   ]
  },
  {
   "cell_type": "markdown",
   "metadata": {},
   "source": [
    "### Example"
   ]
  },
  {
   "cell_type": "code",
   "execution_count": 1,
   "metadata": {},
   "outputs": [],
   "source": [
    "# first we import the essentials\n",
    "import pennylane as qml\n",
    "from pennylane import numpy as np"
   ]
  },
  {
   "cell_type": "code",
   "execution_count": 2,
   "metadata": {},
   "outputs": [],
   "source": [
    "dev1 = qml.device('default.qubit', wires = 2)\n",
    "\n",
    "@qml.qnode(dev1)\n",
    "def circuit(params):\n",
    "    qml.Hadamard(wires = 1)\n",
    "    qml.RX(params[0], wires = 0)\n",
    "    qml.RX(params[1], wires = 1)\n",
    "    qml.CNOT(wires = [0,1])\n",
    "    return qml.expval.PauliZ(wires=0)"
   ]
  },
  {
   "cell_type": "code",
   "execution_count": 3,
   "metadata": {},
   "outputs": [],
   "source": [
    "# Define cost function\n",
    "def cost(var):\n",
    "    return circuit(var)"
   ]
  },
  {
   "cell_type": "markdown",
   "metadata": {},
   "source": [
    "For simplicity, we have taken the cost function to be the expectation value of the Pauli-Z operator on the first qubit. Hence, the `GradientDescentOptimizer` will optimize `params` so as to get the lowest possible value of $\\langle\\hat{\\sigma}_z\\rangle_0$ for this circuit. "
   ]
  },
  {
   "cell_type": "markdown",
   "metadata": {},
   "source": [
    "Let's explicitly look at what happens in a single step of the gradient descent algorithm for this example:"
   ]
  },
  {
   "cell_type": "code",
   "execution_count": 4,
   "metadata": {},
   "outputs": [
    {
     "name": "stdout",
     "output_type": "stream",
     "text": [
      "Initial value: [0.279926   0.23524652]\n",
      "Value after one step: [0.30755446 0.23524652]\n"
     ]
    }
   ],
   "source": [
    "eta = 0.1\n",
    "opt = qml.GradientDescentOptimizer(eta)\n",
    "\n",
    "init_val = np.random.random(2)\n",
    "new_val = opt.step(cost, init_val)\n",
    "print(\"Initial value:\", init_val)\n",
    "print(\"Value after one step:\", new_val)"
   ]
  },
  {
   "cell_type": "code",
   "execution_count": 5,
   "metadata": {},
   "outputs": [],
   "source": [
    "# Confirm that automatic update does what we expect\n",
    "grad_circuit = qml.grad(circuit, argnum = 0)\n",
    "new_val_manual = init_val - eta * grad_circuit(init_val)\n",
    "assert np.allclose(new_val, new_val_manual)"
   ]
  },
  {
   "cell_type": "markdown",
   "metadata": {},
   "source": [
    "In general, we will have to perform many optimization steps (10s to 100s) to find the optimized parameters of a cost function. "
   ]
  },
  {
   "cell_type": "markdown",
   "metadata": {},
   "source": [
    "**Note:** There are a number of other optimizers in the gradient descent family which are available in PennyLane"
   ]
  },
  {
   "cell_type": "code",
   "execution_count": 6,
   "metadata": {},
   "outputs": [
    {
     "data": {
      "text/plain": [
       "['AdagradOptimizer',\n",
       " 'AdamOptimizer',\n",
       " 'GradientDescentOptimizer',\n",
       " 'MomentumOptimizer',\n",
       " 'NesterovMomentumOptimizer',\n",
       " 'RMSPropOptimizer']"
      ]
     },
     "execution_count": 6,
     "metadata": {},
     "output_type": "execute_result"
    }
   ],
   "source": [
    "qml.optimize.__all__"
   ]
  },
  {
   "cell_type": "markdown",
   "metadata": {},
   "source": [
    "See [pennylane.optimize](https://pennylane.readthedocs.io/en/latest/code/optimize.html#module-pennylane.optimize) for details and documentation of available optimizers"
   ]
  }
 ],
 "metadata": {
  "kernelspec": {
   "display_name": "Python 3",
   "language": "python",
   "name": "python3"
  },
  "language_info": {
   "codemirror_mode": {
    "name": "ipython",
    "version": 3
   },
   "file_extension": ".py",
   "mimetype": "text/x-python",
   "name": "python",
   "nbconvert_exporter": "python",
   "pygments_lexer": "ipython3",
   "version": "3.7.3"
  }
 },
 "nbformat": 4,
 "nbformat_minor": 2
}
