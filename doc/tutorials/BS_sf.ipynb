{
 "cells": [
  {
   "cell_type": "markdown",
   "metadata": {},
   "source": [
    "# Non-Gaussian Circuit with Strawberry Fields"
   ]
  },
  {
   "cell_type": "markdown",
   "metadata": {},
   "source": [
    "In this example, we introduce PennyLane’s [Strawberry Fields plugin](https://github.com/XanaduAI/pennylane-sf) and use it to explore a non-Gaussian photonic circuit. "
   ]
  },
  {
   "cell_type": "markdown",
   "metadata": {},
   "source": [
    "<div class=\"admonition note\">\n",
    "\n",
    "<div class=\"admonition-title\">Note</div>\n",
    "\n",
    "To follow along with this tutorial on your own computer, you will require:\n",
    "\n",
    "- The `PennyLane-SF` plugin in order to access the Strawberry Fields Fock backend using PennyLane. It can be installed via pip:\n",
    "\n",
    "`pip install pennylane-sf`\n",
    "\n",
    "</div>\n",
    "\n",
    "</div>"
   ]
  },
  {
   "cell_type": "markdown",
   "metadata": {},
   "source": [
    "### A Non-Gaussian Circuit"
   ]
  },
  {
   "cell_type": "markdown",
   "metadata": {},
   "source": [
    "We will be considering the following photonic circuit:"
   ]
  },
  {
   "attachments": {
    "photon_redirection.svg": {
     "image/svg+xml": [
      "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"
     ]
    }
   },
   "cell_type": "markdown",
   "metadata": {},
   "source": [
    "![photon_redirection.svg](attachment:photon_redirection.svg)"
   ]
  },
  {
   "cell_type": "markdown",
   "metadata": {},
   "source": [
    "Breaking this down, step-by-step:\n",
    "\n",
    "1. **We start the computation with two qumode subsystems.** In PennyLane, we use the shorthand wires to refer to quantum subsystems, whether they are qumodes, qubits or any other kind of quantum register.\n",
    "\n",
    "2. **Prepare the state $\\mid1,0\\rangle$.** Hence, wire 0 is prepared in a single-photon state while wire 1 is prepared in the vacuum state. The former state is non-Gaussian, necessitating the use of the `strawberryfields.fock` backend device.\n",
    "\n",
    "3. **Both wires are then incident on a beamsplitter with free parameters $\\theta$ and $\\phi$.** Here, we have the convention that the beamsplitter transmission amplitude is $t=\\cos\\theta$ and the reflection amplitude is $r=e^{i\\phi}\\sin\\theta$. \n",
    "\n",
    "4. **Finally, we measure the mean photon number $\\langle\\hat{n}\\rangle$ of the second wire**, where $\\hat{n}=\\hat{a}^{\\dagger}\\hat{a}$ is the number operator acting on the Fock basis such that $\\hat{n}\\mid n\\rangle=n \\mid n\\rangle$."
   ]
  },
  {
   "cell_type": "markdown",
   "metadata": {},
   "source": [
    "The **aim** of this example is to optimize the beamsplitter parameters $(\\theta,\\phi)$ such that the expected photon number of the second wire is maximized. Since the beamsplitter is a passive optical element that preserves the total photon number, this corresponds to the output state $\\mid0,1\\rangle$ — i.e., when the incident photon from the first wire has been ‘redirected’ to the second wire."
   ]
  },
  {
   "cell_type": "markdown",
   "metadata": {},
   "source": [
    "### Exact Calculation"
   ]
  },
  {
   "cell_type": "markdown",
   "metadata": {},
   "source": [
    "The initial state of the circuit is $\\psi_0=\\mid1,0\\rangle$. The output state of the system is of the form $\\psi=a \\mid1,0\\rangle+b \\mid0,1\\rangle$ where $\\mid a\\mid^2 + \\mid b\\mid^2 = 1$."
   ]
  },
  {
   "cell_type": "markdown",
   "metadata": {},
   "source": [
    "We may thus write the output state as a vector in this computational basis $\\psi=\\begin{pmatrix} a \\\\ b\\end{pmatrix}$."
   ]
  },
  {
   "cell_type": "markdown",
   "metadata": {},
   "source": [
    "The beamsplitter acts on this two-dimensional subspace as follows:"
   ]
  },
  {
   "cell_type": "markdown",
   "metadata": {},
   "source": [
    "$$ \\psi=B(\\theta,\\phi)\\mid1,0\\rangle=\\begin{pmatrix} \\cos\\theta &  -e^{-i\\phi}\\sin\\theta \\\\ e^{i\\phi}\\sin\\theta & \\cos\\theta \\end{pmatrix}\\begin{pmatrix} 1 \\\\ 0 \\end{pmatrix} = \\begin{pmatrix} \\cos\\theta \\\\ e^{i\\phi}\\sin\\theta \\end{pmatrix} $$"
   ]
  },
  {
   "cell_type": "markdown",
   "metadata": {},
   "source": [
    "Furthermore, the mean photon number of the second wire is:"
   ]
  },
  {
   "cell_type": "markdown",
   "metadata": {},
   "source": [
    "$$\\langle\\hat{n}_1\\rangle=\\langle\\psi\\mid\\hat{n}_1\\mid\\psi\\rangle=\\mid e^{i\\phi}\\sin\\theta\\mid^2 \\langle0,1\\mid\\hat{n}_1\\mid0,1\\rangle=\\sin^2\\theta $$"
   ]
  },
  {
   "cell_type": "markdown",
   "metadata": {},
   "source": [
    "Therefore, we can see that:\n",
    "\n",
    "1. $0\\leq\\hat{n}_1\\leq1$ : the output of the quantum circuit is bound between 0 and 1\n",
    "\n",
    "2. $\\frac{\\partial}{\\partial\\phi}\\langle\\hat{n}_1\\rangle =0$: the output of the quantum circuit is independent of the beamsplitter phase  $\\phi$\n",
    "\n",
    "3. The output of the quantum circuit above is maximised when  $\\theta=(2m+1)\\pi/2$ for $m \\in \\mathbb{Z}_0$"
   ]
  },
  {
   "cell_type": "markdown",
   "metadata": {},
   "source": [
    "### Loading The Plugin Device"
   ]
  },
  {
   "cell_type": "markdown",
   "metadata": {},
   "source": [
    "While PennyLane provides a basic qubit simulator (`default.qubit`) and a basic CV Gaussian simulator (`default.gaussian`), the true power of PennyLane comes from its [plugin ecosystem](https://pennylane.readthedocs.io/en/latest/plugins.html), allowing quantum computations to be run on a variety of quantum simulator and hardware devices."
   ]
  },
  {
   "cell_type": "markdown",
   "metadata": {},
   "source": [
    "For this circuit, we will be using the `strawberryfields.fock` device to construct a `QNode`. This allows the underlying quantum computation to be performed using the Strawberry Fields Fock backend."
   ]
  },
  {
   "cell_type": "code",
   "execution_count": 1,
   "metadata": {},
   "outputs": [],
   "source": [
    "# lets first import the essentials\n",
    "import pennylane as qml\n",
    "from pennylane import numpy as np"
   ]
  },
  {
   "cell_type": "markdown",
   "metadata": {},
   "source": [
    "Next, we create a device to run the quantum node. This is easy in PennyLane; as soon as the `PennyLane-SF` plugin is installed, the `strawberryfields.fock` device can be loaded — no additional commands or library imports required."
   ]
  },
  {
   "cell_type": "code",
   "execution_count": 2,
   "metadata": {},
   "outputs": [],
   "source": [
    "dev_fock = qml.device('strawberryfields.fock', wires=2, cutoff_dim=2)"
   ]
  },
  {
   "cell_type": "markdown",
   "metadata": {},
   "source": [
    "Compared to the default devices provided with PennyLane, the `strawberryfields.fock` device requires the additional keyword argument:\n",
    "- `cutoff_dim`: the Fock space truncation used to perform the quantum simulation"
   ]
  },
  {
   "cell_type": "markdown",
   "metadata": {},
   "source": [
    "<div class=\"admonition important\">\n",
    "\n",
    "<div class=\"admonition-title\">Note</div>\n",
    "\n",
    "Devices provided by external plugins may require additional arguments and keyword arguments — consult the plugin documentation for more details.\n",
    "\n",
    "</div>\n",
    "\n",
    "</div>"
   ]
  },
  {
   "cell_type": "markdown",
   "metadata": {},
   "source": [
    "### Constructing the QNode"
   ]
  },
  {
   "cell_type": "markdown",
   "metadata": {},
   "source": [
    "Now that we have initialized the device, we can construct our quantum node. Like the other tutorials, we use the `qnode decorator` to convert our quantum function (encoded by the circuit above) into a quantum node running on Strawberry Fields."
   ]
  },
  {
   "cell_type": "code",
   "execution_count": 3,
   "metadata": {},
   "outputs": [],
   "source": [
    "@qml.qnode(dev_fock)\n",
    "def photon_redirection(params):\n",
    "    qml.FockState(1, wires=0)\n",
    "    qml.Beamsplitter(params[0], params[1], wires=[0, 1])\n",
    "    return qml.expval.MeanPhoton(1)"
   ]
  },
  {
   "cell_type": "markdown",
   "metadata": {},
   "source": [
    "The `strawberryfields.fock` device supports all CV objects provided by PennyLane; see [CV operations](https://pennylane.readthedocs.io/en/latest/code/ops/cv.html#cv-ops) and [CV expectations](https://pennylane.readthedocs.io/en/latest/code/expval/cv.html#cv-expval)."
   ]
  },
  {
   "cell_type": "markdown",
   "metadata": {},
   "source": [
    "### Optimization"
   ]
  },
  {
   "cell_type": "markdown",
   "metadata": {},
   "source": [
    "Let’s now use one of the built-in PennyLane optimizers in order to carry out photon redirection. Since we wish to maximize the mean photon number of the second wire, we can define our cost function to *minimize* the negative of the circuit output."
   ]
  },
  {
   "cell_type": "code",
   "execution_count": 4,
   "metadata": {},
   "outputs": [],
   "source": [
    "def cost(params):\n",
    "    return -photon_redirection(params)"
   ]
  },
  {
   "cell_type": "markdown",
   "metadata": {},
   "source": [
    "To begin our optimization, let’s choose the following small initial values of $\\theta$ and $\\phi$:"
   ]
  },
  {
   "cell_type": "code",
   "execution_count": 5,
   "metadata": {},
   "outputs": [
    {
     "data": {
      "text/plain": [
       "-9.999666671111085e-05"
      ]
     },
     "execution_count": 5,
     "metadata": {},
     "output_type": "execute_result"
    }
   ],
   "source": [
    "init_params = np.array([0.01, 0.01])\n",
    "cost(init_params)"
   ]
  },
  {
   "cell_type": "markdown",
   "metadata": {},
   "source": [
    "Here, we choose the values of $\\theta$ and $\\phi$ to be very close to zero; this results in $B(\\theta,\\phi)\\approx \\hat{I}$, and the output of the quantum circuit will be very close to $\\mid1,0\\rangle$ — i.e., the circuit leaves the photon in the first mode."
   ]
  },
  {
   "cell_type": "markdown",
   "metadata": {},
   "source": [
    "<div class=\"admonition note\">\n",
    "\n",
    "<div class=\"admonition-title\">Note</div>\n",
    "\n",
    "Why don’t we choose $\\theta=0$ and $\\phi=0$ as the initial values?\n",
    "\n",
    "At this point in the parameter space:\n",
    "\n",
    "$$\\langle\\hat{n}_1\\rangle=0$$\n",
    "\n",
    "$$\\frac{\\partial}{\\partial\\theta}\\langle\\hat{n}_1\\rangle|_{\\theta=0}=2\\sin\\theta\\cos\\theta|_{\\theta=0}=0$$\n",
    "\n",
    "Since the gradient is zero at these initial parameter values, the optimization algorithm would never descend from the maximum.\n",
    "</div>\n",
    "\n",
    "</div>"
   ]
  },
  {
   "cell_type": "markdown",
   "metadata": {},
   "source": [
    "This can also be verified directly using PennyLane `grad()` function:"
   ]
  },
  {
   "cell_type": "code",
   "execution_count": 6,
   "metadata": {},
   "outputs": [
    {
     "data": {
      "text/plain": [
       "[0.0, 0.0]"
      ]
     },
     "execution_count": 6,
     "metadata": {},
     "output_type": "execute_result"
    }
   ],
   "source": [
    "dphoton_redirection = qml.grad(photon_redirection, argnum=0)\n",
    "dphoton_redirection([0., 0.])"
   ]
  },
  {
   "cell_type": "markdown",
   "metadata": {},
   "source": [
    "Now, let’s use the `GradientDescentOptimizer` and update the circuit parameters over 100 optimization steps."
   ]
  },
  {
   "cell_type": "code",
   "execution_count": 7,
   "metadata": {},
   "outputs": [
    {
     "name": "stdout",
     "output_type": "stream",
     "text": [
      "Cost after step     5: -0.0349558\n",
      "Cost after step    10: -0.9969017\n",
      "Cost after step    15: -1.0000000\n",
      "Cost after step    20: -1.0000000\n",
      "Cost after step    25: -1.0000000\n",
      "Cost after step    30: -1.0000000\n",
      "Cost after step    35: -1.0000000\n",
      "Cost after step    40: -1.0000000\n",
      "Cost after step    45: -1.0000000\n",
      "Cost after step    50: -1.0000000\n",
      "Cost after step    55: -1.0000000\n",
      "Cost after step    60: -1.0000000\n",
      "Cost after step    65: -1.0000000\n",
      "Cost after step    70: -1.0000000\n",
      "Cost after step    75: -1.0000000\n",
      "Cost after step    80: -1.0000000\n",
      "Cost after step    85: -1.0000000\n",
      "Cost after step    90: -1.0000000\n",
      "Cost after step    95: -1.0000000\n",
      "Cost after step   100: -1.0000000\n"
     ]
    }
   ],
   "source": [
    "# initialise the optimizer\n",
    "opt = qml.GradientDescentOptimizer(stepsize=0.4)\n",
    "\n",
    "# set the number of steps\n",
    "steps = 100\n",
    "# set the initial parameter values\n",
    "params = init_params\n",
    "\n",
    "for i in range(steps):\n",
    "    # update the circuit parameters\n",
    "    params = opt.step(cost, params)\n",
    "\n",
    "    if (i+1) % 5 == 0:\n",
    "        print('Cost after step {:5d}: {: .7f}'.format(i+1, cost(params)) )"
   ]
  },
  {
   "cell_type": "markdown",
   "metadata": {},
   "source": [
    "Try this yourself — the optimization should converge quickly, giving the following values of $\\theta$ and $\\phi$:"
   ]
  },
  {
   "cell_type": "code",
   "execution_count": 8,
   "metadata": {},
   "outputs": [
    {
     "name": "stdout",
     "output_type": "stream",
     "text": [
      "Optimized rotation angles: [1.57079633 0.01      ]\n"
     ]
    }
   ],
   "source": [
    "print('Optimized rotation angles: {}'.format(params))"
   ]
  },
  {
   "cell_type": "markdown",
   "metadata": {},
   "source": [
    "Comparing this to the exact calculation above, this is close to the optimum value of $\\theta=\\pi/2$, while the value of $\\phi$ has not changed — consistent with the fact that $\\langle\\hat{n}_1\\rangle$ is independent of $\\phi$."
   ]
  }
 ],
 "metadata": {
  "kernelspec": {
   "display_name": "Python 3",
   "language": "python",
   "name": "python3"
  },
  "language_info": {
   "codemirror_mode": {
    "name": "ipython",
    "version": 3
   },
   "file_extension": ".py",
   "mimetype": "text/x-python",
   "name": "python",
   "nbconvert_exporter": "python",
   "pygments_lexer": "ipython3",
   "version": "3.7.3"
  }
 },
 "nbformat": 4,
 "nbformat_minor": 2
}
