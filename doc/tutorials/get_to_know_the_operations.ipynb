{
 "cells": [
  {
   "cell_type": "markdown",
   "metadata": {},
   "source": [
    "# Get to know the Operations"
   ]
  },
  {
   "cell_type": "markdown",
   "metadata": {},
   "source": [
    "In this tutorial, we use the quantum circuits we learned in the previous tutorial and get aquainted with the different kinds of quantum operations we can use in PennyLane through examples. For a full list of quantum operations, see [pennylane.ops](https://pennylane.readthedocs.io/en/latest/code/ops.html#module-pennylane.ops) and [pennylane.expval](https://pennylane.readthedocs.io/en/latest/code/expval.html#module-pennylane.expval)"
   ]
  },
  {
   "cell_type": "code",
   "execution_count": 1,
   "metadata": {},
   "outputs": [],
   "source": [
    "# lets first import the essentials\n",
    "\n",
    "import pennylane as qml\n",
    "from pennylane import numpy as np"
   ]
  },
  {
   "cell_type": "markdown",
   "metadata": {},
   "source": [
    "### Discrete Variable Quantum Operations"
   ]
  },
  {
   "cell_type": "markdown",
   "metadata": {},
   "source": [
    "#### 1. RX, PauliZ "
   ]
  },
  {
   "cell_type": "markdown",
   "metadata": {},
   "source": [
    "Lets look at the example we saw in the first tutorial in deatil:"
   ]
  },
  {
   "cell_type": "markdown",
   "metadata": {},
   "source": [
    "> [RX](https://pennylane.readthedocs.io/en/latest/code/ops/qubit.html#pennylane.ops.qubit.RX) function in pennyLane applies $e^{-i\\phi\\frac{\\sigma_x}{2}}$ phase operation to the given single qubit "
   ]
  },
  {
   "cell_type": "markdown",
   "metadata": {},
   "source": [
    "> [expval.PauliZ](https://pennylane.readthedocs.io/en/latest/code/expval/qubit.html#pennylane.expval.qubit.PauliZ) calculates the expectation value of the Pauli Z operator on the given quantum state"
   ]
  },
  {
   "cell_type": "code",
   "execution_count": 2,
   "metadata": {},
   "outputs": [],
   "source": [
    "dev1 = qml.device('default.qubit', wires=1)\n",
    "\n",
    "@qml.qnode(dev1)\n",
    "def circuit(param):\n",
    "    qml.RX(param, wires=0)\n",
    "    return qml.expval.PauliZ(0)"
   ]
  },
  {
   "cell_type": "code",
   "execution_count": 3,
   "metadata": {},
   "outputs": [
    {
     "data": {
      "text/plain": [
       "-1.0"
      ]
     },
     "execution_count": 3,
     "metadata": {},
     "output_type": "execute_result"
    }
   ],
   "source": [
    "circuit(np.pi)"
   ]
  },
  {
   "cell_type": "markdown",
   "metadata": {},
   "source": [
    "Lets explicitly look at what is happening behind the scence in this example when we call the `circuit` function with argument $\\pi$:"
   ]
  },
  {
   "cell_type": "markdown",
   "metadata": {},
   "source": [
    "$$ RX(\\pi)=\\begin{pmatrix} \\cos(\\frac{\\pi}{2}) &  -i\\sin(\\frac{\\pi}{2}) \\\\ -i\\sin(\\frac{\\pi}{2}) & \\cos(\\frac{\\pi}{2}) \\end{pmatrix}$$"
   ]
  },
  {
   "cell_type": "markdown",
   "metadata": {},
   "source": [
    "$$ RX(\\pi)|0\\rangle=\\begin{pmatrix} \\cos(\\frac{\\pi}{2}) &  -i\\sin(\\frac{\\pi}{2}) \\\\ -i\\sin(\\frac{\\pi}{2}) & \\cos(\\frac{\\pi}{2}) \\end{pmatrix}\\begin{pmatrix} 1 \\\\ 0 \\end{pmatrix} = \\begin{pmatrix} 0 \\\\ -i\\end{pmatrix} $$"
   ]
  },
  {
   "cell_type": "markdown",
   "metadata": {},
   "source": [
    "$$\\langle\\begin{pmatrix} 0 & i\\end{pmatrix}\\mid\\hat{\\sigma}_z\\mid\\begin{pmatrix} 0 \\\\ -i\\end{pmatrix}\\rangle = -1$$"
   ]
  },
  {
   "attachments": {
    "circexample.png": {
     "image/png": "[encoded data removed]"
    }
   },
   "cell_type": "markdown",
   "metadata": {},
   "source": [
    "![circexample.png](attachment:circexample.png)"
   ]
  },
  {
   "cell_type": "markdown",
   "metadata": {},
   "source": [
    "#### 2. H, CNOT, Multiple Expectation Values"
   ]
  },
  {
   "cell_type": "markdown",
   "metadata": {},
   "source": [
    "> [Hadamard](https://pennylane.readthedocs.io/en/latest/code/ops/qubit.html#pennylane.ops.qubit.Hadamard) operator takes in one qubit. It maps $|0\\rangle$ to $|+\\rangle$ and $|1\\rangle$ to $|-\\rangle$"
   ]
  },
  {
   "cell_type": "markdown",
   "metadata": {},
   "source": [
    "> [CNOT](https://pennylane.readthedocs.io/en/latest/code/ops/qubit.html#pennylane.ops.qubit.CNOT)  is the two-qubit Controlled-Not operator"
   ]
  },
  {
   "cell_type": "markdown",
   "metadata": {},
   "source": [
    "> PennyLane supports the return of multiple expectation values, up to one per wire."
   ]
  },
  {
   "cell_type": "code",
   "execution_count": 4,
   "metadata": {},
   "outputs": [],
   "source": [
    "dev2 = qml.device('default.qubit', wires=2)\n",
    "\n",
    "@qml.qnode(dev2)\n",
    "def entangle_local():\n",
    "    qml.Hadamard(wires=0)\n",
    "    qml.CNOT(wires=[0,1])\n",
    "    return qml.expval.PauliZ(0), qml.expval.PauliZ(1)"
   ]
  },
  {
   "cell_type": "markdown",
   "metadata": {},
   "source": [
    "This produces the completely entangled Bell state $|\\Phi^{+}\\rangle = \\frac{1}{\\sqrt{2}}(|00\\rangle+|11\\rangle)$"
   ]
  },
  {
   "cell_type": "code",
   "execution_count": 5,
   "metadata": {},
   "outputs": [
    {
     "data": {
      "text/plain": [
       "array([0., 0.])"
      ]
     },
     "execution_count": 5,
     "metadata": {},
     "output_type": "execute_result"
    }
   ],
   "source": [
    "entangle_local()"
   ]
  },
  {
   "cell_type": "markdown",
   "metadata": {},
   "source": [
    "In `entangle_local`, expectation values of Pauli Z are measured locally, i.e. this circuit is evaluating "
   ]
  },
  {
   "cell_type": "markdown",
   "metadata": {},
   "source": [
    "$\\langle\\sigma_z\\rangle _0 = \\langle\\sigma_z \\otimes \\hat{I} \\rangle$, $\\langle\\sigma_z\\rangle _1 = \\langle\\hat{I}\\otimes\\sigma_z\\rangle$      and <font color=brown>**not**</font> \n",
    "$\\langle\\sigma_z \\otimes \\sigma_z \\rangle _{01}$"
   ]
  },
  {
   "cell_type": "markdown",
   "metadata": {},
   "source": [
    "As a result, the reduced states of $|\\Phi^{+}\\rangle$ on each subsystem are completely mixed and local expectation values average to zero."
   ]
  },
  {
   "cell_type": "markdown",
   "metadata": {},
   "source": [
    "In order to measure $\\langle\\sigma_z \\otimes \\sigma_z \\rangle _{01}$, we can use the Hermitian operator shown below. "
   ]
  },
  {
   "cell_type": "markdown",
   "metadata": {},
   "source": [
    "#### 3. Hermitian Operator "
   ]
  },
  {
   "cell_type": "markdown",
   "metadata": {},
   "source": [
    "> [expval.Hermitian](https://pennylane.readthedocs.io/en/latest/code/expval/qubit.html#pennylane.expval.qubit.Hermitian) lets us calculate the expectation value of any customized Hermitian operator "
   ]
  },
  {
   "cell_type": "code",
   "execution_count": 6,
   "metadata": {},
   "outputs": [],
   "source": [
    "dev3 = qml.device('default.qubit', wires=2)\n",
    "\n",
    "@qml.qnode(dev3)\n",
    "def entangle_global(A):\n",
    "    qml.Hadamard(wires=0)\n",
    "    qml.CNOT(wires=[0,1])\n",
    "    return qml.expval.Hermitian(A, wires=[0,1])"
   ]
  },
  {
   "cell_type": "code",
   "execution_count": 7,
   "metadata": {},
   "outputs": [
    {
     "data": {
      "text/plain": [
       "0.9999999999999998"
      ]
     },
     "execution_count": 7,
     "metadata": {},
     "output_type": "execute_result"
    }
   ],
   "source": [
    "# Pauli Z operator\n",
    "sigma_Z = np.array([[1,0],[0, -1]])\n",
    "\n",
    "# Define the Hermitian matrix of tensor product of Pauli Z operators\n",
    "sigma_ZZ = np.kron(sigma_Z,sigma_Z)\n",
    "\n",
    "#call the function with this operator\n",
    "entangle_global(sigma_ZZ)"
   ]
  },
  {
   "cell_type": "markdown",
   "metadata": {},
   "source": [
    "This makes sense as $\\langle \\Phi^{+}\\mid\\sigma_z \\otimes \\sigma_z\\mid\\Phi^{+}\\rangle = 1$.  Both spins are either up or down."
   ]
  },
  {
   "cell_type": "markdown",
   "metadata": {},
   "source": [
    "<font color=brown>**NOTE:** Better practice will be to explicitly mention `A=None` in the arguments of `entangle_global` function to inform pennyLane **not** to use this matrix as a differential argument. See `Keyword arguments` in [Advanced features](https://pennylane.readthedocs.io/en/latest/tutorials/advanced_usage.html#keyword-arguments) tutorial.</font>"
   ]
  },
  {
   "cell_type": "markdown",
   "metadata": {},
   "source": [
    "### Continuous Variable Quantum Operations"
   ]
  },
  {
   "cell_type": "markdown",
   "metadata": {},
   "source": [
    "#### 1. Displacement Operator, MeanPhoton"
   ]
  },
  {
   "cell_type": "markdown",
   "metadata": {},
   "source": [
    "> [Displacement](https://pennylane.readthedocs.io/en/latest/code/ops/cv.html#pennylane.ops.cv.Displacement) operator for the Gaussian state in the phase space. It applies $exp(\\alpha\\hat{a}^{\\dagger}-\\alpha^{*}\\hat{a}^{\\dagger})$ to the Gaussian state where $\\alpha = ae^{i\\phi}$"
   ]
  },
  {
   "cell_type": "markdown",
   "metadata": {},
   "source": [
    "> [expval.MeanPhoton](https://pennylane.readthedocs.io/en/latest/code/expval/cv.html#pennylane.expval.cv.MeanPhoton) returns the expectation value of the number operator $\\langle \\hat{n} \\rangle$"
   ]
  },
  {
   "cell_type": "code",
   "execution_count": 8,
   "metadata": {},
   "outputs": [],
   "source": [
    "dev4 = qml.device('default.gaussian', wires=1)\n",
    "\n",
    "@qml.qnode(dev4)\n",
    "def displace_func(mag_alpha, phase_alpha):\n",
    "    qml.Displacement(mag_alpha, phase_alpha, wires=0)\n",
    "    return qml.expval.MeanPhoton(0)"
   ]
  },
  {
   "cell_type": "code",
   "execution_count": 9,
   "metadata": {},
   "outputs": [
    {
     "data": {
      "text/plain": [
       "1.0"
      ]
     },
     "execution_count": 9,
     "metadata": {},
     "output_type": "execute_result"
    }
   ],
   "source": [
    "displace_func(1,0)"
   ]
  },
  {
   "cell_type": "markdown",
   "metadata": {},
   "source": [
    "This makes sense as $\\hat{D}(1,0) \\mid0\\rangle= \\mid1\\rangle$ and hence we measure one photon in the system. "
   ]
  },
  {
   "cell_type": "markdown",
   "metadata": {},
   "source": [
    "#### 2. Heisenberg Uncertainty for squeezed states"
   ]
  },
  {
   "cell_type": "markdown",
   "metadata": {},
   "source": [
    "> [Squeezing](https://pennylane.readthedocs.io/en/latest/code/ops/cv.html#pennylane.ops.cv.Squeezing) operator implements phase space squeezing"
   ]
  },
  {
   "cell_type": "markdown",
   "metadata": {},
   "source": [
    "> [expval.X](https://pennylane.readthedocs.io/en/latest/code/expval/cv.html#pennylane.expval.cv.X) and [expval.P](https://pennylane.readthedocs.io/en/latest/code/expval/cv.html#pennylane.expval.cv.P) calculate the expectation value of position and momentum in the phase space, respectively"
   ]
  },
  {
   "cell_type": "markdown",
   "metadata": {},
   "source": [
    "> [expval.PolyXP](https://pennylane.readthedocs.io/en/latest/code/expval/cv.html#pennylane.expval.cv.PolyXP) can be used to calculate higher order X/P expectation values. It requires a  matrix as input to determine what expectations to calculate and returns a sum of all the activated terms. For example: for the given matrix $$A=\\begin{pmatrix} 0 & 1 & 0 \\\\ 1 & 1 & 0\\\\ 0 & 0 & 1 \\end{pmatrix}$$\n",
    "PolyXP will return $\\langle \\hat{x} \\rangle + \\langle \\hat{x}^2 \\rangle + \\langle \\hat{p}^2 \\rangle$"
   ]
  },
  {
   "cell_type": "markdown",
   "metadata": {},
   "source": [
    "<font color=brown>**NOTE:** In PennyLane, $\\hbar = 2$</font>"
   ]
  },
  {
   "cell_type": "code",
   "execution_count": 10,
   "metadata": {},
   "outputs": [],
   "source": [
    "# We can create multiple QNodes on the same device \n",
    "\n",
    "dev5 = qml.device('default.gaussian', wires=1)\n",
    "\n",
    "@qml.qnode(dev5)\n",
    "def before_squeezing_X(mag_alpha, phase_alpha):\n",
    "    qml.Displacement(mag_alpha, phase_alpha, wires=0)\n",
    "    return qml.expval.X(0)\n",
    "\n",
    "@qml.qnode(dev5)\n",
    "def before_squeezing_X2(mag_alpha, phase_alpha, q=None):\n",
    "    qml.Displacement(mag_alpha, phase_alpha, wires=0)\n",
    "    return qml.expval.PolyXP(q,wires=0)\n",
    "\n",
    "@qml.qnode(dev5)\n",
    "def before_squeezing_P(mag_alpha, phase_alpha):\n",
    "    qml.Displacement(mag_alpha, phase_alpha, wires=0)\n",
    "    return qml.expval.P(0)\n",
    "\n",
    "@qml.qnode(dev5)\n",
    "def before_squeezing_P2(mag_alpha, phase_alpha, q=None):\n",
    "    qml.Displacement(mag_alpha, phase_alpha, wires=0)\n",
    "    return qml.expval.PolyXP(q,wires=0)"
   ]
  },
  {
   "cell_type": "markdown",
   "metadata": {},
   "source": [
    "<font color=brown>**NOTE:** We explicitly mention `q=None` in the arguments to inform pennyLane **not** to use it as a differential argument. See `Keyword arguments` in [Advanced features](https://pennylane.readthedocs.io/en/latest/tutorials/advanced_usage.html#keyword-arguments) tutorial.</font>"
   ]
  },
  {
   "cell_type": "code",
   "execution_count": 11,
   "metadata": {},
   "outputs": [
    {
     "name": "stdout",
     "output_type": "stream",
     "text": [
      "[[0 0 0]\n",
      " [0 1 0]\n",
      " [0 0 0]]\n",
      "2.0\n",
      "5.0\n"
     ]
    }
   ],
   "source": [
    "# lets make the corresponding matrix for PolyXP to get <X^2> \n",
    "q_X2 = np.array([[0,0,0],[0,1,0],[0,0,0]])\n",
    "print(q_X2)\n",
    "\n",
    "mean_X = before_squeezing_X(1,0) \n",
    "print(mean_X)\n",
    "\n",
    "#explicitly state q when calling the function\n",
    "mean_X2 = before_squeezing_X2(1,0, q=q_X2)\n",
    "print(mean_X2)"
   ]
  },
  {
   "cell_type": "markdown",
   "metadata": {},
   "source": [
    "Now we can calculate the satndard deviation using $\\sqrt{\\langle\\hat{x}^2\\rangle - \\langle\\hat{x}\\rangle^2}$"
   ]
  },
  {
   "cell_type": "code",
   "execution_count": 12,
   "metadata": {},
   "outputs": [
    {
     "name": "stdout",
     "output_type": "stream",
     "text": [
      "1.0\n"
     ]
    }
   ],
   "source": [
    "# calculate the standard deviation in Position\n",
    "std_X = np.sqrt((mean_X2-(mean_X)**2))\n",
    "print(std_X)"
   ]
  },
  {
   "cell_type": "code",
   "execution_count": 13,
   "metadata": {},
   "outputs": [
    {
     "name": "stdout",
     "output_type": "stream",
     "text": [
      "[[0 0 0]\n",
      " [0 0 0]\n",
      " [0 0 1]]\n",
      "1.2246467991473532e-16\n",
      "1.0\n"
     ]
    }
   ],
   "source": [
    "# lets make the corresponding matrices for PolyXP to get <P^2>\n",
    "q_P2 = np.array([[0,0,0],[0,0,0],[0,0,1]])\n",
    "print(q_P2)\n",
    "\n",
    "mean_P = before_squeezing_P(1,0) \n",
    "print(mean_P)\n",
    "\n",
    "#explicitly state q when calling the function\n",
    "mean_P2 = before_squeezing_P2(1,0, q=q_P2)\n",
    "print(mean_P2)"
   ]
  },
  {
   "cell_type": "code",
   "execution_count": 14,
   "metadata": {},
   "outputs": [
    {
     "name": "stdout",
     "output_type": "stream",
     "text": [
      "1.0\n"
     ]
    }
   ],
   "source": [
    "# calculate the standard deviation in Momentum\n",
    "std_P = np.sqrt((mean_P2-(mean_P)**2))\n",
    "print(std_P)"
   ]
  },
  {
   "cell_type": "markdown",
   "metadata": {},
   "source": [
    "This makes sense as for any Gaussian state, Position and Momentum can be measured with equal uncertainty. $\\sigma_x\\sigma_p =1$"
   ]
  },
  {
   "cell_type": "markdown",
   "metadata": {},
   "source": [
    "**Now**, lets squeeze the displaced state we have seen so far with `squeezing magnitude` 1 and `squeezing phase` 0 :"
   ]
  },
  {
   "cell_type": "code",
   "execution_count": 15,
   "metadata": {},
   "outputs": [],
   "source": [
    "dev6 = qml.device('default.gaussian', wires=1)\n",
    "\n",
    "@qml.qnode(dev6)\n",
    "def after_squeezing_X(mag_alpha, phase_alpha, mag_z, phase_z, q=None):\n",
    "    qml.Displacement(mag_alpha, phase_alpha, wires=0)\n",
    "    qml.Squeezing(mag_z, phase_z, wires=0)\n",
    "    return qml.expval.X(0)\n",
    "\n",
    "@qml.qnode(dev6)\n",
    "def after_squeezing_X2(mag_alpha, phase_alpha, mag_z, phase_z, q=None):\n",
    "    qml.Displacement(mag_alpha, phase_alpha, wires=0)\n",
    "    qml.Squeezing(mag_z, phase_z, wires=0)\n",
    "    return qml.expval.PolyXP(q,wires=0)\n",
    "\n",
    "@qml.qnode(dev6)\n",
    "def after_squeezing_P(mag_alpha, phase_alpha, mag_z, phase_z, q=None):\n",
    "    qml.Displacement(mag_alpha, phase_alpha, wires=0)\n",
    "    qml.Squeezing(mag_z, phase_z, wires=0)\n",
    "    return qml.expval.P(0)\n",
    "\n",
    "@qml.qnode(dev6)\n",
    "def after_squeezing_P2(mag_alpha, phase_alpha, mag_z, phase_z, q=None):\n",
    "    qml.Displacement(mag_alpha, phase_alpha, wires=0)\n",
    "    qml.Squeezing(mag_z, phase_z, wires=0)\n",
    "    return qml.expval.PolyXP(q,wires=0)"
   ]
  },
  {
   "cell_type": "code",
   "execution_count": 16,
   "metadata": {},
   "outputs": [
    {
     "name": "stdout",
     "output_type": "stream",
     "text": [
      "0.7357588823428847\n",
      "0.6766764161830635\n"
     ]
    }
   ],
   "source": [
    "mean_X_S = after_squeezing_X(1,0,1,0,q=q_X2) \n",
    "print(mean_X_S)\n",
    "\n",
    "mean_X2_S = after_squeezing_X2(1,0,1,0, q=q_X2)\n",
    "print(mean_X2_S)"
   ]
  },
  {
   "cell_type": "code",
   "execution_count": 17,
   "metadata": {},
   "outputs": [
    {
     "name": "stdout",
     "output_type": "stream",
     "text": [
      "4.505223801027239e-17\n",
      "7.3890560989306495\n"
     ]
    }
   ],
   "source": [
    "mean_P_S = after_squeezing_P(1,0,1,0,q=q_P2) \n",
    "print(mean_P_S)\n",
    "\n",
    "mean_P2_S = after_squeezing_P2(1,0,1,0, q=q_P2)\n",
    "print(mean_P2_S)"
   ]
  },
  {
   "cell_type": "code",
   "execution_count": 18,
   "metadata": {},
   "outputs": [
    {
     "name": "stdout",
     "output_type": "stream",
     "text": [
      "0.36787944117144233\n",
      "2.718281828459045\n"
     ]
    }
   ],
   "source": [
    "# calculate the standard deviation in Position after squeezing\n",
    "std_X_S = np.sqrt((mean_X2_S-(mean_X_S)**2))\n",
    "print(std_X_S)\n",
    "\n",
    "# calculate the standard deviation in Momentum after squeezing\n",
    "std_P_S = np.sqrt((mean_P2_S-(mean_P_S)**2))\n",
    "print(std_P_S)"
   ]
  },
  {
   "cell_type": "markdown",
   "metadata": {},
   "source": [
    "Hence, **after** squeezing the uncertainty in Position has decreased and uncertainty in momentum has increased as shown below:"
   ]
  },
  {
   "attachments": {
    "squeeze1.png": {
     "image/png": "[encoded data removed]"
    }
   },
   "cell_type": "markdown",
   "metadata": {},
   "source": [
    "![squeeze1.png](attachment:squeeze1.png)"
   ]
  },
  {
   "cell_type": "code",
   "execution_count": 19,
   "metadata": {},
   "outputs": [
    {
     "data": {
      "text/plain": [
       "1.0"
      ]
     },
     "execution_count": 19,
     "metadata": {},
     "output_type": "execute_result"
    }
   ],
   "source": [
    "#check that the Heisenberg Principle still holds; std_p*std_x =1\n",
    "std_P_S * std_X_S"
   ]
  },
  {
   "cell_type": "markdown",
   "metadata": {},
   "source": [
    "#### 3. Beam Splitter"
   ]
  },
  {
   "cell_type": "markdown",
   "metadata": {},
   "source": [
    "> [BeamSplitter](https://pennylane.readthedocs.io/en/latest/code/ops/cv.html#pennylane.ops.cv.Beamsplitter) operator acts on two input modes with chracterized reflection $r=e^{i\\phi}\\sin(\\theta)$ and transmission $t=\\cos(\\theta)$"
   ]
  },
  {
   "cell_type": "code",
   "execution_count": 20,
   "metadata": {},
   "outputs": [],
   "source": [
    "dev7 = qml.device('default.gaussian', wires=2)\n",
    "\n",
    "#without Beamsplitter\n",
    "@qml.qnode(dev7)\n",
    "def func_NO_BS(mag_alpha, phase_alpha):\n",
    "    qml.Displacement(mag_alpha, phase_alpha, wires=0)\n",
    "    return qml.expval.MeanPhoton(0), qml.expval.MeanPhoton(1)\n",
    "\n",
    "# with Beamsplitter\n",
    "@qml.qnode(dev7)\n",
    "def func_BS(mag_alpha, phase_alpha, theta, phi):\n",
    "    qml.Displacement(mag_alpha, phase_alpha, wires=0)\n",
    "    qml.Beamsplitter(theta, phi, wires=[0,1])\n",
    "    return qml.expval.MeanPhoton(0), qml.expval.MeanPhoton(1)"
   ]
  },
  {
   "cell_type": "code",
   "execution_count": 21,
   "metadata": {},
   "outputs": [
    {
     "name": "stdout",
     "output_type": "stream",
     "text": [
      "Before BS: [1. 0.]\n",
      "After BS: [0. 1.]\n"
     ]
    }
   ],
   "source": [
    "#lets try a BS with r=1,t=0\n",
    "\n",
    "print(\"Before BS:\",func_NO_BS(1,0))\n",
    "print(\"After BS:\",func_BS(1,0,np.pi/2,0))"
   ]
  },
  {
   "cell_type": "markdown",
   "metadata": {},
   "source": [
    "This makes sense as after the `Displacement` operator acts on the first wire, we have one photon in this wire. This is reflected to the second wire when both are incident on this `Beam Splitter` with $r=1$,$t=0$. The figure below illustrates this. "
   ]
  },
  {
   "attachments": {
    "BSexample.png": {
     "image/png": "[encoded data removed]"
    }
   },
   "cell_type": "markdown",
   "metadata": {},
   "source": [
    "![BSexample.png](attachment:BSexample.png)"
   ]
  }
 ],
 "metadata": {
  "kernelspec": {
   "display_name": "Python 3",
   "language": "python",
   "name": "python3"
  },
  "language_info": {
   "codemirror_mode": {
    "name": "ipython",
    "version": 3
   },
   "file_extension": ".py",
   "mimetype": "text/x-python",
   "name": "python",
   "nbconvert_exporter": "python",
   "pygments_lexer": "ipython3",
   "version": "3.7.3"
  }
 },
 "nbformat": 4,
 "nbformat_minor": 2
}
