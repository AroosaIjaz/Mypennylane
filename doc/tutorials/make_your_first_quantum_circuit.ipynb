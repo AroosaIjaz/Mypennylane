{
 "cells": [
  {
   "cell_type": "markdown",
   "metadata": {},
   "source": [
    "# Make your First Quantum Circuit\n",
    "*Author: Aroosa Ijaz*"
   ]
  },
  {
   "cell_type": "markdown",
   "metadata": {},
   "source": [
    "This tutorial is the first step towards learning the features Pennylane provides. "
   ]
  },
  {
   "cell_type": "markdown",
   "metadata": {},
   "source": [
    "### Importing Pennylane and NumPy"
   ]
  },
  {
   "cell_type": "markdown",
   "metadata": {},
   "source": [
    "First, we import `Pennylane` itself, as well as a wrapped version of `numpy` which is provided via PennyLane. This allows us to use the familiar NumPy functions along with Quantum functions. "
   ]
  },
  {
   "cell_type": "code",
   "execution_count": 1,
   "metadata": {},
   "outputs": [],
   "source": [
    "import pennylane as qml\n",
    "from pennylane import numpy as np"
   ]
  },
  {
   "cell_type": "markdown",
   "metadata": {},
   "source": [
    "### Creating a Device"
   ]
  },
  {
   "cell_type": "markdown",
   "metadata": {},
   "source": [
    "A `Quantum Circuit` comprises of quantum `operations` and  `wires` that encode quantum bits that the operations can act on. \n",
    "\n",
    "> <font color=green>In Pennylane, we use a quantum `device` as the computational object that can apply quantum operations and return an expectation value.</font> \n",
    "\n",
    "A device could be a hardware device (such as the IBM QX4, via the PennyLane-PQ plugin) or a software simulator (such as Strawberry Fields, via the PennyLane-SF plugin)."
   ]
  },
  {
   "cell_type": "markdown",
   "metadata": {},
   "source": [
    "PennyLane supports two built-in devices for `Qubit` and `Continuous Variable` quantum computation:\n",
    "\n",
    "- [default.qubit](https://pennylane.readthedocs.io/en/latest/plugins/default_qubit.html#module-pennylane.plugins.default_qubit): pure state qubit simulator\n",
    "\n",
    "- [default.gaussian](https://pennylane.readthedocs.io/en/latest/plugins/default_gaussian.html#module-pennylane.plugins.default_gaussian): Gaussian states simulator\n",
    "\n",
    "Additional devices are supported through plugins — see [Plugins and ecosystem](https://pennylane.readthedocs.io/en/latest/plugins.html#plugins) for more details."
   ]
  },
  {
   "cell_type": "markdown",
   "metadata": {},
   "source": [
    "Lets use the qubit simulator device provided by Pennylane.\n",
    "\n",
    "`Devices are loaded in PennyLane via the function:`[pennylane.device()](https://pennylane.readthedocs.io/en/late/code/init.html#pennylane.device) \n",
    "\n",
    "We call this function with:\n",
    "\n",
    "- `name`: the name of the device to be loaded\n",
    "\n",
    "- `wires`: the number of subsystems to initialize the device with"
   ]
  },
  {
   "cell_type": "code",
   "execution_count": 2,
   "metadata": {},
   "outputs": [],
   "source": [
    "dev = qml.device('default.qubit', wires=1)"
   ]
  },
  {
   "cell_type": "markdown",
   "metadata": {},
   "source": [
    "<font color=brown> **RECALL:** we are using the handle `qml` for the pennylane library</font>"
   ]
  },
  {
   "cell_type": "markdown",
   "metadata": {},
   "source": [
    "### Constructing a QNode"
   ]
  },
  {
   "cell_type": "markdown",
   "metadata": {},
   "source": [
    "Now that we have initialized our device, we can begin to construct a [Quantum node](https://pennylane.readthedocs.io/en/latest/concepts/quantum_nodes.html) (or QNode)"
   ]
  },
  {
   "cell_type": "markdown",
   "metadata": {},
   "source": [
    "> <font color=green>QNodes are an abstract encapsulation of a quantum function, described by a quantum circuit. QNodes are bound to a particular quantum device, which is used to evaluate expectation values of this circuit.</font> "
   ]
  },
  {
   "cell_type": "markdown",
   "metadata": {},
   "source": [
    "First, we need to define the quantum function that will be evaluated in the QNode:"
   ]
  },
  {
   "cell_type": "code",
   "execution_count": 3,
   "metadata": {},
   "outputs": [],
   "source": [
    "#lets use pennylane operator RX - Rotation about the X-axis by angle param\n",
    "\n",
    "def circuit(param):\n",
    "    qml.RX(param, wires=0)\n",
    "    return qml.expval.PauliZ(0)"
   ]
  },
  {
   "cell_type": "markdown",
   "metadata": {},
   "source": [
    "<font color=brown> **NOTE:** the function `circuit()` is constructed as if it were any other Python function using Python notation (`def fn(...)`); it accepts a positional argument `param` which may be a list, a tuple or an array.</font>"
   ]
  },
  {
   "cell_type": "markdown",
   "metadata": {},
   "source": [
    "For a Python function to also be a valid quantum function, there are some important restrictions:\n",
    "- Quantum functions must only contain quantum operations, one operation per line, in the order in which they are to be applied. For a full list of quantum operations, see [pennylane.ops](https://pennylane.readthedocs.io/en/latest/code/ops.html#module-pennylane.ops)\n",
    "\n",
    "\n",
    "- Quantum functions must return either a single or a tuple of expectation values `expval`. For a full list of quantum expectation values, see [pennylane.expval](https://pennylane.readthedocs.io/en/latest/code/expval.html#module-pennylane.expval). As a result, the quantum function always returns a classical quantity, allowing the QNode to interface with other classical functions (and also other QNodes).\n",
    "\n",
    "\n",
    "- Quantum functions must not contain any classical processing of circuit parameters."
   ]
  },
  {
   "cell_type": "markdown",
   "metadata": {},
   "source": [
    "Once we have written the quantum function, we convert it into a [QNode](https://pennylane.readthedocs.io/en/latest/code/qnode.html#pennylane.qnode.QNode) running on device `dev` by applying the [qnode decorator](https://pennylane.readthedocs.io/en/latest/code/decorator.html#module-pennylane.decorator) directly above the function definition:"
   ]
  },
  {
   "cell_type": "code",
   "execution_count": 4,
   "metadata": {},
   "outputs": [],
   "source": [
    "@qml.qnode(dev)\n",
    "def circuit(param):\n",
    "    qml.RX(param, wires=0)\n",
    "    return qml.expval.PauliZ(0)"
   ]
  },
  {
   "attachments": {
    "circexample.png": {
     "image/png": "[encoded data removed]"
    }
   },
   "cell_type": "markdown",
   "metadata": {},
   "source": [
    "![circexample.png](attachment:circexample.png)"
   ]
  },
  {
   "cell_type": "markdown",
   "metadata": {},
   "source": [
    "We use the `qnode` decorator to indicate that this is not a typical Python function. This prevents the function from being run as usual by the Python interpretor. Instead, the function is evaluated on the device `dev` (which may be quantum hardware)\n",
    "\n",
    "Thus, our `circuit()` quantum function is now a `QNode`, which will run on device `dev` every time it is evaluated. To evaluate, we simply call the function with some appropriate numerical inputs:"
   ]
  },
  {
   "cell_type": "code",
   "execution_count": 5,
   "metadata": {},
   "outputs": [
    {
     "data": {
      "text/plain": [
       "-1.0"
      ]
     },
     "execution_count": 5,
     "metadata": {},
     "output_type": "execute_result"
    }
   ],
   "source": [
    "circuit(np.pi)"
   ]
  },
  {
   "cell_type": "markdown",
   "metadata": {},
   "source": [
    "This makes sense since the qubit is intialized in $|0\\rangle$ state. "
   ]
  },
  {
   "cell_type": "markdown",
   "metadata": {},
   "source": [
    "### Examples"
   ]
  },
  {
   "cell_type": "markdown",
   "metadata": {},
   "source": [
    "Lets look at a couple of simple examples: "
   ]
  },
  {
   "cell_type": "code",
   "execution_count": 6,
   "metadata": {},
   "outputs": [],
   "source": [
    "#using default.qubit device with one subsystem\n",
    "\n",
    "dev1 = qml.device('default.qubit', wires=1)\n",
    "\n",
    "@qml.qnode(dev1)\n",
    "def qfunc1():\n",
    "    return qml.expval.Identity(0)"
   ]
  },
  {
   "cell_type": "code",
   "execution_count": 7,
   "metadata": {},
   "outputs": [
    {
     "data": {
      "text/plain": [
       "1.0"
      ]
     },
     "execution_count": 7,
     "metadata": {},
     "output_type": "execute_result"
    }
   ],
   "source": [
    "qfunc1()"
   ]
  },
  {
   "cell_type": "markdown",
   "metadata": {},
   "source": [
    "This makes sense as $\\langle0\\mid\\hat{I}\\mid0\\rangle=1$ "
   ]
  },
  {
   "cell_type": "code",
   "execution_count": 8,
   "metadata": {},
   "outputs": [],
   "source": [
    "#using default.gaussian device with one subsystem\n",
    "\n",
    "dev2 = qml.device('default.gaussian', wires=1)\n",
    "\n",
    "@qml.qnode(dev2)\n",
    "def qfunc2():\n",
    "    return qml.expval.MeanPhoton(0)"
   ]
  },
  {
   "cell_type": "code",
   "execution_count": 9,
   "metadata": {},
   "outputs": [
    {
     "data": {
      "text/plain": [
       "0.0"
      ]
     },
     "execution_count": 9,
     "metadata": {},
     "output_type": "execute_result"
    }
   ],
   "source": [
    "qfunc2()"
   ]
  },
  {
   "cell_type": "markdown",
   "metadata": {},
   "source": [
    "This makes sense as the Gaussian state is initialized to the vaccum state (the lowest energy Gaussian state with no displacement or squeezing in phase space) that has zero number of Photons."
   ]
  },
  {
   "cell_type": "markdown",
   "metadata": {},
   "source": [
    "#### Notes about circuits:\n",
    "- Final measurements are considered as *expectation values* $\\langle \\cdots \\rangle$  -- i.e., averages -- not single-shot results. Expectation values are deterministic, whereas single-shot measurements are stochastic. This is what allows us to do machine learning on the circuit (Note: the same principle holds for deep learning models).\n",
    "\n",
    "\n",
    "- Since circuits are meant to be run on quantum hardware, there is limited support for classical computation *inside* the circuit function. On the other hand, classical processing of circuit inputs/outputs is fully supported"
   ]
  }
 ],
 "metadata": {
  "kernelspec": {
   "display_name": "Python 3",
   "language": "python",
   "name": "python3"
  },
  "language_info": {
   "codemirror_mode": {
    "name": "ipython",
    "version": 3
   },
   "file_extension": ".py",
   "mimetype": "text/x-python",
   "name": "python",
   "nbconvert_exporter": "python",
   "pygments_lexer": "ipython3",
   "version": "3.7.3"
  }
 },
 "nbformat": 4,
 "nbformat_minor": 2
}
