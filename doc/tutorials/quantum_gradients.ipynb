{
 "cells": [
  {
   "cell_type": "markdown",
   "metadata": {},
   "source": [
    "# Executing Quantum Gradients"
   ]
  },
  {
   "cell_type": "markdown",
   "metadata": {},
   "source": [
    "To do *Quantum Machine Learning* (QML), we need a gradient descent strategy. For this, we define a final objective (or cost) function $C$ which is to be optimized with respect to some free parameters. As explained in the [Key concepts](https://pennylane.readthedocs.io/en/latest/concepts/autograd_quantum.html#), PennyLane incorporates both analytic differentiation, as well as numerical methods (such as the method of finite differences). Both of these are done automatically."
   ]
  },
  {
   "cell_type": "markdown",
   "metadata": {},
   "source": [
    "PennyLane is the first software library to support **automatic differentiation of quantum circuits**. Internally, it uses *classical linear combination of unitaries* or \"parameter shift\" trick to compute derivatives, i.e. it evaluates derivatives as the difference of two circuit evaluations with shifted parameters."
   ]
  },
  {
   "cell_type": "markdown",
   "metadata": {},
   "source": [
    "$$C(\\theta_1, \\theta_2) = \\texttt{circuit}(\\theta_1, \\theta_2)$$\n",
    "\n",
    "$$\\partial_{\\theta_1} C = a\\big[ \\texttt{circuit}(\\theta_1+s, \\theta_2) - \\texttt{circuit}(\\theta_1 - s, \\theta_2) \\big]$$"
   ]
  },
  {
   "cell_type": "markdown",
   "metadata": {},
   "source": [
    "**NOTE:** The values of the shift and scale parameters $s$ and $a$ typically depend **only** on the *type* of gate, and not its location."
   ]
  },
  {
   "cell_type": "markdown",
   "metadata": {},
   "source": [
    "By using this method, PennyLane provides a hardware-scalable way to compute gradients and to optimize quantum circuits for QML."
   ]
  },
  {
   "cell_type": "markdown",
   "metadata": {},
   "source": [
    "### Calculating quantum gradients"
   ]
  },
  {
   "cell_type": "markdown",
   "metadata": {},
   "source": [
    "Let's initialize a `device` and define a Quantum function in a `QNode`"
   ]
  },
  {
   "cell_type": "code",
   "execution_count": 1,
   "metadata": {},
   "outputs": [],
   "source": [
    "# first we import the essentials\n",
    "import pennylane as qml\n",
    "from pennylane import numpy as np"
   ]
  },
  {
   "cell_type": "code",
   "execution_count": 2,
   "metadata": {},
   "outputs": [],
   "source": [
    "dev1 = qml.device('default.qubit', wires = 1)\n",
    "\n",
    "@qml.qnode(dev1)\n",
    "def circuit(params):\n",
    "    qml.RX(params[0], wires = 0)\n",
    "    qml.RY(params[1], wires = 0)\n",
    "    return qml.expval.PauliZ(0)"
   ]
  },
  {
   "cell_type": "markdown",
   "metadata": {},
   "source": [
    "The gradient of the function `circuit` encapsulated within the `QNode` can be evaluated by utilizing the same quantum device (`dev1`) that we used to evaluate the function itself."
   ]
  },
  {
   "cell_type": "markdown",
   "metadata": {},
   "source": [
    "We can differentiate by using the built-in [grad( )](https://pennylane.readthedocs.io/en/latest/code/init.html#pennylane.grad) function."
   ]
  },
  {
   "cell_type": "code",
   "execution_count": 3,
   "metadata": {},
   "outputs": [],
   "source": [
    "dcircuit = qml.grad(circuit, argnum = 0)"
   ]
  },
  {
   "cell_type": "markdown",
   "metadata": {},
   "source": [
    "The function `grad()` itself **returns a function** representing the derivative of the `QNode` with respect to the argument specified in `argnum`. "
   ]
  },
  {
   "cell_type": "markdown",
   "metadata": {},
   "source": [
    "In the example above, the function `circuit` takes one argument `params`. Hence, we specify `argnum=0`. As the argument has two elements, the returned gradient is two-dimensional. We can then evaluate this gradient function at any point in the parameter space."
   ]
  },
  {
   "cell_type": "code",
   "execution_count": 4,
   "metadata": {},
   "outputs": [
    {
     "data": {
      "text/plain": [
       "[-0.5104386525165021, -0.10267819945693196]"
      ]
     },
     "execution_count": 4,
     "metadata": {},
     "output_type": "execute_result"
    }
   ],
   "source": [
    "dcircuit([0.54, 0.12])"
   ]
  },
  {
   "cell_type": "markdown",
   "metadata": {},
   "source": [
    "**NOTE:** Quantum circuit functions, being a restricted subset of Python functions, can also make use of multiple positional arguments and keyword arguments. "
   ]
  },
  {
   "cell_type": "markdown",
   "metadata": {},
   "source": [
    "For example, we could have defined the above quantum circuit function using two positional arguments, instead of an array of arguments:"
   ]
  },
  {
   "cell_type": "code",
   "execution_count": 5,
   "metadata": {},
   "outputs": [],
   "source": [
    "@qml.qnode(dev1)\n",
    "def circuit2(phi1, phi2):\n",
    "    qml.RX(phi1, wires = 0)\n",
    "    qml.RY(phi2, wires = 0)\n",
    "    return qml.expval.PauliZ(0)"
   ]
  },
  {
   "cell_type": "markdown",
   "metadata": {},
   "source": [
    "In this case, `argnum=0` will return the gradient with respect to only the first parameter `phi1` and `argnum=1` will give the gradient with respect to `phi2`. To get the gradient with respect to both parameters, we can use `argnum=[0,1]`:"
   ]
  },
  {
   "cell_type": "code",
   "execution_count": 6,
   "metadata": {},
   "outputs": [],
   "source": [
    "dcircuit2 = qml.grad(circuit2, argnum = [0, 1])"
   ]
  },
  {
   "cell_type": "code",
   "execution_count": 7,
   "metadata": {},
   "outputs": [
    {
     "data": {
      "text/plain": [
       "(array(-0.51043865), array(-0.1026782))"
      ]
     },
     "execution_count": 7,
     "metadata": {},
     "output_type": "execute_result"
    }
   ],
   "source": [
    "dcircuit2(0.54, 0.12)"
   ]
  },
  {
   "cell_type": "markdown",
   "metadata": {},
   "source": [
    "<div class=\"admonition note\">\n",
    "\n",
    "<div class=\"admonition-title\">NOTE</div>\n",
    "\n",
    "PennyLane does **not** differentiate QNodes with respect to keyword arguments. Hence, they are useful for passing external data to the QNode. See `Keyword arguments` in [Advanced features](https://pennylane.readthedocs.io/en/latest/tutorials/advanced_usage.html#keyword-arguments) tutorial.\n",
    "\n",
    "</div>\n",
    "\n",
    "</div>"
   ]
  }
 ],
 "metadata": {
  "kernelspec": {
   "display_name": "Python 3",
   "language": "python",
   "name": "python3"
  },
  "language_info": {
   "codemirror_mode": {
    "name": "ipython",
    "version": 3
   },
   "file_extension": ".py",
   "mimetype": "text/x-python",
   "name": "python",
   "nbconvert_exporter": "python",
   "pygments_lexer": "ipython3",
   "version": "3.7.3"
  }
 },
 "nbformat": 4,
 "nbformat_minor": 2
}
