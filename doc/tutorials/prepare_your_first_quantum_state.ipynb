{
 "cells": [
  {
   "cell_type": "markdown",
   "metadata": {},
   "source": [
    "# Making Quantum States"
   ]
  },
  {
   "cell_type": "markdown",
   "metadata": {},
   "source": [
    "In this tutorial, we use the quantum circuits and operations we learned in the previous tutorials and get aquainted with the different kinds of quantum states we can prepare in PennyLane. For a full list of quantum functions available for state preparation, see [qubit-state-prep](https://pennylane.readthedocs.io/en/latest/code/ops/qubit.html#state-preparation) and [cv-state-prep](https://pennylane.readthedocs.io/en/latest/code/ops/cv.html#state-preparation)"
   ]
  },
  {
   "cell_type": "code",
   "execution_count": 1,
   "metadata": {},
   "outputs": [],
   "source": [
    "# first we import the essentials\n",
    "\n",
    "import pennylane as qml\n",
    "from pennylane import numpy as np"
   ]
  },
  {
   "cell_type": "markdown",
   "metadata": {},
   "source": [
    "### Qubit state Preparation"
   ]
  },
  {
   "cell_type": "markdown",
   "metadata": {},
   "source": [
    "Lets first look at the features PennyLane provides for state preparation on the `default.qubit` device.  "
   ]
  },
  {
   "cell_type": "markdown",
   "metadata": {},
   "source": [
    "> [BasisState](https://pennylane.readthedocs.io/en/latest/code/ops/qubit.html#pennylane.ops.qubit.BasisState) function prepares the device in a single computational basis state. For example, if we are working with two qubits and want to initialize  the device in the state $\\mid10\\rangle = \\begin{pmatrix} 0 \\\\ 0 \\\\ 1 \\\\ 0 \\end{pmatrix}$, we can use `BasisState` function. We will need to pass this state as an array, i.e `np.array([1,0])`. If we are working with three qubits and want to initialize the device in the state $\\mid111\\rangle = \\begin{pmatrix} 0 \\\\ 0 \\\\ 0 \\\\ 0 \\\\ 0 \\\\ 0 \\\\ 0 \\\\ 1 \\end{pmatrix}$, we will need to pass this desired state in the form of an array, i.e `np.array([1,1,1])`"
   ]
  },
  {
   "cell_type": "code",
   "execution_count": 2,
   "metadata": {},
   "outputs": [],
   "source": [
    "# lets look at an example\n",
    "\n",
    "dev1 = qml.device('default.qubit', wires=2)\n",
    "\n",
    "@qml.qnode(dev1)\n",
    "def make_State1(n=None):\n",
    "    qml.BasisState(n, wires=[0,1])\n",
    "    qml.CNOT(wires=[0,1])\n",
    "    return qml.expval.PauliZ(0), qml.expval.PauliZ(1)"
   ]
  },
  {
   "cell_type": "code",
   "execution_count": 3,
   "metadata": {},
   "outputs": [
    {
     "data": {
      "text/plain": [
       "array([-1., -1.])"
      ]
     },
     "execution_count": 3,
     "metadata": {},
     "output_type": "execute_result"
    }
   ],
   "source": [
    "nstr = np.array([1,0])\n",
    "make_State1(n=nstr)"
   ]
  },
  {
   "cell_type": "markdown",
   "metadata": {},
   "source": [
    "This output makes sense as applying the CNOT gate transforms $\\mid10\\rangle$ to $\\mid11\\rangle$ state. "
   ]
  },
  {
   "cell_type": "markdown",
   "metadata": {},
   "source": [
    "> [QubitStateVector](https://pennylane.readthedocs.io/en/latest/code/ops/qubit.html#pennylane.ops.qubit.QubitStateVector) function prepares the device subsystems by using the given ket vector in the Fock basis. This acts similar to the `BasisState` function except:\n",
    "- It can be used to prepare more complicated wavefunctions\n",
    "- we need to provide the whole ket vector explicitly. For example, to prepare the state $\\mid10\\rangle$, we explicitly give the ket state $\\begin{pmatrix} 0 \\\\ 0 \\\\ 1 \\\\ 0 \\end{pmatrix}$, i.e `np.array([0,0,1,0])` "
   ]
  },
  {
   "cell_type": "code",
   "execution_count": 4,
   "metadata": {},
   "outputs": [],
   "source": [
    "dev2 = qml.device('default.qubit', wires=2)\n",
    "\n",
    "@qml.qnode(dev2)\n",
    "def make_State2(s=None):\n",
    "    qml.QubitStateVector(s, wires=[0,1])\n",
    "    return qml.expval.PauliZ(0),qml.expval.PauliZ(1)"
   ]
  },
  {
   "cell_type": "markdown",
   "metadata": {},
   "source": [
    "Lets use this function to make the entangled state $|\\psi\\rangle = \\frac{1}{\\sqrt{2}}(|00\\rangle-i|11\\rangle)$"
   ]
  },
  {
   "cell_type": "code",
   "execution_count": 5,
   "metadata": {},
   "outputs": [
    {
     "name": "stdout",
     "output_type": "stream",
     "text": [
      "[1.41421356+0.j         0.        +0.j         0.        +0.j\n",
      " 0.        -1.41421356j]\n"
     ]
    },
    {
     "data": {
      "text/plain": [
       "array([0., 0.])"
      ]
     },
     "execution_count": 5,
     "metadata": {},
     "output_type": "execute_result"
    }
   ],
   "source": [
    "state = np.array([1+0.j, 0.j, 0.j, 0-1.j])*np.sqrt(2)\n",
    "print(state)\n",
    "\n",
    "make_State2(s=state)"
   ]
  },
  {
   "cell_type": "markdown",
   "metadata": {},
   "source": [
    "As we make local $\\langle\\hat{\\sigma}_z\\rangle$ measurements on the reduced states of $|\\psi\\rangle$, each subsystem is completely mixed and local expectation values average to zero."
   ]
  },
  {
   "cell_type": "markdown",
   "metadata": {},
   "source": [
    "### Gaussian State Preparation"
   ]
  },
  {
   "cell_type": "markdown",
   "metadata": {},
   "source": [
    "Lets look at the features PennyLane provides for state preparation on the `default.gaussian` device.  "
   ]
  },
  {
   "cell_type": "markdown",
   "metadata": {},
   "source": [
    "> [CoherentState](https://pennylane.readthedocs.io/en/latest/code/ops/cv.html#pennylane.ops.cv.CoherentState) function prepares a coherent state with the given displacement magnitude $\\mid\\alpha\\mid$ and angle $\\phi$"
   ]
  },
  {
   "cell_type": "code",
   "execution_count": 6,
   "metadata": {},
   "outputs": [],
   "source": [
    "dev3 = qml.device('default.gaussian', wires=1)\n",
    "\n",
    "@qml.qnode(dev3)\n",
    "def make_State3(alpha_mag, phi):\n",
    "    qml.CoherentState(alpha_mag, phi, wires=0)\n",
    "    return qml.expval.MeanPhoton(0)"
   ]
  },
  {
   "cell_type": "code",
   "execution_count": 7,
   "metadata": {},
   "outputs": [
    {
     "data": {
      "text/plain": [
       "4.0"
      ]
     },
     "execution_count": 7,
     "metadata": {},
     "output_type": "execute_result"
    }
   ],
   "source": [
    "make_State3(2,0)"
   ]
  },
  {
   "cell_type": "markdown",
   "metadata": {},
   "source": [
    "This makes sense as $\\langle\\hat{n}\\rangle = \\mid\\alpha\\mid^{2}$"
   ]
  },
  {
   "cell_type": "markdown",
   "metadata": {},
   "source": [
    "> [DisplacedSqueezedState](https://pennylane.readthedocs.io/en/latest/code/ops/cv.html#pennylane.ops.cv.DisplacedSqueezedState) function prepares a displaced squeezed state in the phase space by applying a displacement operator followed by a squeezing operator - $D(\\alpha)S(z)\\mid0\\rangle$ - like we saw in an example in the last tutorial on Quantum operators.  "
   ]
  },
  {
   "cell_type": "markdown",
   "metadata": {},
   "source": [
    "> [GaussianState](https://pennylane.readthedocs.io/en/latest/code/ops/cv.html#pennylane.ops.cv.GaussianState) function prepares a Gaussian state on the whole system with the given parameters. It requires two input arguments: \n",
    "- a concatenated vector of the mean Position and Momentum values of all modes. For example, to prepare two Gaussian modes, we need to input the vector $[\\langle x\\rangle_0,\\langle x\\rangle_1,\\langle p\\rangle_0,\\langle p\\rangle_1]$\n",
    "- the covariance matrix\n"
   ]
  },
  {
   "cell_type": "code",
   "execution_count": 8,
   "metadata": {},
   "outputs": [],
   "source": [
    "dev4 = qml.device('default.gaussian', wires=2)\n",
    "\n",
    "@qml.qnode(dev4)\n",
    "def make_State4(r,V):\n",
    "    qml.GaussianState(r,V,wires=[0,1])\n",
    "    return qml.expval.MeanPhoton(0), qml.expval.MeanPhoton(1)"
   ]
  },
  {
   "cell_type": "code",
   "execution_count": 9,
   "metadata": {},
   "outputs": [
    {
     "data": {
      "text/plain": [
       "array([1., 1.])"
      ]
     },
     "execution_count": 9,
     "metadata": {},
     "output_type": "execute_result"
    }
   ],
   "source": [
    "mean_array = np.array([2,2,0,0])\n",
    "Cov_mat = np.eye(4)\n",
    "\n",
    "make_State4(mean_array,Cov_mat)"
   ]
  },
  {
   "cell_type": "markdown",
   "metadata": {},
   "source": [
    "<font color=brown>**NOTE:**</font> We used $\\langle x\\rangle=2$ <font color=brown>and</font> $\\langle p\\rangle=0$. As `MeanPhoton` returns the expectation value of the number operator $\\langle \\hat{n} \\rangle$, we have to use x-representation of `Coherent states` to calculate the mean Position and Momentum:\n",
    "$$\\langle x\\rangle = \\sqrt{\\frac{2\\hbar}{mw}} \\Re(\\alpha)$$\n",
    "$$\\langle p\\rangle = \\sqrt{2\\hbar mw} \\Im(\\alpha)$$"
   ]
  },
  {
   "cell_type": "markdown",
   "metadata": {},
   "source": [
    "<font color=brown>**NOTE:** In PennyLane, we assume that $\\hbar = 2$ and factor $mw=1$</font>"
   ]
  }
 ],
 "metadata": {
  "kernelspec": {
   "display_name": "Python 3",
   "language": "python",
   "name": "python3"
  },
  "language_info": {
   "codemirror_mode": {
    "name": "ipython",
    "version": 3
   },
   "file_extension": ".py",
   "mimetype": "text/x-python",
   "name": "python",
   "nbconvert_exporter": "python",
   "pygments_lexer": "ipython3",
   "version": "3.7.3"
  }
 },
 "nbformat": 4,
 "nbformat_minor": 2
}
