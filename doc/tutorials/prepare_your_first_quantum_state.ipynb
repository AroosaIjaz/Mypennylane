{
 "cells": [
  {
   "cell_type": "markdown",
   "metadata": {},
   "source": [
    "# Making Quantum States\n",
    "*Author: Aroosa Ijaz*"
   ]
  },
  {
   "cell_type": "markdown",
   "metadata": {},
   "source": [
    "In this tutorial, we use the quantum circuits and operations we learned in the previous tutorials and get aquainted with the different kinds of quantum states we can prepare in Pennylane. For a full list of quantum operations, see [qubit-state-prep](https://pennylane.readthedocs.io/en/latest/code/ops/qubit.html#state-preparation) and [cv-state-prep](https://pennylane.readthedocs.io/en/latest/code/ops/cv.html#state-preparation)"
   ]
  },
  {
   "cell_type": "code",
   "execution_count": 22,
   "metadata": {},
   "outputs": [],
   "source": [
    "# first we import the essentials\n",
    "\n",
    "import pennylane as qml\n",
    "from pennylane import numpy as np"
   ]
  },
  {
   "cell_type": "markdown",
   "metadata": {},
   "source": [
    "### Qubit state Preparation"
   ]
  },
  {
   "cell_type": "markdown",
   "metadata": {},
   "source": [
    "Lets first look at the features pennylane provides for state preparation on the `default.qubit` device.  "
   ]
  },
  {
   "cell_type": "markdown",
   "metadata": {},
   "source": [
    "> [BasisState](https://pennylane.readthedocs.io/en/latest/code/ops/qubit.html#pennylane.ops.qubit.BasisState) function prepares the device in a single computational basis state. For example, if we are working with two qubits and want to initialize  the device in the state $\\mid10\\rangle = \\begin{pmatrix} 0 \\\\ 0 \\\\ 1 \\\\ 0 \\end{pmatrix}$, we can use `BasisState` function. We will need to pass this state as an array, i.e `np.array([1,0])`. If we are working with three qubits and want to initialize the device in the state $\\mid111\\rangle = \\begin{pmatrix} 0 \\\\ 0 \\\\ 0 \\\\ 0 \\\\ 0 \\\\ 0 \\\\ 0 \\\\ 1 \\end{pmatrix}$, we will need to pass this desired state in the form of an array, i.e `np.array([1,1,1])`"
   ]
  },
  {
   "cell_type": "code",
   "execution_count": 66,
   "metadata": {},
   "outputs": [],
   "source": [
    "# lets look at an example\n",
    "\n",
    "dev1 = qml.device('default.qubit', wires=2)\n",
    "\n",
    "@qml.qnode(dev1)\n",
    "def make_State1(n=None):\n",
    "    qml.BasisState(n, wires=[0,1])\n",
    "    qml.CNOT(wires=[0,1])\n",
    "    return qml.expval.PauliZ(0), qml.expval.PauliZ(1)"
   ]
  },
  {
   "cell_type": "code",
   "execution_count": 65,
   "metadata": {},
   "outputs": [
    {
     "data": {
      "text/plain": [
       "array([-1., -1.])"
      ]
     },
     "execution_count": 65,
     "metadata": {},
     "output_type": "execute_result"
    }
   ],
   "source": [
    "nstr = np.array([1,0])\n",
    "make_State1(n=nstr)"
   ]
  },
  {
   "cell_type": "markdown",
   "metadata": {},
   "source": [
    "This output makes sense as applying the CNOT gate transforms $\\mid10\\rangle$ to $\\mid11\\rangle$ state. "
   ]
  },
  {
   "cell_type": "markdown",
   "metadata": {},
   "source": [
    "> [QubitStateVector](https://pennylane.readthedocs.io/en/latest/code/ops/qubit.html#pennylane.ops.qubit.QubitStateVector) function prepares the device subsystems by using the given ket vector in the Fock basis. This acts similar to the `BasisState` function except:\n",
    "- It can be used to prepare more complicated wavefunctions\n",
    "- we need to provide the whole ket vector explicitly. For example, to prepare the state $\\mid10\\rangle$, we explicitly give the ket state $\\begin{pmatrix} 0 \\\\ 0 \\\\ 1 \\\\ 0 \\end{pmatrix}$, i.e `np.array([0,0,1,0])` "
   ]
  },
  {
   "cell_type": "code",
   "execution_count": 92,
   "metadata": {},
   "outputs": [],
   "source": [
    "dev2 = qml.device('default.qubit', wires=2)\n",
    "\n",
    "@qml.qnode(dev2)\n",
    "def make_State2(s=None):\n",
    "    qml.QubitStateVector(s, wires=[0,1])\n",
    "    return qml.expval.PauliZ(0),qml.expval.PauliZ(1)"
   ]
  },
  {
   "cell_type": "markdown",
   "metadata": {},
   "source": [
    "Lets use this function to make the state $|\\psi\\rangle = \\frac{1}{\\sqrt{2}}(|00\\rangle-i|11\\rangle)$"
   ]
  },
  {
   "cell_type": "code",
   "execution_count": 94,
   "metadata": {},
   "outputs": [
    {
     "name": "stdout",
     "output_type": "stream",
     "text": [
      "[1.41421356+0.j         0.        +0.j         0.        +0.j\n",
      " 0.        -1.41421356j]\n"
     ]
    },
    {
     "data": {
      "text/plain": [
       "array([2., 2.])"
      ]
     },
     "execution_count": 94,
     "metadata": {},
     "output_type": "execute_result"
    }
   ],
   "source": [
    "state = np.array([1+0.j, 0.j, 0.j, 0-1.j])*np.sqrt(2)\n",
    "print(state)\n",
    "\n",
    "make_State2(s=state)"
   ]
  },
  {
   "cell_type": "code",
   "execution_count": 95,
   "metadata": {},
   "outputs": [
    {
     "data": {
      "text/plain": [
       "array([1.41421356, 0.        , 0.        , 0.        ])"
      ]
     },
     "execution_count": 95,
     "metadata": {},
     "output_type": "execute_result"
    }
   ],
   "source": [
    "dev2._state"
   ]
  },
  {
   "cell_type": "markdown",
   "metadata": {},
   "source": [
    "### Gaussian State Preparation"
   ]
  },
  {
   "cell_type": "code",
   "execution_count": null,
   "metadata": {},
   "outputs": [],
   "source": []
  }
 ],
 "metadata": {
  "kernelspec": {
   "display_name": "Python 3",
   "language": "python",
   "name": "python3"
  },
  "language_info": {
   "codemirror_mode": {
    "name": "ipython",
    "version": 3
   },
   "file_extension": ".py",
   "mimetype": "text/x-python",
   "name": "python",
   "nbconvert_exporter": "python",
   "pygments_lexer": "ipython3",
   "version": "3.7.3"
  }
 },
 "nbformat": 4,
 "nbformat_minor": 2
}
