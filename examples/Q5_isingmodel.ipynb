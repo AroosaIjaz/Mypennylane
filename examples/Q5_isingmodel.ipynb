{
 "cells": [
  {
   "cell_type": "markdown",
   "metadata": {},
   "source": [
    "# Qubit Optimization for 3-qubit Ising model \n",
    "\n",
    "We will be comparing the PennyLane gradient descent optimizer with the optimizers in Tensorflow and PyTorch for this quantum system. The Ising model is an example of a system whose optimization landscape is non-convex and hence using gradient descent may not be the best strategy since the optimization can get stuck in local minimas. Quantum annealing (for example on a D-wave system) is one alternative that may have more success in finding the global ground state. \n",
    "\n",
    "The energy for this system is given by:\n",
    "$$ H=-\\sum_{<i,j>} J_{ij} \\sigma_i \\sigma_{j}$$\n",
    "\n",
    "where each spin can be in +1 or -1 spin state and $J_{ij}$ are nearest neighbour coupling strengths.\n",
    "\n",
    "For simplicity, we will assume that the first spin is always in up state (+1 eigenstate of Pauli-Z operator)"
   ]
  },
  {
   "cell_type": "markdown",
   "metadata": {},
   "source": [
    "# PennyLane optimizer"
   ]
  },
  {
   "cell_type": "code",
   "execution_count": 1,
   "metadata": {},
   "outputs": [],
   "source": [
    "# import PennyLane library\n",
    "\n",
    "import pennylane as qml\n",
    "from pennylane import numpy as np"
   ]
  },
  {
   "cell_type": "code",
   "execution_count": 2,
   "metadata": {},
   "outputs": [],
   "source": [
    "# create our three devices. \n",
    "\n",
    "dev1 = qml.device('default.qubit', wires = 3)\n",
    "dev2 = qml.device('default.qubit', wires = 3)\n",
    "dev3 = qml.device('default.qubit', wires = 3)"
   ]
  },
  {
   "cell_type": "code",
   "execution_count": 3,
   "metadata": {},
   "outputs": [],
   "source": [
    "# We use PennyLane's Rot(phi,theta,omega,wires) single-qubit operation\n",
    "\n",
    "@qml.qnode(dev1)\n",
    "def circuit1(p1, p2):\n",
    "    qml.Rot(p1[0], p1[1], p1[2], wires = 1)\n",
    "    qml.Rot(p2[0], p2[1], p2[2], wires = 2)\n",
    "    return qml.expval.PauliZ(0), qml.expval.PauliZ(1), qml.expval.PauliZ(2) \n",
    "\n",
    "# the expectation value of Pauli-Z is +1 for spin up and -1 for spin down."
   ]
  },
  {
   "cell_type": "markdown",
   "metadata": {},
   "source": [
    "Our cost function is the energy of the spin configuration which we will optimize using gradient descent.\n",
    "\n",
    "Let the coupling matrix be J = [1,-1]"
   ]
  },
  {
   "cell_type": "code",
   "execution_count": 4,
   "metadata": {},
   "outputs": [],
   "source": [
    "def cost1(var):\n",
    "    spins = circuit1(var[0], var[1])\n",
    "    energy = -(1*spins[0]*spins[1]) - (-1*spins[1]*spins[2])\n",
    "    return energy"
   ]
  },
  {
   "cell_type": "markdown",
   "metadata": {},
   "source": [
    "Let's test these functions for the [1,-1,-1] spin configuration. \n",
    "\n",
    "Total energy for this Ising model should be\n",
    "\n",
    "$$H = -1(J_1 s_1 \\otimes s_2 + J_2 s_2 \\otimes s3) = -1 [1 \\times 1 \\times (-1) + (-1) \\times (-1) \\times (-1)] = 2 $$\n"
   ]
  },
  {
   "cell_type": "code",
   "execution_count": 5,
   "metadata": {
    "scrolled": true
   },
   "outputs": [
    {
     "name": "stdout",
     "output_type": "stream",
     "text": [
      "2.0\n"
     ]
    }
   ],
   "source": [
    "# You can easily guess the angles if you look at the Rot(phi,theta,omega)\n",
    "\n",
    "t1 = np.array([0, np.pi, 0])    #spin 2 in -1 state\n",
    "t2 = np.array([0, np.pi ,0])     #spin 3 in -1 state\n",
    "print(cost1([t1, t2]))"
   ]
  },
  {
   "cell_type": "markdown",
   "metadata": {},
   "source": [
    "Now we optimize using the PennyLane gradient descent optimizer"
   ]
  },
  {
   "cell_type": "code",
   "execution_count": 173,
   "metadata": {},
   "outputs": [
    {
     "name": "stdout",
     "output_type": "stream",
     "text": [
      "1.6909756656963444\n"
     ]
    }
   ],
   "source": [
    "# initialize the parameters to some random values\n",
    "np.random.seed(48)\n",
    "pl1 = np.pi*(np.random.ranf(3))\n",
    "pl2 = np.pi*(np.random.ranf(3))\n",
    "var_init = np.array([pl1, pl2])\n",
    "cost_init = cost1(var_init)\n",
    "print(cost_init)"
   ]
  },
  {
   "cell_type": "markdown",
   "metadata": {},
   "source": [
    "The minimun energy should be -2 for the [1,1,-1] spin configuration which corresponds to the angles of [0,0,0] and [0,pi,0] for second and third spin respectively. "
   ]
  },
  {
   "cell_type": "code",
   "execution_count": 174,
   "metadata": {},
   "outputs": [
    {
     "name": "stdout",
     "output_type": "stream",
     "text": [
      "Energy after step     5: -0.8526522 | Angles: [[0.05494731 0.82939429 0.89491775]\n",
      " [0.93926199 1.83649654 1.01935445]] \n",
      "\n",
      "Energy after step    10: -1.9846264 | Angles: [[0.05494731 0.00311615 0.89491775]\n",
      " [0.93926199 2.96607366 1.01935445]] \n",
      "\n",
      "Energy after step    15: -1.9999059 | Angles: [[5.49473067e-02 1.04553176e-06 8.94917751e-01]\n",
      " [9.39261991e-01 3.12787147e+00 1.01935445e+00]] \n",
      "\n",
      "Energy after step    20: -1.9999994 | Angles: [[5.49473067e-02 3.34668166e-10 8.94917751e-01]\n",
      " [9.39261991e-01 3.14052566e+00 1.01935445e+00]] \n",
      "\n",
      "Energy after step    25: -2.0000000 | Angles: [[5.49473067e-02 1.07387285e-13 8.94917751e-01]\n",
      " [9.39261991e-01 3.14150968e+00 1.01935445e+00]] \n",
      "\n",
      "Energy after step    30: -2.0000000 | Angles: [[ 5.49473067e-02 -2.12409211e-17  8.94917751e-01]\n",
      " [ 9.39261991e-01  3.14158620e+00  1.01935445e+00]] \n",
      "\n",
      "Energy after step    35: -2.0000000 | Angles: [[ 5.49473067e-02 -2.12409211e-17  8.94917751e-01]\n",
      " [ 9.39261991e-01  3.14159215e+00  1.01935445e+00]] \n",
      "\n",
      "Energy after step    40: -2.0000000 | Angles: [[ 5.49473067e-02 -2.12409211e-17  8.94917751e-01]\n",
      " [ 9.39261991e-01  3.14159261e+00  1.01935445e+00]] \n",
      "\n",
      "Energy after step    45: -2.0000000 | Angles: [[ 5.49473067e-02 -2.12409211e-17  8.94917751e-01]\n",
      " [ 9.39261991e-01  3.14159265e+00  1.01935445e+00]] \n",
      "\n",
      "Energy after step    50: -2.0000000 | Angles: [[ 5.49473067e-02 -2.12409211e-17  8.94917751e-01]\n",
      " [ 9.39261991e-01  3.14159265e+00  1.01935445e+00]] \n",
      "\n",
      "Energy after step    55: -2.0000000 | Angles: [[ 5.49473067e-02 -2.12409211e-17  8.94917751e-01]\n",
      " [ 9.39261991e-01  3.14159265e+00  1.01935445e+00]] \n",
      "\n",
      "Energy after step    60: -2.0000000 | Angles: [[ 5.49473067e-02 -2.12409211e-17  8.94917751e-01]\n",
      " [ 9.39261991e-01  3.14159265e+00  1.01935445e+00]] \n",
      "\n",
      "Energy after step    65: -2.0000000 | Angles: [[ 5.49473067e-02 -2.12409211e-17  8.94917751e-01]\n",
      " [ 9.39261991e-01  3.14159265e+00  1.01935445e+00]] \n",
      "\n",
      "Energy after step    70: -2.0000000 | Angles: [[ 5.49473067e-02 -2.12409211e-17  8.94917751e-01]\n",
      " [ 9.39261991e-01  3.14159265e+00  1.01935445e+00]] \n",
      "\n",
      "Energy after step    75: -2.0000000 | Angles: [[ 5.49473067e-02 -2.12409211e-17  8.94917751e-01]\n",
      " [ 9.39261991e-01  3.14159265e+00  1.01935445e+00]] \n",
      "\n",
      "Energy after step    80: -2.0000000 | Angles: [[ 5.49473067e-02 -2.12409211e-17  8.94917751e-01]\n",
      " [ 9.39261991e-01  3.14159265e+00  1.01935445e+00]] \n",
      "\n",
      "Energy after step    85: -2.0000000 | Angles: [[ 5.49473067e-02 -2.12409211e-17  8.94917751e-01]\n",
      " [ 9.39261991e-01  3.14159265e+00  1.01935445e+00]] \n",
      "\n",
      "Energy after step    90: -2.0000000 | Angles: [[ 5.49473067e-02 -2.12409211e-17  8.94917751e-01]\n",
      " [ 9.39261991e-01  3.14159265e+00  1.01935445e+00]] \n",
      "\n",
      "Energy after step    95: -2.0000000 | Angles: [[ 5.49473067e-02 -2.12409211e-17  8.94917751e-01]\n",
      " [ 9.39261991e-01  3.14159265e+00  1.01935445e+00]] \n",
      "\n",
      "Energy after step   100: -2.0000000 | Angles: [[ 5.49473067e-02 -2.12409211e-17  8.94917751e-01]\n",
      " [ 9.39261991e-01  3.14159265e+00  1.01935445e+00]] \n",
      "\n"
     ]
    }
   ],
   "source": [
    "gd = qml.GradientDescentOptimizer(0.4)\n",
    "\n",
    "var = var_init\n",
    "var_gd = [var]\n",
    "cost_gd = [cost_init]\n",
    "\n",
    "for it in range(100):\n",
    "    var = gd.step(cost1, var)\n",
    "    if (it + 1) % 5 == 0:\n",
    "        var_gd.append(var)\n",
    "        cost_gd.append (cost1(var))\n",
    "        print('Energy after step {:5d}: {: .7f} | Angles: {}'.format(it + 1, cost1(var), var),\"\\n\")"
   ]
  },
  {
   "cell_type": "markdown",
   "metadata": {},
   "source": [
    "# TensorFlow optimizer"
   ]
  },
  {
   "cell_type": "code",
   "execution_count": 175,
   "metadata": {},
   "outputs": [
    {
     "name": "stdout",
     "output_type": "stream",
     "text": [
      "True\n"
     ]
    }
   ],
   "source": [
    "# activate tenserflow \n",
    "import tensorflow as tf\n",
    "import tensorflow.contrib.eager as tfe\n",
    "\n",
    "# to suppress warnings from being printed\n",
    "tf.logging.set_verbosity(tf.logging.ERROR)\n",
    "\n",
    "# check if the eager tenserflow execution is working\n",
    "tf.enable_eager_execution()\n",
    "print(tf.executing_eagerly())"
   ]
  },
  {
   "cell_type": "code",
   "execution_count": 176,
   "metadata": {},
   "outputs": [],
   "source": [
    "@qml.qnode(dev2, interface = 'tfe')\n",
    "def circuit2(p1, p2):\n",
    "        qml.Rot(p1[0], p1[1], p1[2], wires = 1)\n",
    "        qml.Rot(p2[0], p2[1], p2[2], wires = 2)\n",
    "        return qml.expval.PauliZ(0), qml.expval.PauliZ(1), qml.expval.PauliZ(2)"
   ]
  },
  {
   "cell_type": "code",
   "execution_count": 177,
   "metadata": {},
   "outputs": [],
   "source": [
    "def cost2(var):\n",
    "    spins = circuit2(var[0], var[1])\n",
    "    energy = -(1*spins[0]*spins[1]) - (-1*spins[1]*spins[2])\n",
    "    return energy"
   ]
  },
  {
   "cell_type": "code",
   "execution_count": 178,
   "metadata": {},
   "outputs": [
    {
     "name": "stdout",
     "output_type": "stream",
     "text": [
      "tf.Tensor(2.0, shape=(), dtype=float64)\n"
     ]
    }
   ],
   "source": [
    "# let's test the functions for our known spin configuration [1,-1,-1]\n",
    "\n",
    "t1 = tfe.Variable([0, np.pi, 0], dtype = tf.float64)\n",
    "t2 = tfe.Variable([0, np.pi, 0], dtype = tf.float64)\n",
    "\n",
    "print(cost2([t1, t2]))"
   ]
  },
  {
   "cell_type": "code",
   "execution_count": 179,
   "metadata": {},
   "outputs": [
    {
     "name": "stdout",
     "output_type": "stream",
     "text": [
      "tf.Tensor(1.7860905782632743, shape=(), dtype=float64)\n"
     ]
    }
   ],
   "source": [
    "# initialize the parameters to some random values\n",
    "tf.random.set_random_seed(21)\n",
    "tf1 = tfe.Variable(tf.random_uniform([3], 0, np.pi, dtype = tf.float64))\n",
    "tf2 = tfe.Variable(tf.random_uniform([3], 0, np.pi, dtype = tf.float64))\n",
    "var_init = [tf1, tf2]\n",
    "cost_init = cost2(var_init)\n",
    "print(cost_init)"
   ]
  },
  {
   "cell_type": "code",
   "execution_count": 180,
   "metadata": {},
   "outputs": [
    {
     "name": "stdout",
     "output_type": "stream",
     "text": [
      "Energy after step     5:  0.9352332 | Angles: [array([0.62509959, 2.05809012, 1.7676818 ]), array([0.77132251, 3.06881248, 0.88720477])] \n",
      "\n",
      "Energy after step    10: -0.9022222 | Angles: [array([0.62509959, 1.10204233, 1.7676818 ]), array([0.77132251, 3.06490224, 0.88720477])] \n",
      "\n",
      "Energy after step    15: -1.8315440 | Angles: [array([0.62509959, 0.41173165, 1.7676818 ]), array([0.77132251, 3.08802801, 0.88720477])] \n",
      "\n",
      "Energy after step    20: -1.9806325 | Angles: [array([0.62509959, 0.13739658, 1.7676818 ]), array([0.77132251, 3.10920994, 0.88720477])] \n",
      "\n",
      "Energy after step    25: -1.9977809 | Angles: [array([0.62509959, 0.0451202 , 1.7676818 ]), array([0.77132251, 3.12241992, 0.88720477])] \n",
      "\n",
      "Energy after step    30: -1.9997172 | Angles: [array([0.62509959, 0.01478926, 1.7676818 ]), array([0.77132251, 3.13026791, 0.88720477])] \n",
      "\n",
      "Energy after step    35: -1.9999542 | Angles: [array([0.62509959, 0.00484639, 1.7676818 ]), array([0.77132251, 3.13490525, 0.88720477])] \n",
      "\n",
      "Energy after step    40: -1.9999897 | Angles: [array([6.25099593e-01, 1.58808342e-03, 1.76768180e+00]), array([0.77132251, 3.13764378, 0.88720477])] \n",
      "\n",
      "Energy after step    45: -1.9999970 | Angles: [array([6.25099593e-01, 5.20385040e-04, 1.76768180e+00]), array([0.77132251, 3.13926088, 0.88720477])] \n",
      "\n",
      "Energy after step    50: -1.9999990 | Angles: [array([6.25099593e-01, 1.70519970e-04, 1.76768180e+00]), array([0.77132251, 3.14021577, 0.88720477])] \n",
      "\n",
      "Energy after step    55: -1.9999997 | Angles: [array([6.25099593e-01, 5.58760056e-05, 1.76768180e+00]), array([0.77132251, 3.14077961, 0.88720477])] \n",
      "\n",
      "Energy after step    60: -1.9999999 | Angles: [array([6.25099593e-01, 1.83094518e-05, 1.76768180e+00]), array([0.77132251, 3.14111256, 0.88720477])] \n",
      "\n",
      "Energy after step    65: -2.0000000 | Angles: [array([6.25099593e-01, 5.99964135e-06, 1.76768180e+00]), array([0.77132251, 3.14130916, 0.88720477])] \n",
      "\n",
      "Energy after step    70: -2.0000000 | Angles: [array([6.25099593e-01, 1.96596247e-06, 1.76768180e+00]), array([0.77132251, 3.14142526, 0.88720477])] \n",
      "\n",
      "Energy after step    75: -2.0000000 | Angles: [array([6.25099593e-01, 6.44206575e-07, 1.76768180e+00]), array([0.77132251, 3.14149381, 0.88720477])] \n",
      "\n",
      "Energy after step    80: -2.0000000 | Angles: [array([6.25099593e-01, 2.11093607e-07, 1.76768180e+00]), array([0.77132251, 3.14153429, 0.88720477])] \n",
      "\n",
      "Energy after step    85: -2.0000000 | Angles: [array([6.25099593e-01, 6.91711520e-08, 1.76768180e+00]), array([0.77132251, 3.14155819, 0.88720477])] \n",
      "\n",
      "Energy after step    90: -2.0000000 | Angles: [array([6.25099593e-01, 2.26660027e-08, 1.76768180e+00]), array([0.77132251, 3.1415723 , 0.88720477])] \n",
      "\n",
      "Energy after step    95: -2.0000000 | Angles: [array([6.25099593e-01, 7.42719570e-09, 1.76768180e+00]), array([0.77132251, 3.14158064, 0.88720477])] \n",
      "\n",
      "Energy after step   100: -2.0000000 | Angles: [array([6.25099593e-01, 2.43374335e-09, 1.76768180e+00]), array([0.77132251, 3.14158556, 0.88720477])] \n",
      "\n"
     ]
    }
   ],
   "source": [
    "# optimize using tensorflow optimizer\n",
    "\n",
    "opt = tf.train.GradientDescentOptimizer(learning_rate=0.1)\n",
    "\n",
    "\n",
    "var = var_init\n",
    "var_tf = [var]\n",
    "cost_tf = [cost_init]\n",
    "\n",
    "for i in range(100):\n",
    "    with tf.GradientTape() as tape:\n",
    "        loss = cost2([tf1, tf2])\n",
    "        grads = tape.gradient(loss, [tf1, tf2])\n",
    "\n",
    "    opt.apply_gradients(zip(grads, [tf1, tf2]), global_step=tf.train.get_or_create_global_step())\n",
    "    if (i + 1) % 5 == 0:\n",
    "            var_tf.append([tf1,tf2])\n",
    "            cost_tf.append (cost2([tf1,tf2]))\n",
    "            print('Energy after step {:5d}: {: .7f} | Angles: {}'.format(i+1,cost2([tf1,tf2]), [tf1.numpy(),tf2.numpy()]),\"\\n\")"
   ]
  },
  {
   "cell_type": "markdown",
   "metadata": {},
   "source": [
    "# PyTorch optimizer"
   ]
  },
  {
   "cell_type": "code",
   "execution_count": 181,
   "metadata": {},
   "outputs": [],
   "source": [
    "import torch\n",
    "from torch.autograd import Variable"
   ]
  },
  {
   "cell_type": "code",
   "execution_count": 182,
   "metadata": {},
   "outputs": [],
   "source": [
    "@qml.qnode(dev3, interface = 'torch')\n",
    "def circuit3(p1, p2):\n",
    "    qml.Rot(p1[0], p1[1], p1[2], wires = 1)\n",
    "    qml.Rot(p2[0], p2[1], p2[2], wires = 2)\n",
    "    return qml.expval.PauliZ(0), qml.expval.PauliZ(1), qml.expval.PauliZ(2) "
   ]
  },
  {
   "cell_type": "code",
   "execution_count": 183,
   "metadata": {},
   "outputs": [],
   "source": [
    "def cost3(var1,var2):\n",
    "    spins = circuit3(var1, var2)\n",
    "    energy = -(1*spins[0]*spins[1]) - (-1*spins[1]*spins[2])\n",
    "    return energy"
   ]
  },
  {
   "cell_type": "code",
   "execution_count": 184,
   "metadata": {},
   "outputs": [
    {
     "name": "stdout",
     "output_type": "stream",
     "text": [
      "tensor(2.0000, dtype=torch.float64)\n"
     ]
    }
   ],
   "source": [
    "# let's test the functions for our known spin configuration [1,-1,-1]\n",
    "\n",
    "t1=torch.tensor([0, np.pi, 0])\n",
    "t2=torch.tensor([0, np.pi ,0])\n",
    "print(cost3(t1, t2))"
   ]
  },
  {
   "cell_type": "code",
   "execution_count": 185,
   "metadata": {},
   "outputs": [
    {
     "name": "stdout",
     "output_type": "stream",
     "text": [
      "tensor(1.6792, dtype=torch.float64, grad_fn=<SubBackward0>)\n"
     ]
    }
   ],
   "source": [
    "torch.manual_seed(56)\n",
    "pt1 = Variable((np.pi*torch.rand(3, dtype = torch.float64)), requires_grad = True)\n",
    "pt2 = Variable((np.pi*torch.rand(3, dtype = torch.float64)), requires_grad = True)\n",
    "var_init = [pt1, pt2]\n",
    "cost_init = cost3(pt1, pt2)\n",
    "print(cost_init)"
   ]
  },
  {
   "cell_type": "code",
   "execution_count": 186,
   "metadata": {},
   "outputs": [
    {
     "name": "stdout",
     "output_type": "stream",
     "text": [
      "Energy after step     5:  0.6846474 | Angles: [array([1.96323939, 1.93604492, 2.32767565]), array([0.65212549, 2.73080219, 2.4299563 ])] \n",
      "\n",
      "Energy after step    10: -1.0138530 | Angles: [array([1.96323939, 1.0136468 , 2.32767565]), array([0.65212549, 2.73225282, 2.4299563 ])] \n",
      "\n",
      "Energy after step    15: -1.8171995 | Angles: [array([1.96323939, 0.38483073, 2.32767565]), array([0.65212549, 2.85992571, 2.4299563 ])] \n",
      "\n",
      "Energy after step    20: -1.9686584 | Angles: [array([1.96323939, 0.13026452, 2.32767565]), array([0.65212549, 2.97097572, 2.4299563 ])] \n",
      "\n",
      "Energy after step    25: -1.9930403 | Angles: [array([1.96323939, 0.04302756, 2.32767565]), array([0.65212549, 3.04042222, 2.4299563 ])] \n",
      "\n",
      "Energy after step    30: -1.9980133 | Angles: [array([1.96323939, 0.01413292, 2.32767565]), array([0.65212549, 3.08179844, 2.4299563 ])] \n",
      "\n",
      "Energy after step    35: -1.9993550 | Angles: [array([1.96323939, 0.00463472, 2.32767565]), array([0.65212549, 3.10627578, 2.4299563 ])] \n",
      "\n",
      "Energy after step    40: -1.9997802 | Angles: [array([1.96323939e+00, 1.51911413e-03, 2.32767565e+00]), array([0.65212549, 3.12073668, 2.4299563 ])] \n",
      "\n",
      "Energy after step    45: -1.9999239 | Angles: [array([1.96323939e+00, 4.97829828e-04, 2.32767565e+00]), array([0.65212549, 3.12927707, 2.4299563 ])] \n",
      "\n",
      "Energy after step    50: -1.9999735 | Angles: [array([1.96323939e+00, 1.63134183e-04, 2.32767565e+00]), array([0.65212549, 3.13432035, 2.4299563 ])] \n",
      "\n",
      "Energy after step    55: -1.9999908 | Angles: [array([1.96323939e+00, 5.34564150e-05, 2.32767565e+00]), array([0.65212549, 3.13729842, 2.4299563 ])] \n",
      "\n",
      "Energy after step    60: -1.9999968 | Angles: [array([1.96323939e+00, 1.75166673e-05, 2.32767565e+00]), array([0.65212549, 3.13905695, 2.4299563 ])] \n",
      "\n",
      "Energy after step    65: -1.9999989 | Angles: [array([1.96323939e+00, 5.73986944e-06, 2.32767565e+00]), array([0.65212549, 3.14009534, 2.4299563 ])] \n",
      "\n",
      "Energy after step    70: -1.9999996 | Angles: [array([1.96323939e+00, 1.88084132e-06, 2.32767565e+00]), array([0.65212549, 3.14070851, 2.4299563 ])] \n",
      "\n",
      "Energy after step    75: -1.9999999 | Angles: [array([1.96323939e+00, 6.16314188e-07, 2.32767565e+00]), array([0.65212549, 3.14107057, 2.4299563 ])] \n",
      "\n",
      "Energy after step    80: -2.0000000 | Angles: [array([1.96323939e+00, 2.01953845e-07, 2.32767565e+00]), array([0.65212549, 3.14128437, 2.4299563 ])] \n",
      "\n",
      "Energy after step    85: -2.0000000 | Angles: [array([1.96323939e+00, 6.61762375e-08, 2.32767565e+00]), array([0.65212549, 3.14141062, 2.4299563 ])] \n",
      "\n",
      "Energy after step    90: -2.0000000 | Angles: [array([1.96323939e+00, 2.16846296e-08, 2.32767565e+00]), array([0.65212549, 3.14148516, 2.4299563 ])] \n",
      "\n",
      "Energy after step    95: -2.0000000 | Angles: [array([1.96323939e+00, 7.10561936e-09, 2.32767565e+00]), array([0.65212549, 3.14152918, 2.4299563 ])] \n",
      "\n",
      "Energy after step   100: -2.0000000 | Angles: [array([1.96323939e+00, 2.32836936e-09, 2.32767565e+00]), array([0.65212549, 3.14155517, 2.4299563 ])] \n",
      "\n"
     ]
    }
   ],
   "source": [
    "# optimizing using PyTorch optimizer \n",
    "\n",
    "opt = torch.optim.SGD(var_init, lr = 0.1)\n",
    "\n",
    "def closure():\n",
    "    opt.zero_grad()\n",
    "    loss = cost3(pt1, pt2)\n",
    "    loss.backward()\n",
    "    return loss\n",
    "\n",
    "\n",
    "var_pt = [var_init]\n",
    "cost_pt = [cost_init]\n",
    "\n",
    "for j in range(100):\n",
    "    opt.step(closure)\n",
    "    if (j + 1) % 5 == 0:\n",
    "        pt1, pt2 = opt.param_groups[0]['params']\n",
    "        costn = cost3(pt1, pt2)\n",
    "        var_pt.append([pt1,pt2])\n",
    "        cost_pt.append(costn)\n",
    "        print('Energy after step {:5d}: {: .7f} | Angles: {}'.format(j+1,costn, [pt1.detach().numpy(), pt2.detach().numpy()]),\"\\n\")"
   ]
  },
  {
   "cell_type": "code",
   "execution_count": 187,
   "metadata": {},
   "outputs": [],
   "source": [
    "import matplotlib.pyplot as plt\n",
    "%matplotlib inline"
   ]
  },
  {
   "cell_type": "code",
   "execution_count": 188,
   "metadata": {},
   "outputs": [],
   "source": [
    "x = [0]\n",
    "for k in range(100):\n",
    "    if (k + 1) % 5 == 0:\n",
    "        x.append(k)"
   ]
  },
  {
   "cell_type": "code",
   "execution_count": 189,
   "metadata": {},
   "outputs": [
    {
     "data": {
      "image/png": "[encoded data removed]",
      "text/plain": [
       "<Figure size 432x288 with 1 Axes>"
      ]
     },
     "metadata": {
      "needs_background": "light"
     },
     "output_type": "display_data"
    }
   ],
   "source": [
    "plt.plot(x, cost_gd, label = 'Pennylane')\n",
    "plt.plot(x, cost_tf, label = 'Tensorflow')\n",
    "plt.plot(x, cost_pt, label = 'PyTorch')\n",
    "plt.xlabel(\"steps\")\n",
    "plt.ylabel(\"Cost\")\n",
    "plt.legend()\n",
    "plt.show()"
   ]
  },
  {
   "cell_type": "markdown",
   "metadata": {},
   "source": [
    "**So far, `random seeds` were set so that all the optimizers could find global minima.**\n",
    "\n",
    "With different random intialization for the optimizers, in some runs, you should see one or more of the optimizers getting stuck in a local minima of energy (usually zero energy). \n",
    "\n",
    "Let's have a look at one such instance below."
   ]
  },
  {
   "cell_type": "code",
   "execution_count": null,
   "metadata": {},
   "outputs": [],
   "source": []
  }
 ],
 "metadata": {
  "kernelspec": {
   "display_name": "Python 3",
   "language": "python",
   "name": "python3"
  },
  "language_info": {
   "codemirror_mode": {
    "name": "ipython",
    "version": 3
   },
   "file_extension": ".py",
   "mimetype": "text/x-python",
   "name": "python",
   "nbconvert_exporter": "python",
   "pygments_lexer": "ipython3",
   "version": "3.7.3"
  }
 },
 "nbformat": 4,
 "nbformat_minor": 2
}
