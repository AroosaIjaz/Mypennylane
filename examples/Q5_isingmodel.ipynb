{
 "cells": [
  {
   "cell_type": "markdown",
   "metadata": {},
   "source": [
    "# Qubit Optimization for 3-qubit Ising model \n",
    "\n",
    "We will be comparing the PennyLane gradient descent optimizer with the optimizers in Tensorflow and PyTorch for this quantum system. The Ising model is an example of a system whose optimization landscape is non-convex and hence using gradient descent may not be the best strategy since the optimization can get stuck in local minimas. Quantum annealing (for example on a D-wave system) is one alternative that may have more success in finding the global ground state. \n",
    "\n",
    "The energy for this system is given by:\n",
    "$$ H=-\\sum_{<i,j>} J_{ij} \\sigma_i \\sigma_{j}$$\n",
    "\n",
    "where each spin can be in +1 or -1 spin state and $J_{ij}$ are nearest neighbour coupling strengths.\n",
    "\n",
    "For simplicity, we will assume that the first spin is always in up state (+1 eigenstate of Pauli-Z operator)"
   ]
  },
  {
   "cell_type": "markdown",
   "metadata": {},
   "source": [
    "# PennyLane optimizer"
   ]
  },
  {
   "cell_type": "code",
   "execution_count": 1,
   "metadata": {},
   "outputs": [],
   "source": [
    "# import PennyLane library\n",
    "\n",
    "import pennylane as qml\n",
    "from pennylane import numpy as np"
   ]
  },
  {
   "cell_type": "code",
   "execution_count": 2,
   "metadata": {},
   "outputs": [],
   "source": [
    "# create our three devices. \n",
    "\n",
    "dev1 = qml.device('default.qubit', wires = 3)\n",
    "dev2 = qml.device('default.qubit', wires = 3)\n",
    "dev3 = qml.device('default.qubit', wires = 3)"
   ]
  },
  {
   "cell_type": "code",
   "execution_count": 3,
   "metadata": {},
   "outputs": [],
   "source": [
    "# We use PennyLane's Rot(phi,theta,omega,wires) single-qubit operation\n",
    "\n",
    "@qml.qnode(dev1)\n",
    "def circuit1(p1, p2):\n",
    "    qml.Rot(p1[0], p1[1], p1[2], wires = 1)\n",
    "    qml.Rot(p2[0], p2[1], p2[2], wires = 2)\n",
    "    return qml.expval.PauliZ(0), qml.expval.PauliZ(1), qml.expval.PauliZ(2) \n",
    "\n",
    "# the expectation value of Pauli-Z is +1 for spin up and -1 for spin down."
   ]
  },
  {
   "cell_type": "markdown",
   "metadata": {},
   "source": [
    "Our cost function is the energy of the spin configuration which we will optimize using gradient descent.\n",
    "\n",
    "Let the coupling matrix be J = [1,-1]"
   ]
  },
  {
   "cell_type": "code",
   "execution_count": 4,
   "metadata": {},
   "outputs": [],
   "source": [
    "def cost1(var):\n",
    "    spins = circuit1(var[0], var[1])\n",
    "    energy = -(1*spins[0]*spins[1]) - (-1*spins[1]*spins[2])\n",
    "    return energy"
   ]
  },
  {
   "cell_type": "markdown",
   "metadata": {},
   "source": [
    "Let's test these functions for the [1,-1,-1] spin configuration. \n",
    "\n",
    "Total energy for this Ising model should be\n",
    "\n",
    "$$H = -1(J_1 s_1 \\otimes s_2 + J_2 s_2 \\otimes s3) = -1 [1 \\times 1 \\times (-1) + (-1) \\times (-1) \\times (-1)] = 2 $$\n"
   ]
  },
  {
   "cell_type": "code",
   "execution_count": 5,
   "metadata": {
    "scrolled": true
   },
   "outputs": [
    {
     "name": "stdout",
     "output_type": "stream",
     "text": [
      "2.0\n"
     ]
    }
   ],
   "source": [
    "# You can easily guess the angles if you look at the Rot(phi,theta,omega)\n",
    "\n",
    "t1 = np.array([0, np.pi, 0])    #spin 2 in -1 state\n",
    "t2 = np.array([0, np.pi ,0])     #spin 3 in -1 state\n",
    "print(cost1([t1, t2]))"
   ]
  },
  {
   "cell_type": "markdown",
   "metadata": {},
   "source": [
    "Now we optimize using the PennyLane gradient descent optimizer"
   ]
  },
  {
   "cell_type": "code",
   "execution_count": 6,
   "metadata": {},
   "outputs": [
    {
     "name": "stdout",
     "output_type": "stream",
     "text": [
      "1.6909756656963444\n"
     ]
    }
   ],
   "source": [
    "# initialize the parameters to some random values\n",
    "np.random.seed(48)\n",
    "pl1 = np.pi*(np.random.ranf(3))\n",
    "pl2 = np.pi*(np.random.ranf(3))\n",
    "var_init = np.array([pl1, pl2])\n",
    "cost_init = cost1(var_init)\n",
    "print(cost_init)"
   ]
  },
  {
   "cell_type": "markdown",
   "metadata": {},
   "source": [
    "The minimun energy should be -2 for the [1,1,-1] spin configuration which corresponds to the angles of [0,0,0] and [0,pi,0] for second and third spin respectively. "
   ]
  },
  {
   "cell_type": "code",
   "execution_count": 7,
   "metadata": {},
   "outputs": [
    {
     "name": "stdout",
     "output_type": "stream",
     "text": [
      "Energy after step     5: -0.8526522 | Angles: [[0.05494731 0.82939429 0.89491775]\n",
      " [0.93926199 1.83649654 1.01935445]] \n",
      "\n",
      "Energy after step    10: -1.9846264 | Angles: [[0.05494731 0.00311615 0.89491775]\n",
      " [0.93926199 2.96607366 1.01935445]] \n",
      "\n",
      "Energy after step    15: -1.9999059 | Angles: [[5.49473067e-02 1.04553176e-06 8.94917751e-01]\n",
      " [9.39261991e-01 3.12787147e+00 1.01935445e+00]] \n",
      "\n",
      "Energy after step    20: -1.9999994 | Angles: [[5.49473067e-02 3.34668166e-10 8.94917751e-01]\n",
      " [9.39261991e-01 3.14052566e+00 1.01935445e+00]] \n",
      "\n",
      "Energy after step    25: -2.0000000 | Angles: [[5.49473067e-02 1.07387285e-13 8.94917751e-01]\n",
      " [9.39261991e-01 3.14150968e+00 1.01935445e+00]] \n",
      "\n",
      "Energy after step    30: -2.0000000 | Angles: [[ 5.49473067e-02 -2.12409211e-17  8.94917751e-01]\n",
      " [ 9.39261991e-01  3.14158620e+00  1.01935445e+00]] \n",
      "\n",
      "Energy after step    35: -2.0000000 | Angles: [[ 5.49473067e-02 -2.12409211e-17  8.94917751e-01]\n",
      " [ 9.39261991e-01  3.14159215e+00  1.01935445e+00]] \n",
      "\n",
      "Energy after step    40: -2.0000000 | Angles: [[ 5.49473067e-02 -2.12409211e-17  8.94917751e-01]\n",
      " [ 9.39261991e-01  3.14159261e+00  1.01935445e+00]] \n",
      "\n",
      "Energy after step    45: -2.0000000 | Angles: [[ 5.49473067e-02 -2.12409211e-17  8.94917751e-01]\n",
      " [ 9.39261991e-01  3.14159265e+00  1.01935445e+00]] \n",
      "\n",
      "Energy after step    50: -2.0000000 | Angles: [[ 5.49473067e-02 -2.12409211e-17  8.94917751e-01]\n",
      " [ 9.39261991e-01  3.14159265e+00  1.01935445e+00]] \n",
      "\n",
      "Energy after step    55: -2.0000000 | Angles: [[ 5.49473067e-02 -2.12409211e-17  8.94917751e-01]\n",
      " [ 9.39261991e-01  3.14159265e+00  1.01935445e+00]] \n",
      "\n",
      "Energy after step    60: -2.0000000 | Angles: [[ 5.49473067e-02 -2.12409211e-17  8.94917751e-01]\n",
      " [ 9.39261991e-01  3.14159265e+00  1.01935445e+00]] \n",
      "\n",
      "Energy after step    65: -2.0000000 | Angles: [[ 5.49473067e-02 -2.12409211e-17  8.94917751e-01]\n",
      " [ 9.39261991e-01  3.14159265e+00  1.01935445e+00]] \n",
      "\n",
      "Energy after step    70: -2.0000000 | Angles: [[ 5.49473067e-02 -2.12409211e-17  8.94917751e-01]\n",
      " [ 9.39261991e-01  3.14159265e+00  1.01935445e+00]] \n",
      "\n",
      "Energy after step    75: -2.0000000 | Angles: [[ 5.49473067e-02 -2.12409211e-17  8.94917751e-01]\n",
      " [ 9.39261991e-01  3.14159265e+00  1.01935445e+00]] \n",
      "\n",
      "Energy after step    80: -2.0000000 | Angles: [[ 5.49473067e-02 -2.12409211e-17  8.94917751e-01]\n",
      " [ 9.39261991e-01  3.14159265e+00  1.01935445e+00]] \n",
      "\n",
      "Energy after step    85: -2.0000000 | Angles: [[ 5.49473067e-02 -2.12409211e-17  8.94917751e-01]\n",
      " [ 9.39261991e-01  3.14159265e+00  1.01935445e+00]] \n",
      "\n",
      "Energy after step    90: -2.0000000 | Angles: [[ 5.49473067e-02 -2.12409211e-17  8.94917751e-01]\n",
      " [ 9.39261991e-01  3.14159265e+00  1.01935445e+00]] \n",
      "\n",
      "Energy after step    95: -2.0000000 | Angles: [[ 5.49473067e-02 -2.12409211e-17  8.94917751e-01]\n",
      " [ 9.39261991e-01  3.14159265e+00  1.01935445e+00]] \n",
      "\n",
      "Energy after step   100: -2.0000000 | Angles: [[ 5.49473067e-02 -2.12409211e-17  8.94917751e-01]\n",
      " [ 9.39261991e-01  3.14159265e+00  1.01935445e+00]] \n",
      "\n"
     ]
    }
   ],
   "source": [
    "gd = qml.GradientDescentOptimizer(0.4)\n",
    "\n",
    "var = var_init\n",
    "var_gd = [var]\n",
    "cost_gd = [cost_init]\n",
    "\n",
    "for it in range(100):\n",
    "    var = gd.step(cost1, var)\n",
    "    if (it + 1) % 5 == 0:\n",
    "        var_gd.append(var)\n",
    "        cost_gd.append (cost1(var))\n",
    "        print('Energy after step {:5d}: {: .7f} | Angles: {}'.format(it + 1, cost1(var), var),\"\\n\")"
   ]
  },
  {
   "cell_type": "markdown",
   "metadata": {},
   "source": [
    "# TensorFlow optimizer"
   ]
  },
  {
   "cell_type": "code",
   "execution_count": 8,
   "metadata": {},
   "outputs": [
    {
     "name": "stdout",
     "output_type": "stream",
     "text": [
      "True\n"
     ]
    }
   ],
   "source": [
    "# activate tenserflow \n",
    "import tensorflow as tf\n",
    "import tensorflow.contrib.eager as tfe\n",
    "\n",
    "# to suppress warnings from being printed\n",
    "tf.logging.set_verbosity(tf.logging.ERROR)\n",
    "\n",
    "# check if the eager tenserflow execution is working\n",
    "tf.enable_eager_execution()\n",
    "print(tf.executing_eagerly())"
   ]
  },
  {
   "cell_type": "code",
   "execution_count": 9,
   "metadata": {},
   "outputs": [],
   "source": [
    "@qml.qnode(dev2, interface = 'tfe')\n",
    "def circuit2(p1, p2):\n",
    "        qml.Rot(p1[0], p1[1], p1[2], wires = 1)\n",
    "        qml.Rot(p2[0], p2[1], p2[2], wires = 2)\n",
    "        return qml.expval.PauliZ(0), qml.expval.PauliZ(1), qml.expval.PauliZ(2)"
   ]
  },
  {
   "cell_type": "code",
   "execution_count": 10,
   "metadata": {},
   "outputs": [],
   "source": [
    "def cost2(var):\n",
    "    spins = circuit2(var[0], var[1])\n",
    "    energy = -(1*spins[0]*spins[1]) - (-1*spins[1]*spins[2])\n",
    "    return energy"
   ]
  },
  {
   "cell_type": "code",
   "execution_count": 11,
   "metadata": {},
   "outputs": [
    {
     "name": "stdout",
     "output_type": "stream",
     "text": [
      "tf.Tensor(2.0, shape=(), dtype=float64)\n"
     ]
    }
   ],
   "source": [
    "# let's test the functions for our known spin configuration [1,-1,-1]\n",
    "\n",
    "t1 = tfe.Variable([0, np.pi, 0], dtype = tf.float64)\n",
    "t2 = tfe.Variable([0, np.pi, 0], dtype = tf.float64)\n",
    "\n",
    "print(cost2([t1, t2]))"
   ]
  },
  {
   "cell_type": "code",
   "execution_count": 12,
   "metadata": {},
   "outputs": [
    {
     "name": "stdout",
     "output_type": "stream",
     "text": [
      "tf.Tensor(1.6415624188526197, shape=(), dtype=float64)\n"
     ]
    }
   ],
   "source": [
    "# initialize the parameters to some random values\n",
    "tf.random.set_random_seed(95)\n",
    "tf1 = tfe.Variable(tf.random_uniform([3], 0, np.pi, dtype = tf.float64))\n",
    "tf2 = tfe.Variable(tf.random_uniform([3], 0, np.pi, dtype = tf.float64))\n",
    "var_init = [tf1, tf2]\n",
    "cost_init = cost2(var_init)\n",
    "print(cost_init)"
   ]
  },
  {
   "cell_type": "code",
   "execution_count": 13,
   "metadata": {},
   "outputs": [
    {
     "name": "stdout",
     "output_type": "stream",
     "text": [
      "Energy after step     5:  0.4618767 | Angles: [array([1.10173765, 1.80656331, 2.34279535]), array([1.54188126, 2.92814608, 1.6940942 ])] \n",
      "\n",
      "Energy after step    10: -1.2836008 | Angles: [array([1.10173765, 0.86565832, 2.34279535]), array([1.54188126, 2.94348548, 1.6940942 ])] \n",
      "\n",
      "Energy after step    15: -1.8968016 | Angles: [array([1.10173765, 0.30970925, 2.34279535]), array([1.54188126, 3.0115427 , 1.6940942 ])] \n",
      "\n",
      "Energy after step    20: -1.9864099 | Angles: [array([1.10173765, 0.10287321, 2.34279535]), array([1.54188126, 3.06369378, 1.6940942 ])] \n",
      "\n",
      "Energy after step    25: -1.9977973 | Angles: [array([1.10173765, 0.0337903 , 2.34279535]), array([1.54188126, 3.09550928, 1.6940942 ])] \n",
      "\n",
      "Energy after step    30: -1.9995069 | Angles: [array([1.10173765, 0.01107875, 2.34279535]), array([1.54188126, 3.11437293, 1.6940942 ])] \n",
      "\n",
      "Energy after step    35: -1.9998576 | Angles: [array([1.10173765, 0.00363091, 2.34279535]), array([1.54188126, 3.12551865, 1.6940942 ])] \n",
      "\n",
      "Energy after step    40: -1.9999535 | Angles: [array([1.10173765e+00, 1.18984340e-03, 2.34279535e+00]), array([1.54188126, 3.13210094, 1.6940942 ])] \n",
      "\n",
      "Energy after step    45: -1.9999841 | Angles: [array([1.10173765e+00, 3.89895460e-04, 2.34279535e+00]), array([1.54188126, 3.13598786, 1.6940942 ])] \n",
      "\n",
      "Energy after step    50: -1.9999945 | Angles: [array([1.10173765e+00, 1.27761804e-04, 2.34279535e+00]), array([1.54188126, 3.13828307, 1.6940942 ])] \n",
      "\n",
      "Energy after step    55: -1.9999981 | Angles: [array([1.10173765e+00, 4.18650854e-05, 2.34279535e+00]), array([1.54188126, 3.13963838, 1.6940942 ])] \n",
      "\n",
      "Energy after step    60: -1.9999993 | Angles: [array([1.10173765e+00, 1.37183622e-05, 2.34279535e+00]), array([1.54188126, 3.14043867, 1.6940942 ])] \n",
      "\n",
      "Energy after step    65: -1.9999998 | Angles: [array([1.10173765e+00, 4.49523411e-06, 2.34279535e+00]), array([1.54188126, 3.14091124, 1.6940942 ])] \n",
      "\n",
      "Energy after step    70: -1.9999999 | Angles: [array([1.10173765e+00, 1.47299843e-06, 2.34279535e+00]), array([1.54188126, 3.14119029, 1.6940942 ])] \n",
      "\n",
      "Energy after step    75: -2.0000000 | Angles: [array([1.10173765e+00, 4.82672135e-07, 2.34279535e+00]), array([1.54188126, 3.14135506, 1.6940942 ])] \n",
      "\n",
      "Energy after step    80: -2.0000000 | Angles: [array([1.10173765e+00, 1.58162004e-07, 2.34279535e+00]), array([1.54188126, 3.14145236, 1.6940942 ])] \n",
      "\n",
      "Energy after step    85: -2.0000000 | Angles: [array([1.10173765e+00, 5.18265247e-08, 2.34279535e+00]), array([1.54188126, 3.14150981, 1.6940942 ])] \n",
      "\n",
      "Energy after step    90: -2.0000000 | Angles: [array([1.10173765e+00, 1.69825154e-08, 2.34279535e+00]), array([1.54188126, 3.14154374, 1.6940942 ])] \n",
      "\n",
      "Energy after step    95: -2.0000000 | Angles: [array([1.10173765e+00, 5.56483064e-09, 2.34279535e+00]), array([1.54188126, 3.14156377, 1.6940942 ])] \n",
      "\n",
      "Energy after step   100: -2.0000000 | Angles: [array([1.10173765e+00, 1.82348355e-09, 2.34279535e+00]), array([1.54188126, 3.1415756 , 1.6940942 ])] \n",
      "\n"
     ]
    }
   ],
   "source": [
    "# optimize using tensorflow optimizer\n",
    "\n",
    "opt = tf.train.GradientDescentOptimizer(learning_rate=0.1)\n",
    "\n",
    "var = var_init\n",
    "var_tf = [var]\n",
    "cost_tf = [cost_init]\n",
    "\n",
    "for i in range(100):\n",
    "    with tf.GradientTape() as tape:\n",
    "        loss = cost2([tf1, tf2])\n",
    "        grads = tape.gradient(loss, [tf1, tf2])\n",
    "\n",
    "    opt.apply_gradients(zip(grads, [tf1, tf2]), global_step=tf.train.get_or_create_global_step())\n",
    "    if (i + 1) % 5 == 0:\n",
    "            var_tf.append([tf1,tf2])\n",
    "            cost_tf.append (cost2([tf1,tf2]))\n",
    "            print('Energy after step {:5d}: {: .7f} | Angles: {}'.format(i+1,cost2([tf1,tf2]), [tf1.numpy(),tf2.numpy()]),\"\\n\")"
   ]
  },
  {
   "cell_type": "markdown",
   "metadata": {},
   "source": [
    "# PyTorch optimizer"
   ]
  },
  {
   "cell_type": "code",
   "execution_count": 14,
   "metadata": {},
   "outputs": [],
   "source": [
    "import torch\n",
    "from torch.autograd import Variable"
   ]
  },
  {
   "cell_type": "code",
   "execution_count": 15,
   "metadata": {},
   "outputs": [],
   "source": [
    "@qml.qnode(dev3, interface = 'torch')\n",
    "def circuit3(p1, p2):\n",
    "    qml.Rot(p1[0], p1[1], p1[2], wires = 1)\n",
    "    qml.Rot(p2[0], p2[1], p2[2], wires = 2)\n",
    "    return qml.expval.PauliZ(0), qml.expval.PauliZ(1), qml.expval.PauliZ(2) "
   ]
  },
  {
   "cell_type": "code",
   "execution_count": 16,
   "metadata": {},
   "outputs": [],
   "source": [
    "def cost3(var1,var2):\n",
    "    spins = circuit3(var1, var2)\n",
    "    energy = -(1*spins[0]*spins[1]) - (-1*spins[1]*spins[2])\n",
    "    return energy"
   ]
  },
  {
   "cell_type": "code",
   "execution_count": 17,
   "metadata": {},
   "outputs": [
    {
     "name": "stdout",
     "output_type": "stream",
     "text": [
      "tensor(2.0000, dtype=torch.float64)\n"
     ]
    }
   ],
   "source": [
    "# let's test the functions for our known spin configuration [1,-1,-1]\n",
    "\n",
    "t1=torch.tensor([0, np.pi, 0])\n",
    "t2=torch.tensor([0, np.pi ,0])\n",
    "print(cost3(t1, t2))"
   ]
  },
  {
   "cell_type": "code",
   "execution_count": 18,
   "metadata": {},
   "outputs": [
    {
     "name": "stdout",
     "output_type": "stream",
     "text": [
      "tensor(1.6792, dtype=torch.float64, grad_fn=<SubBackward0>)\n"
     ]
    }
   ],
   "source": [
    "torch.manual_seed(56)\n",
    "pt1 = Variable((np.pi*torch.rand(3, dtype = torch.float64)), requires_grad = True)\n",
    "pt2 = Variable((np.pi*torch.rand(3, dtype = torch.float64)), requires_grad = True)\n",
    "var_init = [pt1, pt2]\n",
    "cost_init = cost3(pt1, pt2)\n",
    "print(cost_init)"
   ]
  },
  {
   "cell_type": "code",
   "execution_count": 19,
   "metadata": {},
   "outputs": [
    {
     "name": "stdout",
     "output_type": "stream",
     "text": [
      "Energy after step     5:  0.6846474 | Angles: [array([1.96323939, 1.93604492, 2.32767565]), array([0.65212549, 2.73080219, 2.4299563 ])] \n",
      "\n",
      "Energy after step    10: -1.0138530 | Angles: [array([1.96323939, 1.0136468 , 2.32767565]), array([0.65212549, 2.73225282, 2.4299563 ])] \n",
      "\n",
      "Energy after step    15: -1.8171995 | Angles: [array([1.96323939, 0.38483073, 2.32767565]), array([0.65212549, 2.85992571, 2.4299563 ])] \n",
      "\n",
      "Energy after step    20: -1.9686584 | Angles: [array([1.96323939, 0.13026452, 2.32767565]), array([0.65212549, 2.97097572, 2.4299563 ])] \n",
      "\n",
      "Energy after step    25: -1.9930403 | Angles: [array([1.96323939, 0.04302756, 2.32767565]), array([0.65212549, 3.04042222, 2.4299563 ])] \n",
      "\n",
      "Energy after step    30: -1.9980133 | Angles: [array([1.96323939, 0.01413292, 2.32767565]), array([0.65212549, 3.08179844, 2.4299563 ])] \n",
      "\n",
      "Energy after step    35: -1.9993550 | Angles: [array([1.96323939, 0.00463472, 2.32767565]), array([0.65212549, 3.10627578, 2.4299563 ])] \n",
      "\n",
      "Energy after step    40: -1.9997802 | Angles: [array([1.96323939e+00, 1.51911413e-03, 2.32767565e+00]), array([0.65212549, 3.12073668, 2.4299563 ])] \n",
      "\n",
      "Energy after step    45: -1.9999239 | Angles: [array([1.96323939e+00, 4.97829828e-04, 2.32767565e+00]), array([0.65212549, 3.12927707, 2.4299563 ])] \n",
      "\n",
      "Energy after step    50: -1.9999735 | Angles: [array([1.96323939e+00, 1.63134183e-04, 2.32767565e+00]), array([0.65212549, 3.13432035, 2.4299563 ])] \n",
      "\n",
      "Energy after step    55: -1.9999908 | Angles: [array([1.96323939e+00, 5.34564150e-05, 2.32767565e+00]), array([0.65212549, 3.13729842, 2.4299563 ])] \n",
      "\n",
      "Energy after step    60: -1.9999968 | Angles: [array([1.96323939e+00, 1.75166673e-05, 2.32767565e+00]), array([0.65212549, 3.13905695, 2.4299563 ])] \n",
      "\n",
      "Energy after step    65: -1.9999989 | Angles: [array([1.96323939e+00, 5.73986944e-06, 2.32767565e+00]), array([0.65212549, 3.14009534, 2.4299563 ])] \n",
      "\n",
      "Energy after step    70: -1.9999996 | Angles: [array([1.96323939e+00, 1.88084132e-06, 2.32767565e+00]), array([0.65212549, 3.14070851, 2.4299563 ])] \n",
      "\n",
      "Energy after step    75: -1.9999999 | Angles: [array([1.96323939e+00, 6.16314188e-07, 2.32767565e+00]), array([0.65212549, 3.14107057, 2.4299563 ])] \n",
      "\n",
      "Energy after step    80: -2.0000000 | Angles: [array([1.96323939e+00, 2.01953845e-07, 2.32767565e+00]), array([0.65212549, 3.14128437, 2.4299563 ])] \n",
      "\n",
      "Energy after step    85: -2.0000000 | Angles: [array([1.96323939e+00, 6.61762375e-08, 2.32767565e+00]), array([0.65212549, 3.14141062, 2.4299563 ])] \n",
      "\n",
      "Energy after step    90: -2.0000000 | Angles: [array([1.96323939e+00, 2.16846296e-08, 2.32767565e+00]), array([0.65212549, 3.14148516, 2.4299563 ])] \n",
      "\n",
      "Energy after step    95: -2.0000000 | Angles: [array([1.96323939e+00, 7.10561936e-09, 2.32767565e+00]), array([0.65212549, 3.14152918, 2.4299563 ])] \n",
      "\n",
      "Energy after step   100: -2.0000000 | Angles: [array([1.96323939e+00, 2.32836936e-09, 2.32767565e+00]), array([0.65212549, 3.14155517, 2.4299563 ])] \n",
      "\n"
     ]
    }
   ],
   "source": [
    "# optimizing using PyTorch optimizer \n",
    "\n",
    "opt = torch.optim.SGD(var_init, lr = 0.1)\n",
    "\n",
    "def closure():\n",
    "    opt.zero_grad()\n",
    "    loss = cost3(pt1, pt2)\n",
    "    loss.backward()\n",
    "    return loss\n",
    "\n",
    "\n",
    "var_pt = [var_init]\n",
    "cost_pt = [cost_init]\n",
    "\n",
    "for j in range(100):\n",
    "    opt.step(closure)\n",
    "    if (j + 1) % 5 == 0:\n",
    "        pt1, pt2 = opt.param_groups[0]['params']\n",
    "        costn = cost3(pt1, pt2)\n",
    "        var_pt.append([pt1,pt2])\n",
    "        cost_pt.append(costn)\n",
    "        print('Energy after step {:5d}: {: .7f} | Angles: {}'.format(j+1,costn, [pt1.detach().numpy(), pt2.detach().numpy()]),\"\\n\")"
   ]
  },
  {
   "cell_type": "code",
   "execution_count": 20,
   "metadata": {},
   "outputs": [
    {
     "data": {
      "image/png": "[encoded data removed]",
      "text/plain": [
       "<Figure size 432x288 with 1 Axes>"
      ]
     },
     "metadata": {
      "needs_background": "light"
     },
     "output_type": "display_data"
    }
   ],
   "source": [
    "import matplotlib.pyplot as plt\n",
    "%matplotlib inline\n",
    "x = [0]\n",
    "for k in range(100):\n",
    "    if (k + 1) % 5 == 0:\n",
    "        x.append(k)\n",
    "        \n",
    "plt.plot(x, cost_gd, label = 'Pennylane')\n",
    "plt.plot(x, cost_tf, label = 'Tensorflow')\n",
    "plt.plot(x, cost_pt, label = 'PyTorch')\n",
    "plt.xlabel(\"steps\")\n",
    "plt.ylabel(\"Cost\")\n",
    "plt.legend()\n",
    "plt.show()"
   ]
  },
  {
   "cell_type": "markdown",
   "metadata": {},
   "source": [
    "**So far, `random seeds` were set so that all the optimizers could find the global minimum.**\n",
    "\n",
    "With different random intializations, you may see one or more of the optimizers getting stuck in local minima of energy (usually zero energy). \n",
    "\n",
    "Let's have a look at one such instance below."
   ]
  },
  {
   "cell_type": "code",
   "execution_count": 21,
   "metadata": {},
   "outputs": [],
   "source": [
    "dev4 = qml.device('default.qubit', wires = 3)\n",
    "@qml.qnode(dev4)\n",
    "def circuit4(p1, p2):\n",
    "    qml.Rot(p1[0], p1[1], p1[2], wires = 1)\n",
    "    qml.Rot(p2[0], p2[1], p2[2], wires = 2)\n",
    "    return qml.expval.PauliZ(0), qml.expval.PauliZ(1), qml.expval.PauliZ(2) "
   ]
  },
  {
   "cell_type": "code",
   "execution_count": 22,
   "metadata": {},
   "outputs": [],
   "source": [
    "def cost4(var):\n",
    "    spins = circuit4(*var)\n",
    "    energy = -(1*spins[0]*spins[1]) - (-1*spins[1]*spins[2])\n",
    "    return energy"
   ]
  },
  {
   "cell_type": "code",
   "execution_count": 23,
   "metadata": {},
   "outputs": [
    {
     "name": "stdout",
     "output_type": "stream",
     "text": [
      "0.086386657419815\n"
     ]
    }
   ],
   "source": [
    "# initialize the parameters to some random values\n",
    "np.random.seed(139)\n",
    "pl3 = np.pi*(np.random.ranf(3))\n",
    "pl4 = np.pi*(np.random.ranf(3))\n",
    "var_init = np.array([pl3, pl4])\n",
    "cost_init = cost4(var_init)\n",
    "print(cost_init)"
   ]
  },
  {
   "cell_type": "code",
   "execution_count": 24,
   "metadata": {},
   "outputs": [
    {
     "name": "stdout",
     "output_type": "stream",
     "text": [
      "Energy after step     5:  0.0035827 | Angles: [[1.54240383 2.29525545 2.93494919]\n",
      " [3.01266558 0.1040278  0.52144758]] \n",
      "\n",
      "Energy after step    10:  0.0001660 | Angles: [[1.54240383 2.29188659 2.93494919]\n",
      " [3.01266558 0.02242471 0.52144758]] \n",
      "\n",
      "Energy after step    15:  0.0000077 | Angles: [[1.54240383 2.29172947 2.93494919]\n",
      " [3.01266558 0.00484159 0.52144758]] \n",
      "\n",
      "Energy after step    20:  0.0000004 | Angles: [[1.54240383e+00 2.29172215e+00 2.93494919e+00]\n",
      " [3.01266558e+00 1.04539558e-03 5.21447581e-01]] \n",
      "\n",
      "Energy after step    25:  0.0000000 | Angles: [[1.54240383e+00 2.29172181e+00 2.93494919e+00]\n",
      " [3.01266558e+00 2.25722608e-04 5.21447581e-01]] \n",
      "\n",
      "Energy after step    30:  0.0000000 | Angles: [[1.54240383e+00 2.29172179e+00 2.93494919e+00]\n",
      " [3.01266558e+00 4.87382046e-05 5.21447581e-01]] \n",
      "\n",
      "Energy after step    35:  0.0000000 | Angles: [[1.54240383e+00 2.29172179e+00 2.93494919e+00]\n",
      " [3.01266558e+00 1.05235919e-05 5.21447581e-01]] \n",
      "\n",
      "Energy after step    40:  0.0000000 | Angles: [[1.54240383e+00 2.29172179e+00 2.93494919e+00]\n",
      " [3.01266558e+00 2.27226233e-06 5.21447581e-01]] \n",
      "\n",
      "Energy after step    45:  0.0000000 | Angles: [[1.54240383e+00 2.29172179e+00 2.93494919e+00]\n",
      " [3.01266558e+00 4.90628690e-07 5.21447581e-01]] \n",
      "\n",
      "Energy after step    50:  0.0000000 | Angles: [[1.54240383e+00 2.29172179e+00 2.93494919e+00]\n",
      " [3.01266558e+00 1.05936937e-07 5.21447581e-01]] \n",
      "\n",
      "Energy after step    55:  0.0000000 | Angles: [[1.54240383e+00 2.29172179e+00 2.93494919e+00]\n",
      " [3.01266558e+00 2.28739878e-08 5.21447581e-01]] \n",
      "\n",
      "Energy after step    60:  0.0000000 | Angles: [[1.54240383e+00 2.29172179e+00 2.93494919e+00]\n",
      " [3.01266558e+00 4.93896959e-09 5.21447581e-01]] \n",
      "\n",
      "Energy after step    65:  0.0000000 | Angles: [[1.54240383e+00 2.29172179e+00 2.93494919e+00]\n",
      " [3.01266558e+00 1.06642644e-09 5.21447581e-01]] \n",
      "\n",
      "Energy after step    70:  0.0000000 | Angles: [[1.54240383e+00 2.29172179e+00 2.93494919e+00]\n",
      " [3.01266558e+00 2.30263572e-10 5.21447581e-01]] \n",
      "\n",
      "Energy after step    75:  0.0000000 | Angles: [[1.54240383e+00 2.29172179e+00 2.93494919e+00]\n",
      " [3.01266558e+00 4.97187326e-11 5.21447581e-01]] \n",
      "\n",
      "Energy after step    80:  0.0000000 | Angles: [[1.54240383e+00 2.29172179e+00 2.93494919e+00]\n",
      " [3.01266558e+00 1.07351927e-11 5.21447581e-01]] \n",
      "\n",
      "Energy after step    85:  0.0000000 | Angles: [[1.54240383e+00 2.29172179e+00 2.93494919e+00]\n",
      " [3.01266558e+00 2.31796446e-12 5.21447581e-01]] \n",
      "\n",
      "Energy after step    90:  0.0000000 | Angles: [[1.54240383e+00 2.29172179e+00 2.93494919e+00]\n",
      " [3.01266558e+00 5.00508723e-13 5.21447581e-01]] \n",
      "\n",
      "Energy after step    95:  0.0000000 | Angles: [[1.54240383e+00 2.29172179e+00 2.93494919e+00]\n",
      " [3.01266558e+00 1.07961354e-13 5.21447581e-01]] \n",
      "\n",
      "Energy after step   100:  0.0000000 | Angles: [[1.54240383e+00 2.29172179e+00 2.93494919e+00]\n",
      " [3.01266558e+00 2.34323634e-14 5.21447581e-01]] \n",
      "\n"
     ]
    }
   ],
   "source": [
    "gd = qml.GradientDescentOptimizer(0.4)\n",
    "\n",
    "var = var_init\n",
    "var_gd = [var]\n",
    "cost_gd = [cost_init]\n",
    "\n",
    "for it in range(100):\n",
    "    var = gd.step(cost4, var)\n",
    "    if (it + 1) % 5 == 0:\n",
    "        var_gd.append(var)\n",
    "        cost_gd.append (cost4(var))\n",
    "        print('Energy after step {:5d}: {: .7f} | Angles: {}'.format(it + 1, cost4(var), var),\"\\n\")"
   ]
  },
  {
   "cell_type": "code",
   "execution_count": 25,
   "metadata": {},
   "outputs": [],
   "source": [
    "dev5 = qml.device('default.qubit', wires = 3)\n",
    "@qml.qnode(dev5, interface = 'tfe')\n",
    "def circuit5(p1, p2):\n",
    "        qml.Rot(p1[0], p1[1], p1[2], wires = 1)\n",
    "        qml.Rot(p2[0], p2[1], p2[2], wires = 2)\n",
    "        return qml.expval.PauliZ(0), qml.expval.PauliZ(1), qml.expval.PauliZ(2)"
   ]
  },
  {
   "cell_type": "code",
   "execution_count": 26,
   "metadata": {},
   "outputs": [],
   "source": [
    "def cost5(var):\n",
    "    spins = circuit5(var[0], var[1])\n",
    "    energy = -(1*spins[0]*spins[1]) - (-1*spins[1]*spins[2])\n",
    "    return energy"
   ]
  },
  {
   "cell_type": "code",
   "execution_count": 27,
   "metadata": {},
   "outputs": [
    {
     "name": "stdout",
     "output_type": "stream",
     "text": [
      "tf.Tensor(0.08468151715925465, shape=(), dtype=float64)\n"
     ]
    }
   ],
   "source": [
    "# initialize the parameters to some random values\n",
    "tf.random.set_random_seed(2)\n",
    "tf3 = tfe.Variable(tf.random_uniform([3], 0, np.pi, dtype = tf.float64))\n",
    "tf4 = tfe.Variable(tf.random_uniform([3], 0, np.pi, dtype = tf.float64))\n",
    "var_init = [tf3, tf4]\n",
    "cost_init = cost5(var_init)\n",
    "print(cost_init)"
   ]
  },
  {
   "cell_type": "code",
   "execution_count": 28,
   "metadata": {},
   "outputs": [
    {
     "name": "stdout",
     "output_type": "stream",
     "text": [
      "Energy after step     5:  0.0373047 | Angles: [array([0.55047046, 2.48743518, 2.78322045]), array([0.04260889, 0.30783841, 0.75156933])] \n",
      "\n",
      "Energy after step    10:  0.0164729 | Angles: [array([0.55047046, 2.47675306, 2.78322045]), array([0.04260889, 0.20495997, 0.75156933])] \n",
      "\n",
      "Energy after step    15:  0.0072870 | Angles: [array([0.55047046, 2.47195078, 2.78322045]), array([0.04260889, 0.13644408, 0.75156933])] \n",
      "\n",
      "Energy after step    20:  0.0032265 | Angles: [array([0.55047046, 2.46980921, 2.78322045]), array([0.04260889, 0.0908294 , 0.75156933])] \n",
      "\n",
      "Energy after step    25:  0.0014292 | Angles: [array([0.55047046, 2.46885756, 2.78322045]), array([0.04260889, 0.06046369, 0.75156933])] \n",
      "\n",
      "Energy after step    30:  0.0006332 | Angles: [array([0.55047046, 2.46843533, 2.78322045]), array([0.04260889, 0.04024963, 0.75156933])] \n",
      "\n",
      "Energy after step    35:  0.0002806 | Angles: [array([0.55047046, 2.46824812, 2.78322045]), array([0.04260889, 0.02679345, 0.75156933])] \n",
      "\n",
      "Energy after step    40:  0.0001243 | Angles: [array([0.55047046, 2.46816514, 2.78322045]), array([0.04260889, 0.01783591, 0.75156933])] \n",
      "\n",
      "Energy after step    45:  0.0000551 | Angles: [array([0.55047046, 2.46812837, 2.78322045]), array([0.04260889, 0.01187304, 0.75156933])] \n",
      "\n",
      "Energy after step    50:  0.0000244 | Angles: [array([0.55047046, 2.46811207, 2.78322045]), array([0.04260889, 0.00790366, 0.75156933])] \n",
      "\n",
      "Energy after step    55:  0.0000108 | Angles: [array([0.55047046, 2.46810485, 2.78322045]), array([0.04260889, 0.00526132, 0.75156933])] \n",
      "\n",
      "Energy after step    60:  0.0000048 | Angles: [array([0.55047046, 2.46810165, 2.78322045]), array([0.04260889, 0.00350237, 0.75156933])] \n",
      "\n",
      "Energy after step    65:  0.0000021 | Angles: [array([0.55047046, 2.46810023, 2.78322045]), array([0.04260889, 0.00233146, 0.75156933])] \n",
      "\n",
      "Energy after step    70:  0.0000009 | Angles: [array([0.55047046, 2.4680996 , 2.78322045]), array([0.04260889, 0.00155201, 0.75156933])] \n",
      "\n",
      "Energy after step    75:  0.0000004 | Angles: [array([0.55047046, 2.46809933, 2.78322045]), array([0.04260889, 0.00103315, 0.75156933])] \n",
      "\n",
      "Energy after step    80:  0.0000002 | Angles: [array([0.55047046, 2.4680992 , 2.78322045]), array([4.26088934e-02, 6.87745773e-04, 7.51569330e-01])] \n",
      "\n",
      "Energy after step    85:  0.0000001 | Angles: [array([0.55047046, 2.46809915, 2.78322045]), array([4.26088934e-02, 4.57819721e-04, 7.51569330e-01])] \n",
      "\n",
      "Energy after step    90:  0.0000000 | Angles: [array([0.55047046, 2.46809912, 2.78322045]), array([4.26088934e-02, 3.04762174e-04, 7.51569330e-01])] \n",
      "\n",
      "Energy after step    95:  0.0000000 | Angles: [array([0.55047046, 2.46809911, 2.78322045]), array([4.26088934e-02, 2.02874578e-04, 7.51569330e-01])] \n",
      "\n",
      "Energy after step   100:  0.0000000 | Angles: [array([0.55047046, 2.46809911, 2.78322045]), array([4.26088934e-02, 1.35049878e-04, 7.51569330e-01])] \n",
      "\n"
     ]
    }
   ],
   "source": [
    "# optimize using tensorflow optimizer\n",
    "\n",
    "opt = tf.train.GradientDescentOptimizer(learning_rate=0.1)\n",
    "\n",
    "var = var_init\n",
    "var_tf = [var]\n",
    "cost_tf = [cost_init]\n",
    "\n",
    "for i in range(100):\n",
    "    with tf.GradientTape() as tape:\n",
    "        loss = cost5([tf3, tf4])\n",
    "        grads = tape.gradient(loss, [tf3, tf4])\n",
    "\n",
    "    opt.apply_gradients(zip(grads, [tf3, tf4]), global_step=tf.train.get_or_create_global_step())\n",
    "    if (i + 1) % 5 == 0:\n",
    "            var_tf.append([tf3,tf4])\n",
    "            cost_tf.append (cost5([tf3,tf4]))\n",
    "            print('Energy after step {:5d}: {: .7f} | Angles: {}'.format(i+1,cost5([tf3,tf4]), [tf3.numpy(),tf4.numpy()]),\"\\n\")"
   ]
  },
  {
   "cell_type": "code",
   "execution_count": 29,
   "metadata": {},
   "outputs": [],
   "source": [
    "dev6 = qml.device('default.qubit', wires = 3)\n",
    "@qml.qnode(dev6, interface = 'torch')\n",
    "def circuit6(p1, p2):\n",
    "    qml.Rot(p1[0], p1[1], p1[2], wires = 1)\n",
    "    qml.Rot(p2[0], p2[1], p2[2], wires = 2)\n",
    "    return qml.expval.PauliZ(0), qml.expval.PauliZ(1), qml.expval.PauliZ(2) "
   ]
  },
  {
   "cell_type": "code",
   "execution_count": 30,
   "metadata": {},
   "outputs": [],
   "source": [
    "def cost6(var1,var2):\n",
    "    spins = circuit6(var1, var2)\n",
    "    energy = -(1*spins[0]*spins[1]) - (-1*spins[1]*spins[2])\n",
    "    return energy"
   ]
  },
  {
   "cell_type": "code",
   "execution_count": 31,
   "metadata": {},
   "outputs": [
    {
     "name": "stdout",
     "output_type": "stream",
     "text": [
      "tensor(0.0861, dtype=torch.float64, grad_fn=<SubBackward0>)\n"
     ]
    }
   ],
   "source": [
    "torch.manual_seed(157)\n",
    "pt3 = Variable((np.pi*torch.rand(3, dtype = torch.float64)), requires_grad = True)\n",
    "pt4 = Variable((np.pi*torch.rand(3, dtype = torch.float64)), requires_grad = True)\n",
    "var_init = [pt3, pt4]\n",
    "cost_init = cost6(pt3, pt4)\n",
    "print(cost_init)"
   ]
  },
  {
   "cell_type": "code",
   "execution_count": 32,
   "metadata": {},
   "outputs": [
    {
     "name": "stdout",
     "output_type": "stream",
     "text": [
      "Energy after step     5: -0.2897305 | Angles: [array([0.24952418, 1.24328243, 1.70128367]), array([1.14114072, 1.47128322, 2.07346266])] \n",
      "\n",
      "Energy after step    10: -0.7774905 | Angles: [array([0.24952418, 0.81764693, 1.70128367]), array([1.14114072, 1.70800868, 2.07346266])] \n",
      "\n",
      "Energy after step    15: -1.3514536 | Angles: [array([0.24952418, 0.43468725, 1.70128367]), array([1.14114072, 2.08291253, 2.07346266])] \n",
      "\n",
      "Energy after step    20: -1.7418127 | Angles: [array([0.24952418, 0.18328493, 1.70128367]), array([1.14114072, 2.45196744, 2.07346266])] \n",
      "\n",
      "Energy after step    25: -1.9081490 | Angles: [array([0.24952418, 0.06663017, 1.70128367]), array([1.14114072, 2.71988798, 2.07346266])] \n",
      "\n",
      "Energy after step    30: -1.9679099 | Angles: [array([0.24952418, 0.02268646, 1.70128367]), array([1.14114072, 2.88959546, 2.07346266])] \n",
      "\n",
      "Energy after step    35: -1.9888020 | Angles: [array([0.24952418, 0.0075359 , 1.70128367]), array([1.14114072, 2.99217894, 2.07346266])] \n",
      "\n",
      "Energy after step    40: -1.9960933 | Angles: [array([0.24952418, 0.00248121, 1.70128367]), array([1.14114072, 3.05323952, 2.07346266])] \n",
      "\n",
      "Energy after step    45: -1.9986374 | Angles: [array([2.49524183e-01, 8.14403876e-04, 1.70128367e+00]), array([1.14114072, 3.0893951 , 2.07346266])] \n",
      "\n",
      "Energy after step    50: -1.9995248 | Angles: [array([2.49524183e-01, 2.67019691e-04, 1.70128367e+00]), array([1.14114072, 3.11076519, 2.07346266])] \n",
      "\n",
      "Energy after step    55: -1.9998343 | Angles: [array([2.49524183e-01, 8.75148294e-05, 1.70128367e+00]), array([1.14114072, 3.12338825, 2.07346266])] \n",
      "\n",
      "Energy after step    60: -1.9999422 | Angles: [array([2.49524183e-01, 2.86788955e-05, 1.70128367e+00]), array([1.14114072, 3.13084291, 2.07346266])] \n",
      "\n",
      "Energy after step    65: -1.9999799 | Angles: [array([2.49524183e-01, 9.39773314e-06, 1.70128367e+00]), array([1.14114072, 3.13524499, 2.07346266])] \n",
      "\n",
      "Energy after step    70: -1.9999930 | Angles: [array([2.49524183e-01, 3.07947578e-06, 1.70128367e+00]), array([1.14114072, 3.13784441, 2.07346266])] \n",
      "\n",
      "Energy after step    75: -1.9999976 | Angles: [array([2.49524183e-01, 1.00908566e-06, 1.70128367e+00]), array([1.14114072, 3.13937935, 2.07346266])] \n",
      "\n",
      "Energy after step    80: -1.9999991 | Angles: [array([2.49524183e-01, 3.30657536e-07, 1.70128367e+00]), array([1.14114072, 3.14028572, 2.07346266])] \n",
      "\n",
      "Energy after step    85: -1.9999997 | Angles: [array([2.49524183e-01, 1.08349901e-07, 1.70128367e+00]), array([1.14114072, 3.14082092, 2.07346266])] \n",
      "\n",
      "Energy after step    90: -1.9999999 | Angles: [array([2.49524183e-01, 3.55041000e-08, 1.70128367e+00]), array([1.14114072, 3.14113695, 2.07346266])] \n",
      "\n",
      "Energy after step    95: -2.0000000 | Angles: [array([2.49524183e-01, 1.16339840e-08, 1.70128367e+00]), array([1.14114072, 3.14132357, 2.07346266])] \n",
      "\n",
      "Energy after step   100: -2.0000000 | Angles: [array([2.49524183e-01, 3.81222404e-09, 1.70128367e+00]), array([1.14114072, 3.14143376, 2.07346266])] \n",
      "\n"
     ]
    }
   ],
   "source": [
    "# optimizing using PyTorch optimizer \n",
    "\n",
    "opt = torch.optim.SGD(var_init, lr = 0.1)\n",
    "\n",
    "def closure():\n",
    "    opt.zero_grad()\n",
    "    loss = cost6(pt3, pt4)\n",
    "    loss.backward()\n",
    "    return loss\n",
    "\n",
    "\n",
    "var_pt = [var_init]\n",
    "cost_pt = [cost_init]\n",
    "\n",
    "for j in range(100):\n",
    "    opt.step(closure)\n",
    "    if (j + 1) % 5 == 0:\n",
    "        pt3, pt4= opt.param_groups[0]['params']\n",
    "        costn = cost6(pt3, pt4)\n",
    "        var_pt.append([pt3,pt4])\n",
    "        cost_pt.append(costn)\n",
    "        print('Energy after step {:5d}: {: .7f} | Angles: {}'.format(j+1,costn, [pt3.detach().numpy(), pt4.detach().numpy()]),\"\\n\")"
   ]
  },
  {
   "cell_type": "code",
   "execution_count": 33,
   "metadata": {},
   "outputs": [
    {
     "data": {
      "image/png": "[encoded data removed]",
      "text/plain": [
       "<Figure size 432x288 with 1 Axes>"
      ]
     },
     "metadata": {
      "needs_background": "light"
     },
     "output_type": "display_data"
    }
   ],
   "source": [
    "x = [0]\n",
    "for k in range(100):\n",
    "    if (k + 1) % 5 == 0:\n",
    "        x.append(k)\n",
    "        \n",
    "plt.plot(x, cost_gd, label = 'Pennylane')\n",
    "plt.plot(x, cost_tf, label = 'Tensorflow')\n",
    "plt.plot(x, cost_pt, label = 'PyTorch')\n",
    "plt.xlabel(\"steps\")\n",
    "plt.ylabel(\"Cost\")\n",
    "plt.legend()\n",
    "plt.show()"
   ]
  },
  {
   "cell_type": "markdown",
   "metadata": {},
   "source": [
    "When we initialize close to zero, the optimizers are more likely to get stuck in the local minimum. "
   ]
  },
  {
   "cell_type": "markdown",
   "metadata": {},
   "source": [
    "Try it yourself! Download and run this file with different initialization parameters and see how the results change.\n",
    "\n",
    "**Do not forget to restart the kernel before rerunning the file!** You will find the option in the `Kernel` tab in the top bar. This makes sure all the variables are cleared up and the optimizers are restarted.  "
   ]
  }
 ],
 "metadata": {
  "kernelspec": {
   "display_name": "Python 3",
   "language": "python",
   "name": "python3"
  },
  "language_info": {
   "codemirror_mode": {
    "name": "ipython",
    "version": 3
   },
   "file_extension": ".py",
   "mimetype": "text/x-python",
   "name": "python",
   "nbconvert_exporter": "python",
   "pygments_lexer": "ipython3",
   "version": "3.7.3"
  }
 },
 "nbformat": 4,
 "nbformat_minor": 2
}
