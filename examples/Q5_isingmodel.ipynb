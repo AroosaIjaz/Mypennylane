{
 "cells": [
  {
   "cell_type": "markdown",
   "metadata": {},
   "source": [
    "# Qubit Optimization for 3-qubit ising model. \n",
    "\n",
    "We will be comparing PennyLane's gradient descent optimizer with that of TensorFlow and PyTorch for the same quantum system. Ising model is an example of a system whose optimization landscape is non-convex and hence using gradient descent is not the best solution since the optimization can get stuck in local minimas. Quantum annealing (for example on D-wave system) can be used instead. \n",
    "\n",
    "The energy for this system is given by:\n",
    "$$ H=-\\sum_{<i,j>} J_{ij} \\sigma_i \\sigma_{j}$$\n",
    "\n",
    "where each spin can be in +1 or -1 state and $J_{ij}$ are nearest neighbour coupling strengths.\n",
    "\n",
    "For simplicity, we will assume that spin 1 is always in up state (+1 eigenstate of Pauli-Z operator)"
   ]
  },
  {
   "cell_type": "markdown",
   "metadata": {},
   "source": [
    "# PennyLane optimizer"
   ]
  },
  {
   "cell_type": "code",
   "execution_count": 1,
   "metadata": {},
   "outputs": [],
   "source": [
    "# import pennlane library\n",
    "\n",
    "import pennylane as qml\n",
    "from pennylane import numpy as np"
   ]
  },
  {
   "cell_type": "code",
   "execution_count": 2,
   "metadata": {},
   "outputs": [],
   "source": [
    "# create our three devices. \n",
    "\n",
    "dev1 = qml.device('default.qubit', wires = 3)\n",
    "dev2 = qml.device('default.qubit', wires = 3)\n",
    "dev3 = qml.device('default.qubit', wires = 3)"
   ]
  },
  {
   "cell_type": "code",
   "execution_count": 3,
   "metadata": {},
   "outputs": [],
   "source": [
    "# We use PennyLane's Rot(phi,theta,omega,wires) single qubit operation\n",
    "\n",
    "@qml.qnode(dev1)\n",
    "def circuit1(p1, p2):\n",
    "    qml.Rot(p1[0], p1[1], p1[2], wires = 1)\n",
    "    qml.Rot(p2[0], p2[1], p2[2], wires = 2)\n",
    "    return qml.expval.PauliZ(0), qml.expval.PauliZ(1), qml.expval.PauliZ(2) \n",
    "\n",
    "# the expectation value of pauliZ is plus 1 for spin up and -1 for spin down."
   ]
  },
  {
   "cell_type": "markdown",
   "metadata": {},
   "source": [
    "Our cost function is the energy of the spin configuration which we will optimize using gradient descent.\n",
    "\n",
    "Let the coupling matrix be J = [1,-1]"
   ]
  },
  {
   "cell_type": "code",
   "execution_count": 4,
   "metadata": {},
   "outputs": [],
   "source": [
    "def cost1(var):\n",
    "    spins = circuit1(var[0], var[1])\n",
    "    energy = -(1*spins[0]*spins[1]) - (-1*spins[1]*spins[2])\n",
    "    return energy"
   ]
  },
  {
   "cell_type": "markdown",
   "metadata": {},
   "source": [
    "Lets test these functions for [1,-1,-1] spin configuration. \n",
    "\n",
    "Total energy for this ising model should be\n",
    "\n",
    "$$H = -1(J_1 s_1 \\otimes s_2 + J_2 s_2 \\otimes s3) = -1 [1 \\times 1 \\times (-1) + (-1) \\times (-1) \\times (-1)] = 2 $$\n"
   ]
  },
  {
   "cell_type": "code",
   "execution_count": 5,
   "metadata": {
    "scrolled": true
   },
   "outputs": [
    {
     "name": "stdout",
     "output_type": "stream",
     "text": [
      "2.0\n"
     ]
    }
   ],
   "source": [
    "# You can easily guess the angles if you look at the Rot(phi,theta,omega)\n",
    "\n",
    "t1 = np.array([0, np.pi, 0])    #spin 2 in -1 state\n",
    "t2 = np.array([0, np.pi ,0])     #spin 3 in -1 state\n",
    "print(cost1([t1, t2]))"
   ]
  },
  {
   "cell_type": "markdown",
   "metadata": {},
   "source": [
    "Now we optimize using the Pennylane gradient descent optimizer\n"
   ]
  },
  {
   "cell_type": "code",
   "execution_count": 6,
   "metadata": {},
   "outputs": [
    {
     "name": "stdout",
     "output_type": "stream",
     "text": [
      "1.028953235226144\n"
     ]
    }
   ],
   "source": [
    "# initialize the parameters to some random values\n",
    "\n",
    "pl1 = np.pi*(np.random.ranf(3))\n",
    "pl2 = np.pi*(np.random.ranf(3))\n",
    "var_init = np.array([pl1, pl2])\n",
    "cost_init = cost1(var_init)\n",
    "print(cost_init)"
   ]
  },
  {
   "cell_type": "markdown",
   "metadata": {},
   "source": [
    "The minimun energy should be -2 for [1,1,-1] spin configuration which corresponds to the angles of [0,0,0] and [0,pi,0] for the spin 2 and spin 3 respectively. "
   ]
  },
  {
   "cell_type": "code",
   "execution_count": 7,
   "metadata": {},
   "outputs": [
    {
     "name": "stdout",
     "output_type": "stream",
     "text": [
      "Energy after step     5:  0.0179065 | Angles: [[1.47534672 1.63182145 0.22299125]\n",
      " [1.61637597 0.78641135 0.35448966]] \n",
      "\n",
      "Energy after step    10: -0.2597663 | Angles: [[1.47534672 1.01818317 0.22299125]\n",
      " [1.61637597 1.0412693  0.35448966]] \n",
      "\n",
      "Energy after step    15: -1.7753737 | Angles: [[1.47534672 0.08927856 0.22299125]\n",
      " [1.61637597 2.46942344 0.35448966]] \n",
      "\n",
      "Energy after step    20: -1.9983935 | Angles: [[1.47534672e+00 5.34255071e-05 2.22991250e-01]\n",
      " [1.61637597e+00 3.08490147e+00 3.54489658e-01]] \n",
      "\n",
      "Energy after step    25: -1.9999903 | Angles: [[1.47534672e+00 1.71816145e-08 2.22991250e-01]\n",
      " [1.61637597e+00 3.13718190e+00 3.54489658e-01]] \n",
      "\n",
      "Energy after step    30: -1.9999999 | Angles: [[1.47534672e+00 5.49842528e-12 2.22991250e-01]\n",
      " [1.61637597e+00 3.14124967e+00 3.54489658e-01]] \n",
      "\n",
      "Energy after step    35: -2.0000000 | Angles: [[1.47534672e+00 2.04706370e-15 2.22991250e-01]\n",
      " [1.61637597e+00 3.14156598e+00 3.54489658e-01]] \n",
      "\n",
      "Energy after step    40: -2.0000000 | Angles: [[ 1.47534672e+00 -2.90533513e-17  2.22991250e-01]\n",
      " [ 1.61637597e+00  3.14159058e+00  3.54489658e-01]] \n",
      "\n",
      "Energy after step    45: -2.0000000 | Angles: [[ 1.47534672e+00 -2.90533513e-17  2.22991250e-01]\n",
      " [ 1.61637597e+00  3.14159249e+00  3.54489658e-01]] \n",
      "\n",
      "Energy after step    50: -2.0000000 | Angles: [[ 1.47534672e+00 -2.90533513e-17  2.22991250e-01]\n",
      " [ 1.61637597e+00  3.14159264e+00  3.54489658e-01]] \n",
      "\n",
      "Energy after step    55: -2.0000000 | Angles: [[ 1.47534672e+00 -2.90533513e-17  2.22991250e-01]\n",
      " [ 1.61637597e+00  3.14159265e+00  3.54489658e-01]] \n",
      "\n",
      "Energy after step    60: -2.0000000 | Angles: [[ 1.47534672e+00 -2.90533513e-17  2.22991250e-01]\n",
      " [ 1.61637597e+00  3.14159265e+00  3.54489658e-01]] \n",
      "\n",
      "Energy after step    65: -2.0000000 | Angles: [[ 1.47534672e+00 -2.90533513e-17  2.22991250e-01]\n",
      " [ 1.61637597e+00  3.14159265e+00  3.54489658e-01]] \n",
      "\n",
      "Energy after step    70: -2.0000000 | Angles: [[ 1.47534672e+00 -2.90533513e-17  2.22991250e-01]\n",
      " [ 1.61637597e+00  3.14159265e+00  3.54489658e-01]] \n",
      "\n",
      "Energy after step    75: -2.0000000 | Angles: [[ 1.47534672e+00 -2.90533513e-17  2.22991250e-01]\n",
      " [ 1.61637597e+00  3.14159265e+00  3.54489658e-01]] \n",
      "\n",
      "Energy after step    80: -2.0000000 | Angles: [[ 1.47534672e+00 -2.90533513e-17  2.22991250e-01]\n",
      " [ 1.61637597e+00  3.14159265e+00  3.54489658e-01]] \n",
      "\n",
      "Energy after step    85: -2.0000000 | Angles: [[ 1.47534672e+00 -2.90533513e-17  2.22991250e-01]\n",
      " [ 1.61637597e+00  3.14159265e+00  3.54489658e-01]] \n",
      "\n",
      "Energy after step    90: -2.0000000 | Angles: [[ 1.47534672e+00 -2.90533513e-17  2.22991250e-01]\n",
      " [ 1.61637597e+00  3.14159265e+00  3.54489658e-01]] \n",
      "\n",
      "Energy after step    95: -2.0000000 | Angles: [[ 1.47534672e+00 -2.90533513e-17  2.22991250e-01]\n",
      " [ 1.61637597e+00  3.14159265e+00  3.54489658e-01]] \n",
      "\n",
      "Energy after step   100: -2.0000000 | Angles: [[ 1.47534672e+00 -2.90533513e-17  2.22991250e-01]\n",
      " [ 1.61637597e+00  3.14159265e+00  3.54489658e-01]] \n",
      "\n"
     ]
    }
   ],
   "source": [
    "gd = qml.GradientDescentOptimizer(0.4)\n",
    "\n",
    "var = var_init\n",
    "var_gd = [var]\n",
    "cost_gd = [cost_init]\n",
    "\n",
    "for it in range(100):\n",
    "    var = gd.step(cost1, var)\n",
    "    if (it + 1) % 5 == 0:\n",
    "        var_gd.append(var)\n",
    "        cost_gd.append (cost1(var))\n",
    "        print('Energy after step {:5d}: {: .7f} | Angles: {}'.format(it + 1, cost1(var), var),\"\\n\")"
   ]
  },
  {
   "cell_type": "markdown",
   "metadata": {},
   "source": [
    "# TensorFlow optimizer"
   ]
  },
  {
   "cell_type": "code",
   "execution_count": 8,
   "metadata": {},
   "outputs": [
    {
     "name": "stdout",
     "output_type": "stream",
     "text": [
      "True\n"
     ]
    }
   ],
   "source": [
    "# activate tenserflow \n",
    "import tensorflow as tf\n",
    "import tensorflow.contrib.eager as tfe\n",
    "\n",
    "# to suppress warnings from being printed\n",
    "tf.logging.set_verbosity(tf.logging.ERROR)\n",
    "\n",
    "# check if the eager tenserflow execution is working\n",
    "tf.enable_eager_execution()\n",
    "print(tf.executing_eagerly())"
   ]
  },
  {
   "cell_type": "code",
   "execution_count": 9,
   "metadata": {},
   "outputs": [],
   "source": [
    "@qml.qnode(dev2, interface = 'tfe')\n",
    "def circuit2(p1, p2):\n",
    "        qml.Rot(p1[0], p1[1], p1[2], wires = 1)\n",
    "        qml.Rot(p2[0], p2[1], p2[2], wires = 2)\n",
    "        return qml.expval.PauliZ(0), qml.expval.PauliZ(1), qml.expval.PauliZ(2)"
   ]
  },
  {
   "cell_type": "code",
   "execution_count": 10,
   "metadata": {},
   "outputs": [],
   "source": [
    "def cost2(var):\n",
    "    spins = circuit2(var[0], var[1])\n",
    "    energy = -(1*spins[0]*spins[1]) - (-1*spins[1]*spins[2])\n",
    "    return energy"
   ]
  },
  {
   "cell_type": "code",
   "execution_count": 11,
   "metadata": {},
   "outputs": [
    {
     "name": "stdout",
     "output_type": "stream",
     "text": [
      "tf.Tensor(2.0, shape=(), dtype=float64)\n"
     ]
    }
   ],
   "source": [
    "# let's test the functions for our known spin configuration [1,-1,-1]\n",
    "\n",
    "t1 = tfe.Variable([0, np.pi, 0], dtype = tf.float64)\n",
    "t2 = tfe.Variable([0, np.pi, 0], dtype = tf.float64)\n",
    "\n",
    "print(cost2([t1, t2]))"
   ]
  },
  {
   "cell_type": "code",
   "execution_count": 12,
   "metadata": {},
   "outputs": [
    {
     "name": "stdout",
     "output_type": "stream",
     "text": [
      "tf.Tensor(1.8679197472583424, shape=(), dtype=float64)\n"
     ]
    }
   ],
   "source": [
    "# initialize the parameters to some random values\n",
    "\n",
    "tf1 = tfe.Variable(tf.random_uniform([3], 0, np.pi, dtype = tf.float64))\n",
    "tf2 = tfe.Variable(tf.random_uniform([3], 0, np.pi, dtype = tf.float64))\n",
    "var_init = [tf1, tf2]\n",
    "cost_init = cost2(var_init)\n",
    "print(cost_init)"
   ]
  },
  {
   "cell_type": "code",
   "execution_count": 13,
   "metadata": {},
   "outputs": [
    {
     "name": "stdout",
     "output_type": "stream",
     "text": [
      "Energy after step     5:  1.6728937 | Angles: [array([0.85028182, 2.95344738, 1.83612168]), array([2.13759159, 2.35032726, 2.81962923])] \n",
      "\n",
      "Energy after step    10:  1.2791059 | Angles: [array([0.85028182, 2.7517307 , 1.83612168]), array([2.13759159, 1.96370247, 2.81962923])] \n",
      "\n",
      "Energy after step    15:  0.7559496 | Angles: [array([0.85028182, 2.46438327, 1.83612168]), array([2.13759159, 1.5407981 , 2.81962923])] \n",
      "\n",
      "Energy after step    20:  0.3608750 | Angles: [array([0.85028182, 2.17327417, 1.83612168]), array([2.13759159, 1.19911418, 2.81962923])] \n",
      "\n",
      "Energy after step    25:  0.1584600 | Angles: [array([0.85028182, 1.93352167, 1.83612168]), array([2.13759159, 0.98434133, 2.81962923])] \n",
      "\n",
      "Energy after step    30:  0.0599999 | Angles: [array([0.85028182, 1.73975788, 1.83612168]), array([2.13759159, 0.87213268, 2.81962923])] \n",
      "\n",
      "Energy after step    35: -0.0002232 | Angles: [array([0.85028182, 1.57011657, 1.83612168]), array([2.13759159, 0.83441415, 2.81962923])] \n",
      "\n",
      "Energy after step    40: -0.0573884 | Angles: [array([0.85028182, 1.40462214, 1.83612168]), array([2.13759159, 0.8591857 , 2.81962923])] \n",
      "\n",
      "Energy after step    45: -0.1419512 | Angles: [array([0.85028182, 1.22480122, 1.83612168]), array([2.13759159, 0.95031238, 2.81962923])] \n",
      "\n",
      "Energy after step    50: -0.3026183 | Angles: [array([0.85028182, 1.01132087, 1.83612168]), array([2.13759159, 1.12650282, 2.81962923])] \n",
      "\n",
      "Energy after step    55: -0.6182496 | Angles: [array([0.85028182, 0.74959775, 1.83612168]), array([2.13759159, 1.41481049, 2.81962923])] \n",
      "\n",
      "Energy after step    60: -1.1122375 | Angles: [array([0.85028182, 0.45930119, 1.83612168]), array([2.13759159, 1.81402186, 2.81962923])] \n",
      "\n",
      "Energy after step    65: -1.5798568 | Angles: [array([0.85028182, 0.21955241, 1.83612168]), array([2.13759159, 2.23790104, 2.81962923])] \n",
      "\n",
      "Energy after step    70: -1.8373084 | Angles: [array([0.85028182, 0.08572249, 1.83612168]), array([2.13759159, 2.57564295, 2.81962923])] \n",
      "\n",
      "Energy after step    75: -1.9414037 | Angles: [array([0.85028182, 0.03008494, 1.83612168]), array([2.13759159, 2.80017994, 2.81962923])] \n",
      "\n",
      "Energy after step    80: -1.9793400 | Angles: [array([0.85028182, 0.01010744, 1.83612168]), array([2.13759159, 2.9384682 , 2.81962923])] \n",
      "\n",
      "Energy after step    85: -1.9927664 | Angles: [array([0.85028182, 0.0033414 , 1.83612168]), array([2.13759159, 3.02133336, 2.81962923])] \n",
      "\n",
      "Energy after step    90: -1.9974739 | Angles: [array([8.50281820e-01, 1.09830871e-03, 1.83612168e+00]), array([2.13759159, 3.0705154 , 2.81962923])] \n",
      "\n",
      "Energy after step    95: -1.9991187 | Angles: [array([8.50281820e-01, 3.60283522e-04, 1.83612168e+00]), array([2.13759159, 3.09960878, 2.81962923])] \n",
      "\n",
      "Energy after step   100: -1.9996926 | Angles: [array([8.50281820e-01, 1.18102294e-04, 1.83612168e+00]), array([2.13759159, 3.11679882, 2.81962923])] \n",
      "\n"
     ]
    }
   ],
   "source": [
    "# optimize using tensorflow optimizer\n",
    "\n",
    "opt = tf.train.GradientDescentOptimizer(learning_rate=0.1)\n",
    "\n",
    "\n",
    "var = var_init\n",
    "var_tf = [var]\n",
    "cost_tf = [cost_init]\n",
    "\n",
    "for i in range(100):\n",
    "    with tf.GradientTape() as tape:\n",
    "        loss = cost2([tf1, tf2])\n",
    "        grads = tape.gradient(loss, [tf1, tf2])\n",
    "\n",
    "    opt.apply_gradients(zip(grads, [tf1, tf2]), global_step=tf.train.get_or_create_global_step())\n",
    "    if (i + 1) % 5 == 0:\n",
    "            var_tf.append([tf1,tf2])\n",
    "            cost_tf.append (cost2([tf1,tf2]))\n",
    "            print('Energy after step {:5d}: {: .7f} | Angles: {}'.format(i+1,cost2([tf1,tf2]), [tf1.numpy(),tf2.numpy()]),\"\\n\")"
   ]
  },
  {
   "cell_type": "markdown",
   "metadata": {},
   "source": [
    "# PyTorch optimizer"
   ]
  },
  {
   "cell_type": "code",
   "execution_count": 14,
   "metadata": {},
   "outputs": [],
   "source": [
    "import torch\n",
    "from torch.autograd import Variable"
   ]
  },
  {
   "cell_type": "code",
   "execution_count": 15,
   "metadata": {},
   "outputs": [],
   "source": [
    "@qml.qnode(dev3, interface = 'torch')\n",
    "def circuit3(p1, p2):\n",
    "    qml.Rot(p1[0], p1[1], p1[2], wires = 1)\n",
    "    qml.Rot(p2[0], p2[1], p2[2], wires = 2)\n",
    "    return qml.expval.PauliZ(0), qml.expval.PauliZ(1), qml.expval.PauliZ(2) "
   ]
  },
  {
   "cell_type": "code",
   "execution_count": 16,
   "metadata": {},
   "outputs": [],
   "source": [
    "def cost3(var1,var2):\n",
    "    spins = circuit3(var1, var2)\n",
    "    energy = -(1*spins[0]*spins[1]) - (-1*spins[1]*spins[2])\n",
    "    return energy"
   ]
  },
  {
   "cell_type": "code",
   "execution_count": 17,
   "metadata": {},
   "outputs": [
    {
     "name": "stdout",
     "output_type": "stream",
     "text": [
      "tensor(2.0000, dtype=torch.float64)\n"
     ]
    }
   ],
   "source": [
    "# let's test the functions for our known spin configuration [1,-1,-1]\n",
    "\n",
    "t1=torch.tensor([0, np.pi, 0])\n",
    "t2=torch.tensor([0, np.pi ,0])\n",
    "print(cost3(t1, t2))"
   ]
  },
  {
   "cell_type": "code",
   "execution_count": 19,
   "metadata": {},
   "outputs": [
    {
     "name": "stdout",
     "output_type": "stream",
     "text": [
      "tensor(1.2928, dtype=torch.float64, grad_fn=<SubBackward0>)\n"
     ]
    }
   ],
   "source": [
    "pt1 = Variable((np.pi*torch.rand(3, dtype = torch.float64)), requires_grad = True)\n",
    "pt2 = Variable((np.pi*torch.rand(3, dtype = torch.float64)), requires_grad = True)\n",
    "var_init = [pt1, pt2]\n",
    "cost_init = cost3(pt1, pt2)\n",
    "print(cost_init)"
   ]
  },
  {
   "cell_type": "code",
   "execution_count": 20,
   "metadata": {},
   "outputs": [
    {
     "name": "stdout",
     "output_type": "stream",
     "text": [
      "Energy after step     5:  0.5820733 | Angles: [array([2.44725536, 2.28167564, 1.93659711]), array([0.4948148 , 1.4626516 , 1.84409681])] \n",
      "\n",
      "Energy after step    10:  0.0949101 | Angles: [array([2.44725536, 1.77940906, 1.93659711]), array([0.4948148 , 0.99830823, 1.84409681])] \n",
      "\n",
      "Energy after step    15: -0.0529666 | Angles: [array([2.44725536, 1.31841206, 1.93659711]), array([0.4948148 , 0.66342056, 1.84409681])] \n",
      "\n",
      "Energy after step    20: -0.0812877 | Angles: [array([2.44725536, 0.94308542, 1.93659711]), array([0.4948148 , 0.53240393, 1.84409681])] \n",
      "\n",
      "Energy after step    25: -0.1388385 | Angles: [array([2.44725536, 0.65154661, 1.93659711]), array([0.4948148 , 0.59989891, 1.84409681])] \n",
      "\n",
      "Energy after step    30: -0.3129354 | Angles: [array([2.44725536, 0.41074694, 1.93659711]), array([0.4948148 , 0.85174105, 1.84409681])] \n",
      "\n",
      "Energy after step    35: -0.6964396 | Angles: [array([2.44725536, 0.18458223, 1.93659711]), array([0.4948148 , 1.2749751 , 1.84409681])] \n",
      "\n",
      "Energy after step    40: -1.2495176 | Angles: [array([ 2.44725536, -0.02348198,  1.93659711]), array([0.4948148 , 1.82333422, 1.84409681])] \n",
      "\n",
      "Energy after step    45: -1.7378459 | Angles: [array([ 2.44725536, -0.12578069,  1.93659711]), array([0.4948148 , 2.42140822, 1.84409681])] \n",
      "\n",
      "Energy after step    50: -1.9818556 | Angles: [array([ 2.44725536, -0.06109569,  1.93659711]), array([0.4948148 , 2.97144767, 1.84409681])] \n",
      "\n",
      "Energy after step    55: -1.9736351 | Angles: [array([2.44725536, 0.04748849, 1.93659711]), array([0.4948148 , 3.36175233, 1.84409681])] \n",
      "\n",
      "Energy after step    60: -1.9231643 | Angles: [array([2.44725536, 0.05719213, 1.93659711]), array([0.4948148 , 3.5278809 , 1.84409681])] \n",
      "\n",
      "Energy after step    65: -1.9368912 | Angles: [array([ 2.44725536, -0.00608176,  1.93659711]), array([0.4948148 , 3.49865672, 1.84409681])] \n",
      "\n",
      "Energy after step    70: -1.9754169 | Angles: [array([ 2.44725536, -0.03658023,  1.9365971 ]), array([0.4948148 , 3.35770098, 1.84409681])] \n",
      "\n",
      "Energy after step    75: -1.9985531 | Angles: [array([ 2.44725536, -0.00711708,  1.9365971 ]), array([0.4948148 , 3.19444395, 1.84409681])] \n",
      "\n",
      "Energy after step    80: -1.9973927 | Angles: [array([2.44725536, 0.02026964, 1.9365971 ]), array([0.4948148 , 3.07529488, 1.84409681])] \n",
      "\n",
      "Energy after step    85: -1.9935302 | Angles: [array([2.44725536, 0.00850642, 1.9365971 ]), array([0.4948148 , 3.02841541, 1.84409681])] \n",
      "\n",
      "Energy after step    90: -1.9952065 | Angles: [array([ 2.44725536, -0.0107014 ,  1.9365971 ]), array([0.4948148 , 3.04481551, 1.84409681])] \n",
      "\n",
      "Energy after step    95: -1.9988306 | Angles: [array([ 2.44725536, -0.00659062,  1.9365971 ]), array([0.4948148 , 3.09413218, 1.84409681])] \n",
      "\n",
      "Energy after step   100: -1.9999647 | Angles: [array([2.44725536, 0.00572729, 1.9365971 ]), array([0.4948148 , 3.14381911, 1.84409681])] \n",
      "\n"
     ]
    }
   ],
   "source": [
    "# optimizing using PyTorch optimizer \n",
    "\n",
    "opt = torch.optim.Adam(var_init, lr = 0.1)\n",
    "\n",
    "def closure():\n",
    "    opt.zero_grad()\n",
    "    loss = cost3(pt1, pt2)\n",
    "    loss.backward()\n",
    "    return loss\n",
    "\n",
    "\n",
    "var_pt = [var_init]\n",
    "cost_pt = [cost_init]\n",
    "\n",
    "for j in range(100):\n",
    "    opt.step(closure)\n",
    "    if (j + 1) % 5 == 0:\n",
    "        pt1, pt2 = opt.param_groups[0]['params']\n",
    "        costn = cost3(pt1, pt2)\n",
    "        var_pt.append([pt1,pt2])\n",
    "        cost_pt.append(costn)\n",
    "        print('Energy after step {:5d}: {: .7f} | Angles: {}'.format(j+1,costn, [pt1.detach().numpy(), pt2.detach().numpy()]),\"\\n\")"
   ]
  },
  {
   "cell_type": "code",
   "execution_count": 21,
   "metadata": {},
   "outputs": [],
   "source": [
    "import matplotlib.pyplot as plt\n",
    "%matplotlib inline"
   ]
  },
  {
   "cell_type": "code",
   "execution_count": 22,
   "metadata": {},
   "outputs": [],
   "source": [
    "x = [0]\n",
    "for k in range(100):\n",
    "    if (k + 1) % 5 == 0:\n",
    "        x.append(k)"
   ]
  },
  {
   "cell_type": "code",
   "execution_count": 23,
   "metadata": {},
   "outputs": [
    {
     "data": {
      "image/png": "[encoded data removed]",
      "text/plain": [
       "<Figure size 432x288 with 1 Axes>"
      ]
     },
     "metadata": {
      "needs_background": "light"
     },
     "output_type": "display_data"
    }
   ],
   "source": [
    "plt.plot(x, cost_gd, label = 'Pennylane')\n",
    "plt.plot(x, cost_tf, label = 'Tensorflow')\n",
    "plt.plot(x, cost_pt, label = 'PyTorch')\n",
    "plt.xlabel(\"steps\")\n",
    "plt.ylabel(\"Cost\")\n",
    "plt.legend()\n",
    "plt.show()"
   ]
  },
  {
   "cell_type": "markdown",
   "metadata": {},
   "source": [
    "As we use random intialization for all three optimizers, in some runs, you will see one or more of the optimizers getting stuck in a local minima of energy (usually zero energy). Try it! Try running this file multiple times and see how the results change. \n",
    "\n",
    "**Do not forget to restart the kernel before rerunning the file! You will find the option in the `Kernel` tab in the top bar.** This makes sure all the variables are cleared up and the optimizers are restarted.  "
   ]
  }
 ],
 "metadata": {
  "kernelspec": {
   "display_name": "Python 3",
   "language": "python",
   "name": "python3"
  },
  "language_info": {
   "codemirror_mode": {
    "name": "ipython",
    "version": 3
   },
   "file_extension": ".py",
   "mimetype": "text/x-python",
   "name": "python",
   "nbconvert_exporter": "python",
   "pygments_lexer": "ipython3",
   "version": "3.7.3"
  }
 },
 "nbformat": 4,
 "nbformat_minor": 2
}
